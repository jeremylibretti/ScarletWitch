{
 "cells": [
  {
   "cell_type": "code",
   "execution_count": 1,
   "metadata": {},
   "outputs": [],
   "source": [
    "import csv\n",
    "\n",
    "import numpy as np\n",
    "import tensorflow as tf\n",
    "from sklearn.model_selection import train_test_split\n",
    "\n",
    "RANDOM_SEED = 42"
   ]
  },
  {
   "cell_type": "markdown",
   "metadata": {},
   "source": [
    "# Specify paths"
   ]
  },
  {
   "cell_type": "code",
   "execution_count": 2,
   "metadata": {},
   "outputs": [],
   "source": [
    "dataset = 'model/point_history_classifier/point_history.csv'\n",
    "model_save_path = 'model/point_history_classifier/point_history_classifier.hdf5'"
   ]
  },
  {
   "cell_type": "markdown",
   "metadata": {},
   "source": [
    "# Set number of classes"
   ]
  },
  {
   "cell_type": "code",
   "execution_count": 3,
   "metadata": {},
   "outputs": [],
   "source": [
    "NUM_CLASSES = 2"
   ]
  },
  {
   "cell_type": "markdown",
   "metadata": {},
   "source": [
    "# Input length"
   ]
  },
  {
   "cell_type": "code",
   "execution_count": 4,
   "metadata": {},
   "outputs": [],
   "source": [
    "TIME_STEPS = 16\n",
    "DIMENSION = 2"
   ]
  },
  {
   "cell_type": "markdown",
   "metadata": {},
   "source": [
    "# Load dataset"
   ]
  },
  {
   "cell_type": "code",
   "execution_count": 5,
   "metadata": {},
   "outputs": [],
   "source": [
    "X_dataset = np.loadtxt(dataset, delimiter=',', dtype='float32', usecols=list(range(1, (TIME_STEPS * DIMENSION) + 1)))"
   ]
  },
  {
   "cell_type": "code",
   "execution_count": 6,
   "metadata": {},
   "outputs": [],
   "source": [
    "y_dataset = np.loadtxt(dataset, delimiter=',', dtype='int32', usecols=(0))"
   ]
  },
  {
   "cell_type": "code",
   "execution_count": 7,
   "metadata": {},
   "outputs": [],
   "source": [
    "X_train, X_test, y_train, y_test = train_test_split(X_dataset, y_dataset, train_size=0.75, random_state=RANDOM_SEED)"
   ]
  },
  {
   "cell_type": "markdown",
   "metadata": {},
   "source": [
    "# Model building"
   ]
  },
  {
   "cell_type": "code",
   "execution_count": 8,
   "metadata": {},
   "outputs": [],
   "source": [
    "use_lstm = False\n",
    "model = None\n",
    "\n",
    "if use_lstm:\n",
    "    model = tf.keras.models.Sequential([\n",
    "        tf.keras.layers.InputLayer(input_shape=(TIME_STEPS * DIMENSION, )),\n",
    "        tf.keras.layers.Reshape((TIME_STEPS, DIMENSION), input_shape=(TIME_STEPS * DIMENSION, )), \n",
    "        tf.keras.layers.Dropout(0.2),\n",
    "        tf.keras.layers.LSTM(16, input_shape=[TIME_STEPS, DIMENSION]),\n",
    "        tf.keras.layers.Dropout(0.5),\n",
    "        tf.keras.layers.Dense(10, activation='relu'),\n",
    "        tf.keras.layers.Dense(NUM_CLASSES, activation='softmax')\n",
    "    ])\n",
    "else:\n",
    "    model = tf.keras.models.Sequential([\n",
    "        tf.keras.layers.InputLayer(input_shape=(TIME_STEPS * DIMENSION, )),\n",
    "        tf.keras.layers.Dropout(0.2),\n",
    "        tf.keras.layers.Dense(24, activation='relu'),\n",
    "        tf.keras.layers.Dropout(0.5),\n",
    "        tf.keras.layers.Dense(10, activation='relu'),\n",
    "        tf.keras.layers.Dense(NUM_CLASSES, activation='softmax')\n",
    "    ])"
   ]
  },
  {
   "cell_type": "code",
   "execution_count": 9,
   "metadata": {},
   "outputs": [
    {
     "name": "stdout",
     "output_type": "stream",
     "text": [
      "Model: \"sequential\"\n",
      "_________________________________________________________________\n",
      "Layer (type)                 Output Shape              Param #   \n",
      "=================================================================\n",
      "dropout (Dropout)            (None, 32)                0         \n",
      "_________________________________________________________________\n",
      "dense (Dense)                (None, 24)                792       \n",
      "_________________________________________________________________\n",
      "dropout_1 (Dropout)          (None, 24)                0         \n",
      "_________________________________________________________________\n",
      "dense_1 (Dense)              (None, 10)                250       \n",
      "_________________________________________________________________\n",
      "dense_2 (Dense)              (None, 2)                 22        \n",
      "=================================================================\n",
      "Total params: 1,064\n",
      "Trainable params: 1,064\n",
      "Non-trainable params: 0\n",
      "_________________________________________________________________\n"
     ]
    }
   ],
   "source": [
    "model.summary()  # tf.keras.utils.plot_model(model, show_shapes=True)"
   ]
  },
  {
   "cell_type": "code",
   "execution_count": 10,
   "metadata": {},
   "outputs": [],
   "source": [
    "# Model checkpoint callback\n",
    "cp_callback = tf.keras.callbacks.ModelCheckpoint(\n",
    "    model_save_path, verbose=1, save_weights_only=False)\n",
    "# Callback for early stopping\n",
    "es_callback = tf.keras.callbacks.EarlyStopping(patience=20, verbose=1)"
   ]
  },
  {
   "cell_type": "code",
   "execution_count": 11,
   "metadata": {},
   "outputs": [],
   "source": [
    "# Model compilation\n",
    "model.compile(\n",
    "    optimizer='adam',\n",
    "    loss='sparse_categorical_crossentropy',\n",
    "    metrics=['accuracy']\n",
    ")"
   ]
  },
  {
   "cell_type": "markdown",
   "metadata": {},
   "source": [
    "# Model training"
   ]
  },
  {
   "cell_type": "code",
   "execution_count": 12,
   "metadata": {
    "scrolled": true
   },
   "outputs": [
    {
     "name": "stdout",
     "output_type": "stream",
     "text": [
      "Epoch 1/1000\n",
      "6/6 [==============================] - 1s 43ms/step - loss: 0.6640 - accuracy: 0.6237 - val_loss: 0.6276 - val_accuracy: 0.7926\n",
      "\n",
      "Epoch 00001: saving model to model/point_history_classifier\\point_history_classifier.hdf5\n",
      "Epoch 2/1000\n",
      "6/6 [==============================] - 0s 13ms/step - loss: 0.6513 - accuracy: 0.7020 - val_loss: 0.5990 - val_accuracy: 0.8065\n",
      "\n",
      "Epoch 00002: saving model to model/point_history_classifier\\point_history_classifier.hdf5\n",
      "Epoch 3/1000\n",
      "6/6 [==============================] - 0s 14ms/step - loss: 0.6041 - accuracy: 0.7588 - val_loss: 0.5769 - val_accuracy: 0.8111\n",
      "\n",
      "Epoch 00003: saving model to model/point_history_classifier\\point_history_classifier.hdf5\n",
      "Epoch 4/1000\n",
      "6/6 [==============================] - 0s 19ms/step - loss: 0.5806 - accuracy: 0.7819 - val_loss: 0.5577 - val_accuracy: 0.8111\n",
      "\n",
      "Epoch 00004: saving model to model/point_history_classifier\\point_history_classifier.hdf5\n",
      "Epoch 5/1000\n",
      "6/6 [==============================] - 0s 20ms/step - loss: 0.5563 - accuracy: 0.7972 - val_loss: 0.5404 - val_accuracy: 0.8111\n",
      "\n",
      "Epoch 00005: saving model to model/point_history_classifier\\point_history_classifier.hdf5\n",
      "Epoch 6/1000\n",
      "6/6 [==============================] - 0s 29ms/step - loss: 0.5413 - accuracy: 0.8095 - val_loss: 0.5279 - val_accuracy: 0.8111\n",
      "\n",
      "Epoch 00006: saving model to model/point_history_classifier\\point_history_classifier.hdf5\n",
      "Epoch 7/1000\n",
      "6/6 [==============================] - 0s 15ms/step - loss: 0.5539 - accuracy: 0.8095 - val_loss: 0.5201 - val_accuracy: 0.8111\n",
      "\n",
      "Epoch 00007: saving model to model/point_history_classifier\\point_history_classifier.hdf5\n",
      "Epoch 8/1000\n",
      "6/6 [==============================] - 0s 12ms/step - loss: 0.5441 - accuracy: 0.8157 - val_loss: 0.5143 - val_accuracy: 0.8111\n",
      "\n",
      "Epoch 00008: saving model to model/point_history_classifier\\point_history_classifier.hdf5\n",
      "Epoch 9/1000\n",
      "6/6 [==============================] - 0s 13ms/step - loss: 0.5318 - accuracy: 0.8157 - val_loss: 0.5087 - val_accuracy: 0.8111\n",
      "\n",
      "Epoch 00009: saving model to model/point_history_classifier\\point_history_classifier.hdf5\n",
      "Epoch 10/1000\n",
      "6/6 [==============================] - 0s 9ms/step - loss: 0.5362 - accuracy: 0.8157 - val_loss: 0.5028 - val_accuracy: 0.8111\n",
      "\n",
      "Epoch 00010: saving model to model/point_history_classifier\\point_history_classifier.hdf5\n",
      "Epoch 11/1000\n",
      "6/6 [==============================] - 0s 14ms/step - loss: 0.5143 - accuracy: 0.8157 - val_loss: 0.4979 - val_accuracy: 0.8111\n",
      "\n",
      "Epoch 00011: saving model to model/point_history_classifier\\point_history_classifier.hdf5\n",
      "Epoch 12/1000\n",
      "6/6 [==============================] - 0s 8ms/step - loss: 0.5107 - accuracy: 0.8157 - val_loss: 0.4932 - val_accuracy: 0.8111\n",
      "\n",
      "Epoch 00012: saving model to model/point_history_classifier\\point_history_classifier.hdf5\n",
      "Epoch 13/1000\n",
      "6/6 [==============================] - 0s 19ms/step - loss: 0.5109 - accuracy: 0.8157 - val_loss: 0.4889 - val_accuracy: 0.8111\n",
      "\n",
      "Epoch 00013: saving model to model/point_history_classifier\\point_history_classifier.hdf5\n",
      "Epoch 14/1000\n",
      "6/6 [==============================] - 0s 12ms/step - loss: 0.5075 - accuracy: 0.8157 - val_loss: 0.4837 - val_accuracy: 0.8111\n",
      "\n",
      "Epoch 00014: saving model to model/point_history_classifier\\point_history_classifier.hdf5\n",
      "Epoch 15/1000\n",
      "6/6 [==============================] - 0s 12ms/step - loss: 0.5125 - accuracy: 0.8157 - val_loss: 0.4790 - val_accuracy: 0.8111\n",
      "\n",
      "Epoch 00015: saving model to model/point_history_classifier\\point_history_classifier.hdf5\n",
      "Epoch 16/1000\n",
      "6/6 [==============================] - 0s 15ms/step - loss: 0.5073 - accuracy: 0.8157 - val_loss: 0.4742 - val_accuracy: 0.8111\n",
      "\n",
      "Epoch 00016: saving model to model/point_history_classifier\\point_history_classifier.hdf5\n",
      "Epoch 17/1000\n",
      "6/6 [==============================] - 0s 15ms/step - loss: 0.5104 - accuracy: 0.8157 - val_loss: 0.4699 - val_accuracy: 0.8111\n",
      "\n",
      "Epoch 00017: saving model to model/point_history_classifier\\point_history_classifier.hdf5\n",
      "Epoch 18/1000\n",
      "6/6 [==============================] - 0s 10ms/step - loss: 0.4813 - accuracy: 0.8157 - val_loss: 0.4669 - val_accuracy: 0.8111\n",
      "\n",
      "Epoch 00018: saving model to model/point_history_classifier\\point_history_classifier.hdf5\n",
      "Epoch 19/1000\n",
      "6/6 [==============================] - 0s 10ms/step - loss: 0.4920 - accuracy: 0.8157 - val_loss: 0.4639 - val_accuracy: 0.8111\n",
      "\n",
      "Epoch 00019: saving model to model/point_history_classifier\\point_history_classifier.hdf5\n",
      "Epoch 20/1000\n",
      "6/6 [==============================] - 0s 18ms/step - loss: 0.4882 - accuracy: 0.8157 - val_loss: 0.4606 - val_accuracy: 0.8111\n",
      "\n",
      "Epoch 00020: saving model to model/point_history_classifier\\point_history_classifier.hdf5\n",
      "Epoch 21/1000\n",
      "6/6 [==============================] - 0s 13ms/step - loss: 0.4860 - accuracy: 0.8157 - val_loss: 0.4574 - val_accuracy: 0.8111\n",
      "\n",
      "Epoch 00021: saving model to model/point_history_classifier\\point_history_classifier.hdf5\n",
      "Epoch 22/1000\n",
      "6/6 [==============================] - 0s 8ms/step - loss: 0.4730 - accuracy: 0.8157 - val_loss: 0.4531 - val_accuracy: 0.8111\n",
      "\n",
      "Epoch 00022: saving model to model/point_history_classifier\\point_history_classifier.hdf5\n",
      "Epoch 23/1000\n",
      "6/6 [==============================] - 0s 9ms/step - loss: 0.4702 - accuracy: 0.8157 - val_loss: 0.4498 - val_accuracy: 0.8111\n",
      "\n",
      "Epoch 00023: saving model to model/point_history_classifier\\point_history_classifier.hdf5\n",
      "Epoch 24/1000\n",
      "6/6 [==============================] - 0s 12ms/step - loss: 0.4759 - accuracy: 0.8157 - val_loss: 0.4470 - val_accuracy: 0.8111\n",
      "\n",
      "Epoch 00024: saving model to model/point_history_classifier\\point_history_classifier.hdf5\n",
      "Epoch 25/1000\n",
      "6/6 [==============================] - 0s 16ms/step - loss: 0.4776 - accuracy: 0.8157 - val_loss: 0.4451 - val_accuracy: 0.8111\n",
      "\n",
      "Epoch 00025: saving model to model/point_history_classifier\\point_history_classifier.hdf5\n",
      "Epoch 26/1000\n",
      "6/6 [==============================] - 0s 9ms/step - loss: 0.4647 - accuracy: 0.8157 - val_loss: 0.4429 - val_accuracy: 0.8111\n",
      "\n",
      "Epoch 00026: saving model to model/point_history_classifier\\point_history_classifier.hdf5\n",
      "Epoch 27/1000\n",
      "6/6 [==============================] - 0s 10ms/step - loss: 0.4696 - accuracy: 0.8157 - val_loss: 0.4404 - val_accuracy: 0.8111\n",
      "\n",
      "Epoch 00027: saving model to model/point_history_classifier\\point_history_classifier.hdf5\n",
      "Epoch 28/1000\n",
      "6/6 [==============================] - 0s 12ms/step - loss: 0.4689 - accuracy: 0.8157 - val_loss: 0.4383 - val_accuracy: 0.8111\n",
      "\n",
      "Epoch 00028: saving model to model/point_history_classifier\\point_history_classifier.hdf5\n",
      "Epoch 29/1000\n",
      "6/6 [==============================] - 0s 14ms/step - loss: 0.4515 - accuracy: 0.8157 - val_loss: 0.4362 - val_accuracy: 0.8111\n",
      "\n",
      "Epoch 00029: saving model to model/point_history_classifier\\point_history_classifier.hdf5\n",
      "Epoch 30/1000\n",
      "6/6 [==============================] - 0s 9ms/step - loss: 0.4529 - accuracy: 0.8157 - val_loss: 0.4342 - val_accuracy: 0.8111\n",
      "\n",
      "Epoch 00030: saving model to model/point_history_classifier\\point_history_classifier.hdf5\n",
      "Epoch 31/1000\n",
      "6/6 [==============================] - 0s 16ms/step - loss: 0.4580 - accuracy: 0.8157 - val_loss: 0.4324 - val_accuracy: 0.8111\n",
      "\n",
      "Epoch 00031: saving model to model/point_history_classifier\\point_history_classifier.hdf5\n",
      "Epoch 32/1000\n",
      "6/6 [==============================] - 0s 16ms/step - loss: 0.4634 - accuracy: 0.8157 - val_loss: 0.4312 - val_accuracy: 0.8111\n",
      "\n",
      "Epoch 00032: saving model to model/point_history_classifier\\point_history_classifier.hdf5\n",
      "Epoch 33/1000\n",
      "6/6 [==============================] - 0s 12ms/step - loss: 0.4555 - accuracy: 0.8157 - val_loss: 0.4288 - val_accuracy: 0.8111\n",
      "\n",
      "Epoch 00033: saving model to model/point_history_classifier\\point_history_classifier.hdf5\n",
      "Epoch 34/1000\n",
      "6/6 [==============================] - 0s 14ms/step - loss: 0.4575 - accuracy: 0.8157 - val_loss: 0.4257 - val_accuracy: 0.8111\n",
      "\n",
      "Epoch 00034: saving model to model/point_history_classifier\\point_history_classifier.hdf5\n",
      "Epoch 35/1000\n",
      "6/6 [==============================] - 0s 16ms/step - loss: 0.4473 - accuracy: 0.8157 - val_loss: 0.4249 - val_accuracy: 0.8111\n",
      "\n",
      "Epoch 00035: saving model to model/point_history_classifier\\point_history_classifier.hdf5\n",
      "Epoch 36/1000\n",
      "6/6 [==============================] - 0s 10ms/step - loss: 0.4525 - accuracy: 0.8157 - val_loss: 0.4227 - val_accuracy: 0.8111\n",
      "\n",
      "Epoch 00036: saving model to model/point_history_classifier\\point_history_classifier.hdf5\n",
      "Epoch 37/1000\n",
      "6/6 [==============================] - 0s 9ms/step - loss: 0.4415 - accuracy: 0.8157 - val_loss: 0.4195 - val_accuracy: 0.8111\n",
      "\n",
      "Epoch 00037: saving model to model/point_history_classifier\\point_history_classifier.hdf5\n",
      "Epoch 38/1000\n",
      "6/6 [==============================] - 0s 13ms/step - loss: 0.4518 - accuracy: 0.8157 - val_loss: 0.4170 - val_accuracy: 0.8111\n",
      "\n",
      "Epoch 00038: saving model to model/point_history_classifier\\point_history_classifier.hdf5\n",
      "Epoch 39/1000\n",
      "6/6 [==============================] - 0s 10ms/step - loss: 0.4440 - accuracy: 0.8157 - val_loss: 0.4147 - val_accuracy: 0.8111\n",
      "\n",
      "Epoch 00039: saving model to model/point_history_classifier\\point_history_classifier.hdf5\n",
      "Epoch 40/1000\n",
      "6/6 [==============================] - 0s 10ms/step - loss: 0.4518 - accuracy: 0.8157 - val_loss: 0.4126 - val_accuracy: 0.8111\n",
      "\n",
      "Epoch 00040: saving model to model/point_history_classifier\\point_history_classifier.hdf5\n",
      "Epoch 41/1000\n",
      "6/6 [==============================] - 0s 15ms/step - loss: 0.4261 - accuracy: 0.8157 - val_loss: 0.4125 - val_accuracy: 0.8111\n",
      "\n",
      "Epoch 00041: saving model to model/point_history_classifier\\point_history_classifier.hdf5\n",
      "Epoch 42/1000\n",
      "6/6 [==============================] - 0s 8ms/step - loss: 0.4459 - accuracy: 0.8157 - val_loss: 0.4134 - val_accuracy: 0.8111\n",
      "\n",
      "Epoch 00042: saving model to model/point_history_classifier\\point_history_classifier.hdf5\n",
      "Epoch 43/1000\n",
      "6/6 [==============================] - 0s 9ms/step - loss: 0.4430 - accuracy: 0.8157 - val_loss: 0.4125 - val_accuracy: 0.8111\n",
      "\n",
      "Epoch 00043: saving model to model/point_history_classifier\\point_history_classifier.hdf5\n",
      "Epoch 44/1000\n",
      "6/6 [==============================] - 0s 9ms/step - loss: 0.4425 - accuracy: 0.8157 - val_loss: 0.4089 - val_accuracy: 0.8111\n",
      "\n",
      "Epoch 00044: saving model to model/point_history_classifier\\point_history_classifier.hdf5\n",
      "Epoch 45/1000\n",
      "6/6 [==============================] - 0s 10ms/step - loss: 0.4421 - accuracy: 0.8157 - val_loss: 0.4031 - val_accuracy: 0.8111\n",
      "\n",
      "Epoch 00045: saving model to model/point_history_classifier\\point_history_classifier.hdf5\n",
      "Epoch 46/1000\n",
      "6/6 [==============================] - 0s 10ms/step - loss: 0.4295 - accuracy: 0.8157 - val_loss: 0.3995 - val_accuracy: 0.8111\n",
      "\n",
      "Epoch 00046: saving model to model/point_history_classifier\\point_history_classifier.hdf5\n",
      "Epoch 47/1000\n",
      "6/6 [==============================] - 0s 9ms/step - loss: 0.4325 - accuracy: 0.8157 - val_loss: 0.3969 - val_accuracy: 0.8111\n",
      "\n",
      "Epoch 00047: saving model to model/point_history_classifier\\point_history_classifier.hdf5\n",
      "Epoch 48/1000\n",
      "6/6 [==============================] - 0s 8ms/step - loss: 0.4268 - accuracy: 0.8157 - val_loss: 0.3950 - val_accuracy: 0.8111\n",
      "\n",
      "Epoch 00048: saving model to model/point_history_classifier\\point_history_classifier.hdf5\n",
      "Epoch 49/1000\n",
      "6/6 [==============================] - 0s 8ms/step - loss: 0.4417 - accuracy: 0.8157 - val_loss: 0.3949 - val_accuracy: 0.8111\n",
      "\n",
      "Epoch 00049: saving model to model/point_history_classifier\\point_history_classifier.hdf5\n",
      "Epoch 50/1000\n",
      "6/6 [==============================] - 0s 10ms/step - loss: 0.4314 - accuracy: 0.8157 - val_loss: 0.3935 - val_accuracy: 0.8111\n",
      "\n",
      "Epoch 00050: saving model to model/point_history_classifier\\point_history_classifier.hdf5\n",
      "Epoch 51/1000\n",
      "6/6 [==============================] - 0s 16ms/step - loss: 0.4233 - accuracy: 0.8157 - val_loss: 0.3930 - val_accuracy: 0.8111\n",
      "\n",
      "Epoch 00051: saving model to model/point_history_classifier\\point_history_classifier.hdf5\n",
      "Epoch 52/1000\n",
      "6/6 [==============================] - 0s 10ms/step - loss: 0.4261 - accuracy: 0.8157 - val_loss: 0.3926 - val_accuracy: 0.8111\n",
      "\n",
      "Epoch 00052: saving model to model/point_history_classifier\\point_history_classifier.hdf5\n",
      "Epoch 53/1000\n",
      "6/6 [==============================] - 0s 8ms/step - loss: 0.4197 - accuracy: 0.8157 - val_loss: 0.3908 - val_accuracy: 0.8111\n",
      "\n",
      "Epoch 00053: saving model to model/point_history_classifier\\point_history_classifier.hdf5\n",
      "Epoch 54/1000\n",
      "6/6 [==============================] - 0s 10ms/step - loss: 0.4264 - accuracy: 0.8157 - val_loss: 0.3879 - val_accuracy: 0.8111\n",
      "\n",
      "Epoch 00054: saving model to model/point_history_classifier\\point_history_classifier.hdf5\n",
      "Epoch 55/1000\n",
      "6/6 [==============================] - 0s 9ms/step - loss: 0.4270 - accuracy: 0.8157 - val_loss: 0.3866 - val_accuracy: 0.8111\n",
      "\n",
      "Epoch 00055: saving model to model/point_history_classifier\\point_history_classifier.hdf5\n",
      "Epoch 56/1000\n",
      "6/6 [==============================] - 0s 13ms/step - loss: 0.4308 - accuracy: 0.8157 - val_loss: 0.3872 - val_accuracy: 0.8111\n",
      "\n",
      "Epoch 00056: saving model to model/point_history_classifier\\point_history_classifier.hdf5\n",
      "Epoch 57/1000\n",
      "6/6 [==============================] - 0s 9ms/step - loss: 0.4200 - accuracy: 0.8157 - val_loss: 0.3896 - val_accuracy: 0.8111\n",
      "\n",
      "Epoch 00057: saving model to model/point_history_classifier\\point_history_classifier.hdf5\n",
      "Epoch 58/1000\n",
      "6/6 [==============================] - 0s 11ms/step - loss: 0.4227 - accuracy: 0.8157 - val_loss: 0.3915 - val_accuracy: 0.8111\n",
      "\n",
      "Epoch 00058: saving model to model/point_history_classifier\\point_history_classifier.hdf5\n",
      "Epoch 59/1000\n",
      "6/6 [==============================] - 0s 10ms/step - loss: 0.4230 - accuracy: 0.8157 - val_loss: 0.3904 - val_accuracy: 0.8111\n",
      "\n",
      "Epoch 00059: saving model to model/point_history_classifier\\point_history_classifier.hdf5\n",
      "Epoch 60/1000\n",
      "6/6 [==============================] - 0s 11ms/step - loss: 0.4225 - accuracy: 0.8157 - val_loss: 0.3892 - val_accuracy: 0.8111\n",
      "\n",
      "Epoch 00060: saving model to model/point_history_classifier\\point_history_classifier.hdf5\n",
      "Epoch 61/1000\n",
      "6/6 [==============================] - 0s 9ms/step - loss: 0.4226 - accuracy: 0.8157 - val_loss: 0.3874 - val_accuracy: 0.8111\n",
      "\n",
      "Epoch 00061: saving model to model/point_history_classifier\\point_history_classifier.hdf5\n",
      "Epoch 62/1000\n",
      "6/6 [==============================] - 0s 11ms/step - loss: 0.4068 - accuracy: 0.8157 - val_loss: 0.3841 - val_accuracy: 0.8111\n",
      "\n",
      "Epoch 00062: saving model to model/point_history_classifier\\point_history_classifier.hdf5\n",
      "Epoch 63/1000\n",
      "6/6 [==============================] - 0s 10ms/step - loss: 0.4089 - accuracy: 0.8157 - val_loss: 0.3814 - val_accuracy: 0.8111\n",
      "\n",
      "Epoch 00063: saving model to model/point_history_classifier\\point_history_classifier.hdf5\n",
      "Epoch 64/1000\n",
      "6/6 [==============================] - 0s 8ms/step - loss: 0.4218 - accuracy: 0.8157 - val_loss: 0.3827 - val_accuracy: 0.8111\n",
      "\n",
      "Epoch 00064: saving model to model/point_history_classifier\\point_history_classifier.hdf5\n",
      "Epoch 65/1000\n",
      "6/6 [==============================] - 0s 9ms/step - loss: 0.4068 - accuracy: 0.8157 - val_loss: 0.3826 - val_accuracy: 0.8111\n",
      "\n",
      "Epoch 00065: saving model to model/point_history_classifier\\point_history_classifier.hdf5\n",
      "Epoch 66/1000\n",
      "6/6 [==============================] - 0s 11ms/step - loss: 0.4209 - accuracy: 0.8157 - val_loss: 0.3820 - val_accuracy: 0.8111\n",
      "\n",
      "Epoch 00066: saving model to model/point_history_classifier\\point_history_classifier.hdf5\n",
      "Epoch 67/1000\n",
      "6/6 [==============================] - 0s 11ms/step - loss: 0.4074 - accuracy: 0.8157 - val_loss: 0.3793 - val_accuracy: 0.8111\n",
      "\n",
      "Epoch 00067: saving model to model/point_history_classifier\\point_history_classifier.hdf5\n",
      "Epoch 68/1000\n",
      "6/6 [==============================] - 0s 9ms/step - loss: 0.4186 - accuracy: 0.8157 - val_loss: 0.3779 - val_accuracy: 0.8111\n",
      "\n",
      "Epoch 00068: saving model to model/point_history_classifier\\point_history_classifier.hdf5\n",
      "Epoch 69/1000\n",
      "6/6 [==============================] - 0s 12ms/step - loss: 0.4084 - accuracy: 0.8157 - val_loss: 0.3772 - val_accuracy: 0.8111\n",
      "\n",
      "Epoch 00069: saving model to model/point_history_classifier\\point_history_classifier.hdf5\n",
      "Epoch 70/1000\n",
      "6/6 [==============================] - 0s 14ms/step - loss: 0.4048 - accuracy: 0.8157 - val_loss: 0.3754 - val_accuracy: 0.8111\n",
      "\n",
      "Epoch 00070: saving model to model/point_history_classifier\\point_history_classifier.hdf5\n",
      "Epoch 71/1000\n"
     ]
    },
    {
     "name": "stdout",
     "output_type": "stream",
     "text": [
      "6/6 [==============================] - 0s 10ms/step - loss: 0.4097 - accuracy: 0.8157 - val_loss: 0.3745 - val_accuracy: 0.8111\n",
      "\n",
      "Epoch 00071: saving model to model/point_history_classifier\\point_history_classifier.hdf5\n",
      "Epoch 72/1000\n",
      "6/6 [==============================] - 0s 8ms/step - loss: 0.4114 - accuracy: 0.8157 - val_loss: 0.3747 - val_accuracy: 0.8111\n",
      "\n",
      "Epoch 00072: saving model to model/point_history_classifier\\point_history_classifier.hdf5\n",
      "Epoch 73/1000\n",
      "6/6 [==============================] - 0s 9ms/step - loss: 0.4069 - accuracy: 0.8157 - val_loss: 0.3730 - val_accuracy: 0.8111\n",
      "\n",
      "Epoch 00073: saving model to model/point_history_classifier\\point_history_classifier.hdf5\n",
      "Epoch 74/1000\n",
      "6/6 [==============================] - 0s 9ms/step - loss: 0.4169 - accuracy: 0.8157 - val_loss: 0.3716 - val_accuracy: 0.8111\n",
      "\n",
      "Epoch 00074: saving model to model/point_history_classifier\\point_history_classifier.hdf5\n",
      "Epoch 75/1000\n",
      "6/6 [==============================] - 0s 9ms/step - loss: 0.4155 - accuracy: 0.8157 - val_loss: 0.3711 - val_accuracy: 0.8111\n",
      "\n",
      "Epoch 00075: saving model to model/point_history_classifier\\point_history_classifier.hdf5\n",
      "Epoch 76/1000\n",
      "6/6 [==============================] - 0s 12ms/step - loss: 0.4055 - accuracy: 0.8157 - val_loss: 0.3720 - val_accuracy: 0.8111\n",
      "\n",
      "Epoch 00076: saving model to model/point_history_classifier\\point_history_classifier.hdf5\n",
      "Epoch 77/1000\n",
      "6/6 [==============================] - 0s 8ms/step - loss: 0.4086 - accuracy: 0.8157 - val_loss: 0.3736 - val_accuracy: 0.8111\n",
      "\n",
      "Epoch 00077: saving model to model/point_history_classifier\\point_history_classifier.hdf5\n",
      "Epoch 78/1000\n",
      "6/6 [==============================] - 0s 9ms/step - loss: 0.4068 - accuracy: 0.8157 - val_loss: 0.3750 - val_accuracy: 0.8111\n",
      "\n",
      "Epoch 00078: saving model to model/point_history_classifier\\point_history_classifier.hdf5\n",
      "Epoch 79/1000\n",
      "6/6 [==============================] - 0s 10ms/step - loss: 0.4189 - accuracy: 0.8157 - val_loss: 0.3751 - val_accuracy: 0.8111\n",
      "\n",
      "Epoch 00079: saving model to model/point_history_classifier\\point_history_classifier.hdf5\n",
      "Epoch 80/1000\n",
      "6/6 [==============================] - 0s 8ms/step - loss: 0.4147 - accuracy: 0.8157 - val_loss: 0.3752 - val_accuracy: 0.8111\n",
      "\n",
      "Epoch 00080: saving model to model/point_history_classifier\\point_history_classifier.hdf5\n",
      "Epoch 81/1000\n",
      "6/6 [==============================] - 0s 14ms/step - loss: 0.4227 - accuracy: 0.8157 - val_loss: 0.3728 - val_accuracy: 0.8111\n",
      "\n",
      "Epoch 00081: saving model to model/point_history_classifier\\point_history_classifier.hdf5\n",
      "Epoch 82/1000\n",
      "6/6 [==============================] - 0s 9ms/step - loss: 0.4034 - accuracy: 0.8157 - val_loss: 0.3698 - val_accuracy: 0.8111\n",
      "\n",
      "Epoch 00082: saving model to model/point_history_classifier\\point_history_classifier.hdf5\n",
      "Epoch 83/1000\n",
      "6/6 [==============================] - 0s 9ms/step - loss: 0.4018 - accuracy: 0.8157 - val_loss: 0.3676 - val_accuracy: 0.8111\n",
      "\n",
      "Epoch 00083: saving model to model/point_history_classifier\\point_history_classifier.hdf5\n",
      "Epoch 84/1000\n",
      "6/6 [==============================] - 0s 8ms/step - loss: 0.4052 - accuracy: 0.8157 - val_loss: 0.3679 - val_accuracy: 0.8111\n",
      "\n",
      "Epoch 00084: saving model to model/point_history_classifier\\point_history_classifier.hdf5\n",
      "Epoch 85/1000\n",
      "6/6 [==============================] - 0s 12ms/step - loss: 0.4143 - accuracy: 0.8157 - val_loss: 0.3712 - val_accuracy: 0.8111\n",
      "\n",
      "Epoch 00085: saving model to model/point_history_classifier\\point_history_classifier.hdf5\n",
      "Epoch 86/1000\n",
      "6/6 [==============================] - 0s 9ms/step - loss: 0.4076 - accuracy: 0.8157 - val_loss: 0.3722 - val_accuracy: 0.8111\n",
      "\n",
      "Epoch 00086: saving model to model/point_history_classifier\\point_history_classifier.hdf5\n",
      "Epoch 87/1000\n",
      "6/6 [==============================] - 0s 11ms/step - loss: 0.3879 - accuracy: 0.8157 - val_loss: 0.3703 - val_accuracy: 0.8111\n",
      "\n",
      "Epoch 00087: saving model to model/point_history_classifier\\point_history_classifier.hdf5\n",
      "Epoch 88/1000\n",
      "6/6 [==============================] - 0s 8ms/step - loss: 0.4116 - accuracy: 0.8157 - val_loss: 0.3676 - val_accuracy: 0.8111\n",
      "\n",
      "Epoch 00088: saving model to model/point_history_classifier\\point_history_classifier.hdf5\n",
      "Epoch 89/1000\n",
      "6/6 [==============================] - 0s 10ms/step - loss: 0.3956 - accuracy: 0.8157 - val_loss: 0.3663 - val_accuracy: 0.8111\n",
      "\n",
      "Epoch 00089: saving model to model/point_history_classifier\\point_history_classifier.hdf5\n",
      "Epoch 90/1000\n",
      "6/6 [==============================] - 0s 9ms/step - loss: 0.4136 - accuracy: 0.8157 - val_loss: 0.3665 - val_accuracy: 0.8111\n",
      "\n",
      "Epoch 00090: saving model to model/point_history_classifier\\point_history_classifier.hdf5\n",
      "Epoch 91/1000\n",
      "6/6 [==============================] - 0s 13ms/step - loss: 0.4141 - accuracy: 0.8157 - val_loss: 0.3692 - val_accuracy: 0.8111\n",
      "\n",
      "Epoch 00091: saving model to model/point_history_classifier\\point_history_classifier.hdf5\n",
      "Epoch 92/1000\n",
      "6/6 [==============================] - 0s 9ms/step - loss: 0.3967 - accuracy: 0.8157 - val_loss: 0.3691 - val_accuracy: 0.8111\n",
      "\n",
      "Epoch 00092: saving model to model/point_history_classifier\\point_history_classifier.hdf5\n",
      "Epoch 93/1000\n",
      "6/6 [==============================] - 0s 9ms/step - loss: 0.3888 - accuracy: 0.8157 - val_loss: 0.3662 - val_accuracy: 0.8111\n",
      "\n",
      "Epoch 00093: saving model to model/point_history_classifier\\point_history_classifier.hdf5\n",
      "Epoch 94/1000\n",
      "6/6 [==============================] - 0s 8ms/step - loss: 0.4025 - accuracy: 0.8157 - val_loss: 0.3631 - val_accuracy: 0.8111\n",
      "\n",
      "Epoch 00094: saving model to model/point_history_classifier\\point_history_classifier.hdf5\n",
      "Epoch 95/1000\n",
      "6/6 [==============================] - 0s 11ms/step - loss: 0.4053 - accuracy: 0.8157 - val_loss: 0.3616 - val_accuracy: 0.8111\n",
      "\n",
      "Epoch 00095: saving model to model/point_history_classifier\\point_history_classifier.hdf5\n",
      "Epoch 96/1000\n",
      "6/6 [==============================] - 0s 10ms/step - loss: 0.4085 - accuracy: 0.8157 - val_loss: 0.3606 - val_accuracy: 0.8111\n",
      "\n",
      "Epoch 00096: saving model to model/point_history_classifier\\point_history_classifier.hdf5\n",
      "Epoch 97/1000\n",
      "6/6 [==============================] - 0s 11ms/step - loss: 0.4052 - accuracy: 0.8157 - val_loss: 0.3603 - val_accuracy: 0.8111\n",
      "\n",
      "Epoch 00097: saving model to model/point_history_classifier\\point_history_classifier.hdf5\n",
      "Epoch 98/1000\n",
      "6/6 [==============================] - 0s 9ms/step - loss: 0.3964 - accuracy: 0.8157 - val_loss: 0.3613 - val_accuracy: 0.8111\n",
      "\n",
      "Epoch 00098: saving model to model/point_history_classifier\\point_history_classifier.hdf5\n",
      "Epoch 99/1000\n",
      "6/6 [==============================] - 0s 8ms/step - loss: 0.4092 - accuracy: 0.8157 - val_loss: 0.3606 - val_accuracy: 0.8111\n",
      "\n",
      "Epoch 00099: saving model to model/point_history_classifier\\point_history_classifier.hdf5\n",
      "Epoch 100/1000\n",
      "6/6 [==============================] - 0s 9ms/step - loss: 0.3922 - accuracy: 0.8157 - val_loss: 0.3595 - val_accuracy: 0.8111\n",
      "\n",
      "Epoch 00100: saving model to model/point_history_classifier\\point_history_classifier.hdf5\n",
      "Epoch 101/1000\n",
      "6/6 [==============================] - 0s 20ms/step - loss: 0.3957 - accuracy: 0.8157 - val_loss: 0.3580 - val_accuracy: 0.8111\n",
      "\n",
      "Epoch 00101: saving model to model/point_history_classifier\\point_history_classifier.hdf5\n",
      "Epoch 102/1000\n",
      "6/6 [==============================] - 0s 12ms/step - loss: 0.4018 - accuracy: 0.8157 - val_loss: 0.3580 - val_accuracy: 0.8111\n",
      "\n",
      "Epoch 00102: saving model to model/point_history_classifier\\point_history_classifier.hdf5\n",
      "Epoch 103/1000\n",
      "6/6 [==============================] - 0s 9ms/step - loss: 0.3974 - accuracy: 0.8157 - val_loss: 0.3606 - val_accuracy: 0.8111\n",
      "\n",
      "Epoch 00103: saving model to model/point_history_classifier\\point_history_classifier.hdf5\n",
      "Epoch 104/1000\n",
      "6/6 [==============================] - 0s 13ms/step - loss: 0.4170 - accuracy: 0.8157 - val_loss: 0.3646 - val_accuracy: 0.8111\n",
      "\n",
      "Epoch 00104: saving model to model/point_history_classifier\\point_history_classifier.hdf5\n",
      "Epoch 105/1000\n",
      "6/6 [==============================] - 0s 9ms/step - loss: 0.3888 - accuracy: 0.8157 - val_loss: 0.3660 - val_accuracy: 0.8111\n",
      "\n",
      "Epoch 00105: saving model to model/point_history_classifier\\point_history_classifier.hdf5\n",
      "Epoch 106/1000\n",
      "6/6 [==============================] - 0s 10ms/step - loss: 0.3915 - accuracy: 0.8157 - val_loss: 0.3652 - val_accuracy: 0.8111\n",
      "\n",
      "Epoch 00106: saving model to model/point_history_classifier\\point_history_classifier.hdf5\n",
      "Epoch 107/1000\n",
      "6/6 [==============================] - 0s 8ms/step - loss: 0.3825 - accuracy: 0.8157 - val_loss: 0.3628 - val_accuracy: 0.8111\n",
      "\n",
      "Epoch 00107: saving model to model/point_history_classifier\\point_history_classifier.hdf5\n",
      "Epoch 108/1000\n",
      "6/6 [==============================] - 0s 11ms/step - loss: 0.3981 - accuracy: 0.8157 - val_loss: 0.3606 - val_accuracy: 0.8111\n",
      "\n",
      "Epoch 00108: saving model to model/point_history_classifier\\point_history_classifier.hdf5\n",
      "Epoch 109/1000\n",
      "6/6 [==============================] - 0s 9ms/step - loss: 0.3942 - accuracy: 0.8157 - val_loss: 0.3611 - val_accuracy: 0.8111\n",
      "\n",
      "Epoch 00109: saving model to model/point_history_classifier\\point_history_classifier.hdf5\n",
      "Epoch 110/1000\n",
      "6/6 [==============================] - 0s 8ms/step - loss: 0.3895 - accuracy: 0.8157 - val_loss: 0.3610 - val_accuracy: 0.8111\n",
      "\n",
      "Epoch 00110: saving model to model/point_history_classifier\\point_history_classifier.hdf5\n",
      "Epoch 111/1000\n",
      "6/6 [==============================] - 0s 12ms/step - loss: 0.4186 - accuracy: 0.8157 - val_loss: 0.3627 - val_accuracy: 0.8111\n",
      "\n",
      "Epoch 00111: saving model to model/point_history_classifier\\point_history_classifier.hdf5\n",
      "Epoch 112/1000\n",
      "6/6 [==============================] - 0s 13ms/step - loss: 0.4075 - accuracy: 0.8157 - val_loss: 0.3635 - val_accuracy: 0.8111\n",
      "\n",
      "Epoch 00112: saving model to model/point_history_classifier\\point_history_classifier.hdf5\n",
      "Epoch 113/1000\n",
      "6/6 [==============================] - 0s 11ms/step - loss: 0.3950 - accuracy: 0.8157 - val_loss: 0.3659 - val_accuracy: 0.8111\n",
      "\n",
      "Epoch 00113: saving model to model/point_history_classifier\\point_history_classifier.hdf5\n",
      "Epoch 114/1000\n",
      "6/6 [==============================] - 0s 8ms/step - loss: 0.4067 - accuracy: 0.8157 - val_loss: 0.3728 - val_accuracy: 0.8111\n",
      "\n",
      "Epoch 00114: saving model to model/point_history_classifier\\point_history_classifier.hdf5\n",
      "Epoch 115/1000\n",
      "6/6 [==============================] - 0s 12ms/step - loss: 0.4013 - accuracy: 0.8157 - val_loss: 0.3762 - val_accuracy: 0.8111\n",
      "\n",
      "Epoch 00115: saving model to model/point_history_classifier\\point_history_classifier.hdf5\n",
      "Epoch 116/1000\n",
      "6/6 [==============================] - 0s 11ms/step - loss: 0.3973 - accuracy: 0.8157 - val_loss: 0.3738 - val_accuracy: 0.8111\n",
      "\n",
      "Epoch 00116: saving model to model/point_history_classifier\\point_history_classifier.hdf5\n",
      "Epoch 117/1000\n",
      "6/6 [==============================] - 0s 10ms/step - loss: 0.3972 - accuracy: 0.8157 - val_loss: 0.3703 - val_accuracy: 0.8111\n",
      "\n",
      "Epoch 00117: saving model to model/point_history_classifier\\point_history_classifier.hdf5\n",
      "Epoch 118/1000\n",
      "6/6 [==============================] - 0s 9ms/step - loss: 0.4037 - accuracy: 0.8157 - val_loss: 0.3671 - val_accuracy: 0.8111\n",
      "\n",
      "Epoch 00118: saving model to model/point_history_classifier\\point_history_classifier.hdf5\n",
      "Epoch 119/1000\n",
      "6/6 [==============================] - 0s 9ms/step - loss: 0.4044 - accuracy: 0.8157 - val_loss: 0.3650 - val_accuracy: 0.8111\n",
      "\n",
      "Epoch 00119: saving model to model/point_history_classifier\\point_history_classifier.hdf5\n",
      "Epoch 120/1000\n",
      "6/6 [==============================] - 0s 8ms/step - loss: 0.3840 - accuracy: 0.8157 - val_loss: 0.3630 - val_accuracy: 0.8111\n",
      "\n",
      "Epoch 00120: saving model to model/point_history_classifier\\point_history_classifier.hdf5\n",
      "Epoch 121/1000\n",
      "6/6 [==============================] - 0s 11ms/step - loss: 0.3988 - accuracy: 0.8157 - val_loss: 0.3609 - val_accuracy: 0.8111\n",
      "\n",
      "Epoch 00121: saving model to model/point_history_classifier\\point_history_classifier.hdf5\n",
      "Epoch 122/1000\n",
      "6/6 [==============================] - 0s 10ms/step - loss: 0.4008 - accuracy: 0.8157 - val_loss: 0.3606 - val_accuracy: 0.8111\n",
      "\n",
      "Epoch 00122: saving model to model/point_history_classifier\\point_history_classifier.hdf5\n",
      "Epoch 00122: early stopping\n"
     ]
    },
    {
     "data": {
      "text/plain": [
       "<keras.callbacks.History at 0x20fde1956a0>"
      ]
     },
     "execution_count": 12,
     "metadata": {},
     "output_type": "execute_result"
    }
   ],
   "source": [
    "model.fit(\n",
    "    X_train,\n",
    "    y_train,\n",
    "    epochs=1000,\n",
    "    batch_size=128,\n",
    "    validation_data=(X_test, y_test),\n",
    "    callbacks=[cp_callback, es_callback]\n",
    ")"
   ]
  },
  {
   "cell_type": "code",
   "execution_count": 13,
   "metadata": {},
   "outputs": [],
   "source": [
    "# Loading the saved model\n",
    "model = tf.keras.models.load_model(model_save_path)"
   ]
  },
  {
   "cell_type": "code",
   "execution_count": 14,
   "metadata": {},
   "outputs": [
    {
     "name": "stdout",
     "output_type": "stream",
     "text": [
      "[0.95689255 0.04310748]\n",
      "0\n"
     ]
    }
   ],
   "source": [
    "# Inference test\n",
    "predict_result = model.predict(np.array([X_test[0]]))\n",
    "print(np.squeeze(predict_result))\n",
    "print(np.argmax(np.squeeze(predict_result)))"
   ]
  },
  {
   "cell_type": "markdown",
   "metadata": {},
   "source": [
    "# Confusion matrix"
   ]
  },
  {
   "cell_type": "code",
   "execution_count": 15,
   "metadata": {},
   "outputs": [
    {
     "data": {
      "image/png": "[encoded data removed]",
      "text/plain": [
       "<Figure size 504x432 with 2 Axes>"
      ]
     },
     "metadata": {
      "needs_background": "light"
     },
     "output_type": "display_data"
    },
    {
     "name": "stdout",
     "output_type": "stream",
     "text": [
      "Classification Report\n",
      "              precision    recall  f1-score   support\n",
      "\n",
      "           0       0.81      1.00      0.90       176\n",
      "           1       0.00      0.00      0.00        41\n",
      "\n",
      "    accuracy                           0.81       217\n",
      "   macro avg       0.41      0.50      0.45       217\n",
      "weighted avg       0.66      0.81      0.73       217\n",
      "\n"
     ]
    },
    {
     "name": "stderr",
     "output_type": "stream",
     "text": [
      "C:\\Users\\Jeremy\\miniconda3\\envs\\scarletwitch\\lib\\site-packages\\sklearn\\metrics\\_classification.py:1221: UndefinedMetricWarning: Precision and F-score are ill-defined and being set to 0.0 in labels with no predicted samples. Use `zero_division` parameter to control this behavior.\n",
      "  _warn_prf(average, modifier, msg_start, len(result))\n"
     ]
    }
   ],
   "source": [
    "import pandas as pd\n",
    "import seaborn as sns\n",
    "import matplotlib.pyplot as plt\n",
    "from sklearn.metrics import confusion_matrix, classification_report\n",
    "\n",
    "def print_confusion_matrix(y_true, y_pred, report=True):\n",
    "    labels = sorted(list(set(y_true)))\n",
    "    cmx_data = confusion_matrix(y_true, y_pred, labels=labels)\n",
    "    \n",
    "    df_cmx = pd.DataFrame(cmx_data, index=labels, columns=labels)\n",
    " \n",
    "    fig, ax = plt.subplots(figsize=(7, 6))\n",
    "    sns.heatmap(df_cmx, annot=True, fmt='g' ,square=False)\n",
    "    ax.set_ylim(len(set(y_true)), 0)\n",
    "    plt.show()\n",
    "    \n",
    "    if report:\n",
    "        print('Classification Report')\n",
    "        print(classification_report(y_test, y_pred))\n",
    "\n",
    "Y_pred = model.predict(X_test)\n",
    "y_pred = np.argmax(Y_pred, axis=1)\n",
    "\n",
    "print_confusion_matrix(y_test, y_pred)"
   ]
  },
  {
   "cell_type": "markdown",
   "metadata": {},
   "source": [
    "# Convert to model for Tensorflow-Lite"
   ]
  },
  {
   "cell_type": "code",
   "execution_count": 16,
   "metadata": {},
   "outputs": [
    {
     "name": "stdout",
     "output_type": "stream",
     "text": [
      "WARNING:tensorflow:No training configuration found in the save file, so the model was *not* compiled. Compile it manually.\n"
     ]
    }
   ],
   "source": [
    "# Save as a model dedicated to inference\n",
    "model.save(model_save_path, include_optimizer=False)\n",
    "model = tf.keras.models.load_model(model_save_path)"
   ]
  },
  {
   "cell_type": "code",
   "execution_count": 17,
   "metadata": {},
   "outputs": [],
   "source": [
    "tflite_save_path = 'model/point_history_classifier/point_history_classifier.tflite'"
   ]
  },
  {
   "cell_type": "code",
   "execution_count": 18,
   "metadata": {},
   "outputs": [
    {
     "name": "stdout",
     "output_type": "stream",
     "text": [
      "INFO:tensorflow:Assets written to: C:\\Users\\Jeremy\\AppData\\Local\\Temp\\tmpy9fiu902\\assets\n"
     ]
    },
    {
     "data": {
      "text/plain": [
       "6076"
      ]
     },
     "execution_count": 18,
     "metadata": {},
     "output_type": "execute_result"
    }
   ],
   "source": [
    "# Transform (quantize) model\n",
    "converter = tf.lite.TFLiteConverter.from_keras_model(model)  # converter = tf.lite.TFLiteConverter.from_saved_model(saved_model_path)\n",
    "converter.optimizations = [tf.lite.Optimize.DEFAULT]\n",
    "tflite_quantized_model = converter.convert()\n",
    "\n",
    "open(tflite_save_path, 'wb').write(tflite_quantized_model)"
   ]
  },
  {
   "cell_type": "markdown",
   "metadata": {},
   "source": [
    "# Inference test"
   ]
  },
  {
   "cell_type": "code",
   "execution_count": 19,
   "metadata": {},
   "outputs": [],
   "source": [
    "interpreter = tf.lite.Interpreter(model_path=tflite_save_path)\n",
    "interpreter.allocate_tensors()"
   ]
  },
  {
   "cell_type": "code",
   "execution_count": 20,
   "metadata": {},
   "outputs": [
    {
     "name": "stdout",
     "output_type": "stream",
     "text": [
      "[{'name': 'serving_default_input_1:0', 'index': 0, 'shape': array([ 1, 32]), 'shape_signature': array([-1, 32]), 'dtype': <class 'numpy.float32'>, 'quantization': (0.0, 0), 'quantization_parameters': {'scales': array([], dtype=float32), 'zero_points': array([], dtype=int32), 'quantized_dimension': 0}, 'sparsity_parameters': {}}]\n"
     ]
    }
   ],
   "source": [
    "# Get I/O tensor\n",
    "input_details = interpreter.get_input_details()\n",
    "output_details = interpreter.get_output_details()\n",
    "print(input_details)"
   ]
  },
  {
   "cell_type": "code",
   "execution_count": 21,
   "metadata": {},
   "outputs": [],
   "source": [
    "interpreter.set_tensor(input_details[0]['index'], np.array([X_test[0]]))"
   ]
  },
  {
   "cell_type": "code",
   "execution_count": 22,
   "metadata": {},
   "outputs": [
    {
     "name": "stdout",
     "output_type": "stream",
     "text": [
      "Wall time: 0 ns\n"
     ]
    }
   ],
   "source": [
    "%%time\n",
    "# Inference implementation\n",
    "interpreter.invoke()\n",
    "tflite_results = interpreter.get_tensor(output_details[0]['index'])"
   ]
  },
  {
   "cell_type": "code",
   "execution_count": 23,
   "metadata": {},
   "outputs": [
    {
     "name": "stdout",
     "output_type": "stream",
     "text": [
      "[0.95689255 0.04310748]\n",
      "0\n"
     ]
    }
   ],
   "source": [
    "print(np.squeeze(tflite_results))\n",
    "print(np.argmax(np.squeeze(tflite_results)))"
   ]
  },
  {
   "cell_type": "code",
   "execution_count": null,
   "metadata": {},
   "outputs": [],
   "source": []
  }
 ],
 "metadata": {
  "kernelspec": {
   "display_name": "Python 3 (ipykernel)",
   "language": "python",
   "name": "python3"
  },
  "language_info": {
   "codemirror_mode": {
    "name": "ipython",
    "version": 3
   },
   "file_extension": ".py",
   "mimetype": "text/x-python",
   "name": "python",
   "nbconvert_exporter": "python",
   "pygments_lexer": "ipython3",
   "version": "3.8.0"
  }
 },
 "nbformat": 4,
 "nbformat_minor": 4
}
