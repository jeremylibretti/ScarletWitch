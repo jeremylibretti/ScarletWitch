{
 "cells": [
  {
   "cell_type": "code",
   "execution_count": 92,
   "metadata": {
    "id": "igMyGnjE9hEp"
   },
   "outputs": [],
   "source": [
    "import csv\n",
    "\n",
    "import numpy as np\n",
    "import tensorflow as tf\n",
    "from sklearn.model_selection import train_test_split\n",
    "\n",
    "RANDOM_SEED = 42"
   ]
  },
  {
   "cell_type": "markdown",
   "metadata": {
    "id": "t2HDvhIu9hEr"
   },
   "source": [
    "# Specify each path"
   ]
  },
  {
   "cell_type": "code",
   "execution_count": 93,
   "metadata": {
    "id": "9NvZP2Zn9hEy"
   },
   "outputs": [],
   "source": [
    "dataset = 'model/keypoint_classifier/keypoint.csv'\n",
    "model_save_path = 'model/keypoint_classifier/keypoint_classifier.hdf5'\n",
    "tflite_save_path = 'model/keypoint_classifier/keypoint_classifier.tflite'"
   ]
  },
  {
   "cell_type": "markdown",
   "metadata": {
    "id": "s5oMH7x19hEz"
   },
   "source": [
    "# Set number of classes"
   ]
  },
  {
   "cell_type": "code",
   "execution_count": 94,
   "metadata": {
    "id": "du4kodXL9hEz"
   },
   "outputs": [],
   "source": [
    "NUM_CLASSES = 6"
   ]
  },
  {
   "cell_type": "markdown",
   "metadata": {
    "id": "XjnL0uso9hEz"
   },
   "source": [
    "# Dataset reading"
   ]
  },
  {
   "cell_type": "code",
   "execution_count": 95,
   "metadata": {
    "id": "QT5ZqtEz9hE0"
   },
   "outputs": [],
   "source": [
    "X_dataset = np.loadtxt(dataset, delimiter=',', dtype='float32', usecols=list(range(1, (21 * 2) + 1)))"
   ]
  },
  {
   "cell_type": "code",
   "execution_count": 96,
   "metadata": {
    "id": "QmoKFsp49hE0"
   },
   "outputs": [],
   "source": [
    "y_dataset = np.loadtxt(dataset, delimiter=',', dtype='int32', usecols=(0))"
   ]
  },
  {
   "cell_type": "code",
   "execution_count": 97,
   "metadata": {
    "id": "xQU7JTZ_9hE0"
   },
   "outputs": [],
   "source": [
    "X_train, X_test, y_train, y_test = train_test_split(X_dataset, y_dataset, train_size=0.75, random_state=RANDOM_SEED)"
   ]
  },
  {
   "cell_type": "markdown",
   "metadata": {
    "id": "mxK_lETT9hE0"
   },
   "source": [
    "# Model building"
   ]
  },
  {
   "cell_type": "code",
   "execution_count": 98,
   "metadata": {
    "id": "vHBmUf1t9hE1"
   },
   "outputs": [],
   "source": [
    "model = tf.keras.models.Sequential([\n",
    "    tf.keras.layers.Input((21 * 2, )),\n",
    "    tf.keras.layers.Dropout(0.2),\n",
    "    tf.keras.layers.Dense(20, activation='relu'),\n",
    "    tf.keras.layers.Dropout(0.4),\n",
    "    tf.keras.layers.Dense(10, activation='relu'),\n",
    "    tf.keras.layers.Dense(NUM_CLASSES, activation='softmax')\n",
    "])"
   ]
  },
  {
   "cell_type": "code",
   "execution_count": 99,
   "metadata": {
    "colab": {
     "base_uri": "https://localhost:8080/"
    },
    "id": "ypqky9tc9hE1",
    "outputId": "5db082bb-30e3-4110-bf63-a1ee777ecd46"
   },
   "outputs": [
    {
     "name": "stdout",
     "output_type": "stream",
     "text": [
      "Model: \"sequential_5\"\n",
      "_________________________________________________________________\n",
      "Layer (type)                 Output Shape              Param #   \n",
      "=================================================================\n",
      "dropout_10 (Dropout)         (None, 42)                0         \n",
      "_________________________________________________________________\n",
      "dense_15 (Dense)             (None, 20)                860       \n",
      "_________________________________________________________________\n",
      "dropout_11 (Dropout)         (None, 20)                0         \n",
      "_________________________________________________________________\n",
      "dense_16 (Dense)             (None, 10)                210       \n",
      "_________________________________________________________________\n",
      "dense_17 (Dense)             (None, 6)                 66        \n",
      "=================================================================\n",
      "Total params: 1,136\n",
      "Trainable params: 1,136\n",
      "Non-trainable params: 0\n",
      "_________________________________________________________________\n"
     ]
    }
   ],
   "source": [
    "model.summary()  # tf.keras.utils.plot_model(model, show_shapes=True)"
   ]
  },
  {
   "cell_type": "code",
   "execution_count": 100,
   "metadata": {
    "id": "MbMjOflQ9hE1"
   },
   "outputs": [],
   "source": [
    "# Model checkpoint callback\n",
    "cp_callback = tf.keras.callbacks.ModelCheckpoint(\n",
    "    model_save_path, verbose=1, save_weights_only=False)\n",
    "# Callback for early stopping\n",
    "es_callback = tf.keras.callbacks.EarlyStopping(patience=20, verbose=1)"
   ]
  },
  {
   "cell_type": "code",
   "execution_count": 101,
   "metadata": {
    "id": "c3Dac0M_9hE2"
   },
   "outputs": [],
   "source": [
    "# Model compilation\n",
    "model.compile(\n",
    "    optimizer='adam',\n",
    "    loss='sparse_categorical_crossentropy',\n",
    "    metrics=['accuracy']\n",
    ")"
   ]
  },
  {
   "cell_type": "markdown",
   "metadata": {
    "id": "7XI0j1Iu9hE2"
   },
   "source": [
    "# Model training"
   ]
  },
  {
   "cell_type": "code",
   "execution_count": 102,
   "metadata": {
    "colab": {
     "base_uri": "https://localhost:8080/"
    },
    "id": "WirBl-JE9hE3",
    "outputId": "71b30ca2-8294-4d9d-8aa2-800d90d399de",
    "scrolled": true
   },
   "outputs": [
    {
     "name": "stdout",
     "output_type": "stream",
     "text": [
      "Epoch 1/1000\n",
      "51/51 [==============================] - 1s 11ms/step - loss: 1.8534 - accuracy: 0.1683 - val_loss: 1.6727 - val_accuracy: 0.3894\n",
      "\n",
      "Epoch 00001: saving model to model/keypoint_classifier\\keypoint_classifier.hdf5\n",
      "Epoch 2/1000\n",
      "51/51 [==============================] - 0s 8ms/step - loss: 1.6677 - accuracy: 0.2880 - val_loss: 1.5421 - val_accuracy: 0.4136\n",
      "\n",
      "Epoch 00002: saving model to model/keypoint_classifier\\keypoint_classifier.hdf5\n",
      "Epoch 3/1000\n",
      "51/51 [==============================] - 0s 6ms/step - loss: 1.5586 - accuracy: 0.3332 - val_loss: 1.4173 - val_accuracy: 0.4918\n",
      "\n",
      "Epoch 00003: saving model to model/keypoint_classifier\\keypoint_classifier.hdf5\n",
      "Epoch 4/1000\n",
      "51/51 [==============================] - 0s 10ms/step - loss: 1.4722 - accuracy: 0.3529 - val_loss: 1.2966 - val_accuracy: 0.5231\n",
      "\n",
      "Epoch 00004: saving model to model/keypoint_classifier\\keypoint_classifier.hdf5\n",
      "Epoch 5/1000\n",
      "51/51 [==============================] - 0s 8ms/step - loss: 1.3909 - accuracy: 0.3926 - val_loss: 1.1893 - val_accuracy: 0.5771\n",
      "\n",
      "Epoch 00005: saving model to model/keypoint_classifier\\keypoint_classifier.hdf5\n",
      "Epoch 6/1000\n",
      "51/51 [==============================] - 0s 5ms/step - loss: 1.3227 - accuracy: 0.4374 - val_loss: 1.1011 - val_accuracy: 0.6623\n",
      "\n",
      "Epoch 00006: saving model to model/keypoint_classifier\\keypoint_classifier.hdf5\n",
      "Epoch 7/1000\n",
      "51/51 [==============================] - 0s 4ms/step - loss: 1.2623 - accuracy: 0.4748 - val_loss: 1.0175 - val_accuracy: 0.7150\n",
      "\n",
      "Epoch 00007: saving model to model/keypoint_classifier\\keypoint_classifier.hdf5\n",
      "Epoch 8/1000\n",
      "51/51 [==============================] - 0s 6ms/step - loss: 1.2061 - accuracy: 0.5040 - val_loss: 0.9533 - val_accuracy: 0.7163\n",
      "\n",
      "Epoch 00008: saving model to model/keypoint_classifier\\keypoint_classifier.hdf5\n",
      "Epoch 9/1000\n",
      "51/51 [==============================] - 0s 5ms/step - loss: 1.1630 - accuracy: 0.5215 - val_loss: 0.9070 - val_accuracy: 0.7154\n",
      "\n",
      "Epoch 00009: saving model to model/keypoint_classifier\\keypoint_classifier.hdf5\n",
      "Epoch 10/1000\n",
      "51/51 [==============================] - 0s 5ms/step - loss: 1.1452 - accuracy: 0.5276 - val_loss: 0.8735 - val_accuracy: 0.7345\n",
      "\n",
      "Epoch 00010: saving model to model/keypoint_classifier\\keypoint_classifier.hdf5\n",
      "Epoch 11/1000\n",
      "51/51 [==============================] - 0s 6ms/step - loss: 1.1082 - accuracy: 0.5449 - val_loss: 0.8386 - val_accuracy: 0.7382\n",
      "\n",
      "Epoch 00011: saving model to model/keypoint_classifier\\keypoint_classifier.hdf5\n",
      "Epoch 12/1000\n",
      "51/51 [==============================] - 0s 7ms/step - loss: 1.0923 - accuracy: 0.5468 - val_loss: 0.8129 - val_accuracy: 0.7308\n",
      "\n",
      "Epoch 00012: saving model to model/keypoint_classifier\\keypoint_classifier.hdf5\n",
      "Epoch 13/1000\n",
      "51/51 [==============================] - 0s 5ms/step - loss: 1.0614 - accuracy: 0.5595 - val_loss: 0.7836 - val_accuracy: 0.7848\n",
      "\n",
      "Epoch 00013: saving model to model/keypoint_classifier\\keypoint_classifier.hdf5\n",
      "Epoch 14/1000\n",
      "51/51 [==============================] - 0s 5ms/step - loss: 1.0577 - accuracy: 0.5671 - val_loss: 0.7678 - val_accuracy: 0.7802\n",
      "\n",
      "Epoch 00014: saving model to model/keypoint_classifier\\keypoint_classifier.hdf5\n",
      "Epoch 15/1000\n",
      "51/51 [==============================] - 0s 4ms/step - loss: 1.0370 - accuracy: 0.5760 - val_loss: 0.7381 - val_accuracy: 0.8118\n",
      "\n",
      "Epoch 00015: saving model to model/keypoint_classifier\\keypoint_classifier.hdf5\n",
      "Epoch 16/1000\n",
      "51/51 [==============================] - 0s 4ms/step - loss: 1.0221 - accuracy: 0.5855 - val_loss: 0.7198 - val_accuracy: 0.8156\n",
      "\n",
      "Epoch 00016: saving model to model/keypoint_classifier\\keypoint_classifier.hdf5\n",
      "Epoch 17/1000\n",
      "51/51 [==============================] - 0s 5ms/step - loss: 1.0079 - accuracy: 0.5943 - val_loss: 0.7089 - val_accuracy: 0.8100\n",
      "\n",
      "Epoch 00017: saving model to model/keypoint_classifier\\keypoint_classifier.hdf5\n",
      "Epoch 18/1000\n",
      "51/51 [==============================] - 0s 6ms/step - loss: 1.0028 - accuracy: 0.5970 - val_loss: 0.7007 - val_accuracy: 0.8211\n",
      "\n",
      "Epoch 00018: saving model to model/keypoint_classifier\\keypoint_classifier.hdf5\n",
      "Epoch 19/1000\n",
      "51/51 [==============================] - 0s 6ms/step - loss: 0.9775 - accuracy: 0.6044 - val_loss: 0.6869 - val_accuracy: 0.8267\n",
      "\n",
      "Epoch 00019: saving model to model/keypoint_classifier\\keypoint_classifier.hdf5\n",
      "Epoch 20/1000\n",
      "51/51 [==============================] - 0s 6ms/step - loss: 0.9805 - accuracy: 0.6032 - val_loss: 0.6707 - val_accuracy: 0.8342\n",
      "\n",
      "Epoch 00020: saving model to model/keypoint_classifier\\keypoint_classifier.hdf5\n",
      "Epoch 21/1000\n",
      "51/51 [==============================] - 0s 5ms/step - loss: 0.9647 - accuracy: 0.6148 - val_loss: 0.6534 - val_accuracy: 0.8463\n",
      "\n",
      "Epoch 00021: saving model to model/keypoint_classifier\\keypoint_classifier.hdf5\n",
      "Epoch 22/1000\n",
      "51/51 [==============================] - 0s 6ms/step - loss: 0.9489 - accuracy: 0.6182 - val_loss: 0.6384 - val_accuracy: 0.8617\n",
      "\n",
      "Epoch 00022: saving model to model/keypoint_classifier\\keypoint_classifier.hdf5\n",
      "Epoch 23/1000\n",
      "51/51 [==============================] - 0s 5ms/step - loss: 0.9577 - accuracy: 0.6156 - val_loss: 0.6415 - val_accuracy: 0.8682\n",
      "\n",
      "Epoch 00023: saving model to model/keypoint_classifier\\keypoint_classifier.hdf5\n",
      "Epoch 24/1000\n",
      "51/51 [==============================] - 0s 7ms/step - loss: 0.9246 - accuracy: 0.6327 - val_loss: 0.6304 - val_accuracy: 0.8621\n",
      "\n",
      "Epoch 00024: saving model to model/keypoint_classifier\\keypoint_classifier.hdf5\n",
      "Epoch 25/1000\n",
      "51/51 [==============================] - 0s 5ms/step - loss: 0.9171 - accuracy: 0.6257 - val_loss: 0.6128 - val_accuracy: 0.8859\n",
      "\n",
      "Epoch 00025: saving model to model/keypoint_classifier\\keypoint_classifier.hdf5\n",
      "Epoch 26/1000\n",
      "51/51 [==============================] - 0s 4ms/step - loss: 0.9228 - accuracy: 0.6384 - val_loss: 0.6010 - val_accuracy: 0.8710\n",
      "\n",
      "Epoch 00026: saving model to model/keypoint_classifier\\keypoint_classifier.hdf5\n",
      "Epoch 27/1000\n",
      "51/51 [==============================] - 0s 7ms/step - loss: 0.9231 - accuracy: 0.6314 - val_loss: 0.6029 - val_accuracy: 0.8728\n",
      "\n",
      "Epoch 00027: saving model to model/keypoint_classifier\\keypoint_classifier.hdf5\n",
      "Epoch 28/1000\n",
      "51/51 [==============================] - 0s 4ms/step - loss: 0.9140 - accuracy: 0.6369 - val_loss: 0.5917 - val_accuracy: 0.8826\n",
      "\n",
      "Epoch 00028: saving model to model/keypoint_classifier\\keypoint_classifier.hdf5\n",
      "Epoch 29/1000\n",
      "51/51 [==============================] - 0s 5ms/step - loss: 0.9110 - accuracy: 0.6379 - val_loss: 0.5974 - val_accuracy: 0.8728\n",
      "\n",
      "Epoch 00029: saving model to model/keypoint_classifier\\keypoint_classifier.hdf5\n",
      "Epoch 30/1000\n",
      "51/51 [==============================] - 0s 6ms/step - loss: 0.8854 - accuracy: 0.6468 - val_loss: 0.5708 - val_accuracy: 0.8961\n",
      "\n",
      "Epoch 00030: saving model to model/keypoint_classifier\\keypoint_classifier.hdf5\n",
      "Epoch 31/1000\n",
      "51/51 [==============================] - 0s 5ms/step - loss: 0.8921 - accuracy: 0.6511 - val_loss: 0.5684 - val_accuracy: 0.8803\n",
      "\n",
      "Epoch 00031: saving model to model/keypoint_classifier\\keypoint_classifier.hdf5\n",
      "Epoch 32/1000\n",
      "51/51 [==============================] - 0s 8ms/step - loss: 0.8788 - accuracy: 0.6595 - val_loss: 0.5536 - val_accuracy: 0.9003\n",
      "\n",
      "Epoch 00032: saving model to model/keypoint_classifier\\keypoint_classifier.hdf5\n",
      "Epoch 33/1000\n",
      "51/51 [==============================] - 0s 5ms/step - loss: 0.8934 - accuracy: 0.6466 - val_loss: 0.5579 - val_accuracy: 0.8980\n",
      "\n",
      "Epoch 00033: saving model to model/keypoint_classifier\\keypoint_classifier.hdf5\n",
      "Epoch 34/1000\n",
      "51/51 [==============================] - 0s 5ms/step - loss: 0.8742 - accuracy: 0.6612 - val_loss: 0.5467 - val_accuracy: 0.9073\n",
      "\n",
      "Epoch 00034: saving model to model/keypoint_classifier\\keypoint_classifier.hdf5\n",
      "Epoch 35/1000\n",
      "51/51 [==============================] - 0s 7ms/step - loss: 0.8746 - accuracy: 0.6581 - val_loss: 0.5369 - val_accuracy: 0.9106\n",
      "\n",
      "Epoch 00035: saving model to model/keypoint_classifier\\keypoint_classifier.hdf5\n",
      "Epoch 36/1000\n",
      "51/51 [==============================] - 0s 7ms/step - loss: 0.8656 - accuracy: 0.6628 - val_loss: 0.5333 - val_accuracy: 0.9078\n",
      "\n",
      "Epoch 00036: saving model to model/keypoint_classifier\\keypoint_classifier.hdf5\n",
      "Epoch 37/1000\n",
      "51/51 [==============================] - 0s 5ms/step - loss: 0.8583 - accuracy: 0.6678 - val_loss: 0.5259 - val_accuracy: 0.9013\n"
     ]
    },
    {
     "name": "stdout",
     "output_type": "stream",
     "text": [
      "\n",
      "Epoch 00037: saving model to model/keypoint_classifier\\keypoint_classifier.hdf5\n",
      "Epoch 38/1000\n",
      "51/51 [==============================] - 0s 4ms/step - loss: 0.8631 - accuracy: 0.6664 - val_loss: 0.5243 - val_accuracy: 0.9143\n",
      "\n",
      "Epoch 00038: saving model to model/keypoint_classifier\\keypoint_classifier.hdf5\n",
      "Epoch 39/1000\n",
      "51/51 [==============================] - 0s 3ms/step - loss: 0.8438 - accuracy: 0.6709 - val_loss: 0.5152 - val_accuracy: 0.9264\n",
      "\n",
      "Epoch 00039: saving model to model/keypoint_classifier\\keypoint_classifier.hdf5\n",
      "Epoch 40/1000\n",
      "51/51 [==============================] - 0s 3ms/step - loss: 0.8489 - accuracy: 0.6755 - val_loss: 0.5088 - val_accuracy: 0.9148\n",
      "\n",
      "Epoch 00040: saving model to model/keypoint_classifier\\keypoint_classifier.hdf5\n",
      "Epoch 41/1000\n",
      "51/51 [==============================] - 0s 3ms/step - loss: 0.8321 - accuracy: 0.6772 - val_loss: 0.4985 - val_accuracy: 0.9185\n",
      "\n",
      "Epoch 00041: saving model to model/keypoint_classifier\\keypoint_classifier.hdf5\n",
      "Epoch 42/1000\n",
      "51/51 [==============================] - 0s 3ms/step - loss: 0.8459 - accuracy: 0.6782 - val_loss: 0.5034 - val_accuracy: 0.9259\n",
      "\n",
      "Epoch 00042: saving model to model/keypoint_classifier\\keypoint_classifier.hdf5\n",
      "Epoch 43/1000\n",
      "51/51 [==============================] - 0s 3ms/step - loss: 0.8436 - accuracy: 0.6747 - val_loss: 0.5010 - val_accuracy: 0.9236\n",
      "\n",
      "Epoch 00043: saving model to model/keypoint_classifier\\keypoint_classifier.hdf5\n",
      "Epoch 44/1000\n",
      "51/51 [==============================] - 0s 4ms/step - loss: 0.8351 - accuracy: 0.6786 - val_loss: 0.4981 - val_accuracy: 0.9185\n",
      "\n",
      "Epoch 00044: saving model to model/keypoint_classifier\\keypoint_classifier.hdf5\n",
      "Epoch 45/1000\n",
      "51/51 [==============================] - 0s 4ms/step - loss: 0.8206 - accuracy: 0.6909 - val_loss: 0.4886 - val_accuracy: 0.9259\n",
      "\n",
      "Epoch 00045: saving model to model/keypoint_classifier\\keypoint_classifier.hdf5\n",
      "Epoch 46/1000\n",
      "51/51 [==============================] - 0s 3ms/step - loss: 0.8189 - accuracy: 0.6909 - val_loss: 0.4820 - val_accuracy: 0.9273\n",
      "\n",
      "Epoch 00046: saving model to model/keypoint_classifier\\keypoint_classifier.hdf5\n",
      "Epoch 47/1000\n",
      "51/51 [==============================] - 0s 3ms/step - loss: 0.8223 - accuracy: 0.6870 - val_loss: 0.4820 - val_accuracy: 0.9301\n",
      "\n",
      "Epoch 00047: saving model to model/keypoint_classifier\\keypoint_classifier.hdf5\n",
      "Epoch 48/1000\n",
      "51/51 [==============================] - 0s 4ms/step - loss: 0.8353 - accuracy: 0.6828 - val_loss: 0.4726 - val_accuracy: 0.9297\n",
      "\n",
      "Epoch 00048: saving model to model/keypoint_classifier\\keypoint_classifier.hdf5\n",
      "Epoch 49/1000\n",
      "51/51 [==============================] - 0s 3ms/step - loss: 0.8111 - accuracy: 0.6931 - val_loss: 0.4727 - val_accuracy: 0.9320\n",
      "\n",
      "Epoch 00049: saving model to model/keypoint_classifier\\keypoint_classifier.hdf5\n",
      "Epoch 50/1000\n",
      "51/51 [==============================] - 0s 3ms/step - loss: 0.8223 - accuracy: 0.6932 - val_loss: 0.4690 - val_accuracy: 0.9278\n",
      "\n",
      "Epoch 00050: saving model to model/keypoint_classifier\\keypoint_classifier.hdf5\n",
      "Epoch 51/1000\n",
      "51/51 [==============================] - 0s 4ms/step - loss: 0.8127 - accuracy: 0.6957 - val_loss: 0.4746 - val_accuracy: 0.9255\n",
      "\n",
      "Epoch 00051: saving model to model/keypoint_classifier\\keypoint_classifier.hdf5\n",
      "Epoch 52/1000\n",
      "51/51 [==============================] - 0s 3ms/step - loss: 0.8076 - accuracy: 0.6952 - val_loss: 0.4589 - val_accuracy: 0.9362\n",
      "\n",
      "Epoch 00052: saving model to model/keypoint_classifier\\keypoint_classifier.hdf5\n",
      "Epoch 53/1000\n",
      "51/51 [==============================] - 0s 3ms/step - loss: 0.8098 - accuracy: 0.6853 - val_loss: 0.4592 - val_accuracy: 0.9339\n",
      "\n",
      "Epoch 00053: saving model to model/keypoint_classifier\\keypoint_classifier.hdf5\n",
      "Epoch 54/1000\n",
      "51/51 [==============================] - 0s 6ms/step - loss: 0.8093 - accuracy: 0.6921 - val_loss: 0.4571 - val_accuracy: 0.9325\n",
      "\n",
      "Epoch 00054: saving model to model/keypoint_classifier\\keypoint_classifier.hdf5\n",
      "Epoch 55/1000\n",
      "51/51 [==============================] - 0s 3ms/step - loss: 0.7876 - accuracy: 0.7007 - val_loss: 0.4561 - val_accuracy: 0.9255\n",
      "\n",
      "Epoch 00055: saving model to model/keypoint_classifier\\keypoint_classifier.hdf5\n",
      "Epoch 56/1000\n",
      "51/51 [==============================] - 0s 4ms/step - loss: 0.8004 - accuracy: 0.6935 - val_loss: 0.4553 - val_accuracy: 0.9301\n",
      "\n",
      "Epoch 00056: saving model to model/keypoint_classifier\\keypoint_classifier.hdf5\n",
      "Epoch 57/1000\n",
      "51/51 [==============================] - 0s 3ms/step - loss: 0.8005 - accuracy: 0.6990 - val_loss: 0.4588 - val_accuracy: 0.9269\n",
      "\n",
      "Epoch 00057: saving model to model/keypoint_classifier\\keypoint_classifier.hdf5\n",
      "Epoch 58/1000\n",
      "51/51 [==============================] - 0s 4ms/step - loss: 0.7927 - accuracy: 0.7039 - val_loss: 0.4568 - val_accuracy: 0.9278\n",
      "\n",
      "Epoch 00058: saving model to model/keypoint_classifier\\keypoint_classifier.hdf5\n",
      "Epoch 59/1000\n",
      "51/51 [==============================] - 0s 4ms/step - loss: 0.7783 - accuracy: 0.7010 - val_loss: 0.4355 - val_accuracy: 0.9376\n",
      "\n",
      "Epoch 00059: saving model to model/keypoint_classifier\\keypoint_classifier.hdf5\n",
      "Epoch 60/1000\n",
      "51/51 [==============================] - 0s 3ms/step - loss: 0.7967 - accuracy: 0.6999 - val_loss: 0.4524 - val_accuracy: 0.9273\n",
      "\n",
      "Epoch 00060: saving model to model/keypoint_classifier\\keypoint_classifier.hdf5\n",
      "Epoch 61/1000\n",
      "51/51 [==============================] - 0s 4ms/step - loss: 0.7897 - accuracy: 0.7033 - val_loss: 0.4345 - val_accuracy: 0.9348\n",
      "\n",
      "Epoch 00061: saving model to model/keypoint_classifier\\keypoint_classifier.hdf5\n",
      "Epoch 62/1000\n",
      "51/51 [==============================] - 0s 4ms/step - loss: 0.7808 - accuracy: 0.7077 - val_loss: 0.4609 - val_accuracy: 0.9124\n",
      "\n",
      "Epoch 00062: saving model to model/keypoint_classifier\\keypoint_classifier.hdf5\n",
      "Epoch 63/1000\n",
      "51/51 [==============================] - 0s 3ms/step - loss: 0.7966 - accuracy: 0.6938 - val_loss: 0.4529 - val_accuracy: 0.9283\n",
      "\n",
      "Epoch 00063: saving model to model/keypoint_classifier\\keypoint_classifier.hdf5\n",
      "Epoch 64/1000\n",
      "51/51 [==============================] - 0s 4ms/step - loss: 0.7921 - accuracy: 0.6943 - val_loss: 0.4607 - val_accuracy: 0.9292\n",
      "\n",
      "Epoch 00064: saving model to model/keypoint_classifier\\keypoint_classifier.hdf5\n",
      "Epoch 65/1000\n",
      "51/51 [==============================] - 0s 4ms/step - loss: 0.7661 - accuracy: 0.7168 - val_loss: 0.4331 - val_accuracy: 0.9376\n",
      "\n",
      "Epoch 00065: saving model to model/keypoint_classifier\\keypoint_classifier.hdf5\n",
      "Epoch 66/1000\n",
      "51/51 [==============================] - 0s 4ms/step - loss: 0.7852 - accuracy: 0.6955 - val_loss: 0.4453 - val_accuracy: 0.9357\n",
      "\n",
      "Epoch 00066: saving model to model/keypoint_classifier\\keypoint_classifier.hdf5\n",
      "Epoch 67/1000\n",
      "51/51 [==============================] - 0s 4ms/step - loss: 0.7796 - accuracy: 0.7070 - val_loss: 0.4305 - val_accuracy: 0.9404\n",
      "\n",
      "Epoch 00067: saving model to model/keypoint_classifier\\keypoint_classifier.hdf5\n",
      "Epoch 68/1000\n",
      "51/51 [==============================] - 0s 5ms/step - loss: 0.7630 - accuracy: 0.7151 - val_loss: 0.4429 - val_accuracy: 0.9227\n",
      "\n",
      "Epoch 00068: saving model to model/keypoint_classifier\\keypoint_classifier.hdf5\n",
      "Epoch 69/1000\n",
      "51/51 [==============================] - 0s 6ms/step - loss: 0.7668 - accuracy: 0.7109 - val_loss: 0.4535 - val_accuracy: 0.9120\n",
      "\n",
      "Epoch 00069: saving model to model/keypoint_classifier\\keypoint_classifier.hdf5\n",
      "Epoch 70/1000\n",
      "51/51 [==============================] - 0s 6ms/step - loss: 0.7588 - accuracy: 0.7114 - val_loss: 0.4388 - val_accuracy: 0.9320\n",
      "\n",
      "Epoch 00070: saving model to model/keypoint_classifier\\keypoint_classifier.hdf5\n",
      "Epoch 71/1000\n",
      "51/51 [==============================] - 0s 6ms/step - loss: 0.7700 - accuracy: 0.7134 - val_loss: 0.4397 - val_accuracy: 0.9353\n",
      "\n",
      "Epoch 00071: saving model to model/keypoint_classifier\\keypoint_classifier.hdf5\n",
      "Epoch 72/1000\n",
      "51/51 [==============================] - 0s 4ms/step - loss: 0.7777 - accuracy: 0.7140 - val_loss: 0.4319 - val_accuracy: 0.9385\n",
      "\n",
      "Epoch 00072: saving model to model/keypoint_classifier\\keypoint_classifier.hdf5\n",
      "Epoch 73/1000\n",
      "51/51 [==============================] - 0s 5ms/step - loss: 0.7470 - accuracy: 0.7188 - val_loss: 0.4326 - val_accuracy: 0.9343\n",
      "\n",
      "Epoch 00073: saving model to model/keypoint_classifier\\keypoint_classifier.hdf5\n",
      "Epoch 74/1000\n"
     ]
    },
    {
     "name": "stdout",
     "output_type": "stream",
     "text": [
      "51/51 [==============================] - 0s 4ms/step - loss: 0.7703 - accuracy: 0.7073 - val_loss: 0.4185 - val_accuracy: 0.9339\n",
      "\n",
      "Epoch 00074: saving model to model/keypoint_classifier\\keypoint_classifier.hdf5\n",
      "Epoch 75/1000\n",
      "51/51 [==============================] - 0s 3ms/step - loss: 0.7509 - accuracy: 0.7159 - val_loss: 0.4323 - val_accuracy: 0.9297\n",
      "\n",
      "Epoch 00075: saving model to model/keypoint_classifier\\keypoint_classifier.hdf5\n",
      "Epoch 76/1000\n",
      "51/51 [==============================] - 0s 8ms/step - loss: 0.7408 - accuracy: 0.7291 - val_loss: 0.4147 - val_accuracy: 0.9353\n",
      "\n",
      "Epoch 00076: saving model to model/keypoint_classifier\\keypoint_classifier.hdf5\n",
      "Epoch 77/1000\n",
      "51/51 [==============================] - 0s 8ms/step - loss: 0.7521 - accuracy: 0.7249 - val_loss: 0.4273 - val_accuracy: 0.9320\n",
      "\n",
      "Epoch 00077: saving model to model/keypoint_classifier\\keypoint_classifier.hdf5\n",
      "Epoch 78/1000\n",
      "51/51 [==============================] - 0s 6ms/step - loss: 0.7547 - accuracy: 0.7229 - val_loss: 0.4411 - val_accuracy: 0.9218\n",
      "\n",
      "Epoch 00078: saving model to model/keypoint_classifier\\keypoint_classifier.hdf5\n",
      "Epoch 79/1000\n",
      "51/51 [==============================] - 0s 3ms/step - loss: 0.7580 - accuracy: 0.7209 - val_loss: 0.4277 - val_accuracy: 0.9348\n",
      "\n",
      "Epoch 00079: saving model to model/keypoint_classifier\\keypoint_classifier.hdf5\n",
      "Epoch 80/1000\n",
      "51/51 [==============================] - 0s 6ms/step - loss: 0.7462 - accuracy: 0.7167 - val_loss: 0.4137 - val_accuracy: 0.9413\n",
      "\n",
      "Epoch 00080: saving model to model/keypoint_classifier\\keypoint_classifier.hdf5\n",
      "Epoch 81/1000\n",
      "51/51 [==============================] - 0s 5ms/step - loss: 0.7478 - accuracy: 0.7230 - val_loss: 0.4309 - val_accuracy: 0.9320\n",
      "\n",
      "Epoch 00081: saving model to model/keypoint_classifier\\keypoint_classifier.hdf5\n",
      "Epoch 82/1000\n",
      "51/51 [==============================] - 0s 5ms/step - loss: 0.7421 - accuracy: 0.7218 - val_loss: 0.4186 - val_accuracy: 0.9357\n",
      "\n",
      "Epoch 00082: saving model to model/keypoint_classifier\\keypoint_classifier.hdf5\n",
      "Epoch 83/1000\n",
      "51/51 [==============================] - 0s 6ms/step - loss: 0.7477 - accuracy: 0.7199 - val_loss: 0.4190 - val_accuracy: 0.9348\n",
      "\n",
      "Epoch 00083: saving model to model/keypoint_classifier\\keypoint_classifier.hdf5\n",
      "Epoch 84/1000\n",
      "51/51 [==============================] - 0s 9ms/step - loss: 0.7445 - accuracy: 0.7210 - val_loss: 0.4216 - val_accuracy: 0.9357\n",
      "\n",
      "Epoch 00084: saving model to model/keypoint_classifier\\keypoint_classifier.hdf5\n",
      "Epoch 85/1000\n",
      "51/51 [==============================] - 0s 5ms/step - loss: 0.7315 - accuracy: 0.7365 - val_loss: 0.4075 - val_accuracy: 0.9399\n",
      "\n",
      "Epoch 00085: saving model to model/keypoint_classifier\\keypoint_classifier.hdf5\n",
      "Epoch 86/1000\n",
      "51/51 [==============================] - 0s 5ms/step - loss: 0.7414 - accuracy: 0.7246 - val_loss: 0.4169 - val_accuracy: 0.9390\n",
      "\n",
      "Epoch 00086: saving model to model/keypoint_classifier\\keypoint_classifier.hdf5\n",
      "Epoch 87/1000\n",
      "51/51 [==============================] - 0s 4ms/step - loss: 0.7434 - accuracy: 0.7302 - val_loss: 0.4195 - val_accuracy: 0.9315\n",
      "\n",
      "Epoch 00087: saving model to model/keypoint_classifier\\keypoint_classifier.hdf5\n",
      "Epoch 88/1000\n",
      "51/51 [==============================] - 0s 5ms/step - loss: 0.7442 - accuracy: 0.7241 - val_loss: 0.4218 - val_accuracy: 0.9371\n",
      "\n",
      "Epoch 00088: saving model to model/keypoint_classifier\\keypoint_classifier.hdf5\n",
      "Epoch 89/1000\n",
      "51/51 [==============================] - 0s 4ms/step - loss: 0.7239 - accuracy: 0.7336 - val_loss: 0.4337 - val_accuracy: 0.9259\n",
      "\n",
      "Epoch 00089: saving model to model/keypoint_classifier\\keypoint_classifier.hdf5\n",
      "Epoch 90/1000\n",
      "51/51 [==============================] - 0s 9ms/step - loss: 0.7557 - accuracy: 0.7201 - val_loss: 0.4213 - val_accuracy: 0.9381\n",
      "\n",
      "Epoch 00090: saving model to model/keypoint_classifier\\keypoint_classifier.hdf5\n",
      "Epoch 91/1000\n",
      "51/51 [==============================] - 0s 3ms/step - loss: 0.7187 - accuracy: 0.7427 - val_loss: 0.4140 - val_accuracy: 0.9343\n",
      "\n",
      "Epoch 00091: saving model to model/keypoint_classifier\\keypoint_classifier.hdf5\n",
      "Epoch 92/1000\n",
      "51/51 [==============================] - 0s 4ms/step - loss: 0.7156 - accuracy: 0.7452 - val_loss: 0.4056 - val_accuracy: 0.9385\n",
      "\n",
      "Epoch 00092: saving model to model/keypoint_classifier\\keypoint_classifier.hdf5\n",
      "Epoch 93/1000\n",
      "51/51 [==============================] - 0s 4ms/step - loss: 0.7198 - accuracy: 0.7365 - val_loss: 0.4091 - val_accuracy: 0.9357\n",
      "\n",
      "Epoch 00093: saving model to model/keypoint_classifier\\keypoint_classifier.hdf5\n",
      "Epoch 94/1000\n",
      "51/51 [==============================] - 0s 4ms/step - loss: 0.7500 - accuracy: 0.7230 - val_loss: 0.4264 - val_accuracy: 0.9343\n",
      "\n",
      "Epoch 00094: saving model to model/keypoint_classifier\\keypoint_classifier.hdf5\n",
      "Epoch 95/1000\n",
      "51/51 [==============================] - 0s 3ms/step - loss: 0.7230 - accuracy: 0.7303 - val_loss: 0.4246 - val_accuracy: 0.9306\n",
      "\n",
      "Epoch 00095: saving model to model/keypoint_classifier\\keypoint_classifier.hdf5\n",
      "Epoch 96/1000\n",
      "51/51 [==============================] - 0s 4ms/step - loss: 0.7280 - accuracy: 0.7331 - val_loss: 0.4175 - val_accuracy: 0.9339\n",
      "\n",
      "Epoch 00096: saving model to model/keypoint_classifier\\keypoint_classifier.hdf5\n",
      "Epoch 97/1000\n",
      "51/51 [==============================] - 0s 4ms/step - loss: 0.7228 - accuracy: 0.7328 - val_loss: 0.4276 - val_accuracy: 0.9287\n",
      "\n",
      "Epoch 00097: saving model to model/keypoint_classifier\\keypoint_classifier.hdf5\n",
      "Epoch 98/1000\n",
      "51/51 [==============================] - 0s 3ms/step - loss: 0.7170 - accuracy: 0.7385 - val_loss: 0.4212 - val_accuracy: 0.9315\n",
      "\n",
      "Epoch 00098: saving model to model/keypoint_classifier\\keypoint_classifier.hdf5\n",
      "Epoch 99/1000\n",
      "51/51 [==============================] - 0s 3ms/step - loss: 0.7172 - accuracy: 0.7365 - val_loss: 0.4189 - val_accuracy: 0.9357\n",
      "\n",
      "Epoch 00099: saving model to model/keypoint_classifier\\keypoint_classifier.hdf5\n",
      "Epoch 100/1000\n",
      "51/51 [==============================] - 0s 3ms/step - loss: 0.7456 - accuracy: 0.7241 - val_loss: 0.4254 - val_accuracy: 0.9339\n",
      "\n",
      "Epoch 00100: saving model to model/keypoint_classifier\\keypoint_classifier.hdf5\n",
      "Epoch 101/1000\n",
      "51/51 [==============================] - 0s 3ms/step - loss: 0.7424 - accuracy: 0.7252 - val_loss: 0.4262 - val_accuracy: 0.9297\n",
      "\n",
      "Epoch 00101: saving model to model/keypoint_classifier\\keypoint_classifier.hdf5\n",
      "Epoch 102/1000\n",
      "51/51 [==============================] - 0s 7ms/step - loss: 0.7205 - accuracy: 0.7342 - val_loss: 0.4171 - val_accuracy: 0.9357\n",
      "\n",
      "Epoch 00102: saving model to model/keypoint_classifier\\keypoint_classifier.hdf5\n",
      "Epoch 103/1000\n",
      "51/51 [==============================] - 0s 4ms/step - loss: 0.7105 - accuracy: 0.7423 - val_loss: 0.4248 - val_accuracy: 0.9362\n",
      "\n",
      "Epoch 00103: saving model to model/keypoint_classifier\\keypoint_classifier.hdf5\n",
      "Epoch 104/1000\n",
      "51/51 [==============================] - 0s 4ms/step - loss: 0.7103 - accuracy: 0.7421 - val_loss: 0.4136 - val_accuracy: 0.9353\n",
      "\n",
      "Epoch 00104: saving model to model/keypoint_classifier\\keypoint_classifier.hdf5\n",
      "Epoch 105/1000\n",
      "51/51 [==============================] - 0s 3ms/step - loss: 0.7105 - accuracy: 0.7409 - val_loss: 0.4178 - val_accuracy: 0.9362\n",
      "\n",
      "Epoch 00105: saving model to model/keypoint_classifier\\keypoint_classifier.hdf5\n",
      "Epoch 106/1000\n",
      "51/51 [==============================] - 0s 3ms/step - loss: 0.7099 - accuracy: 0.7412 - val_loss: 0.4159 - val_accuracy: 0.9273\n",
      "\n",
      "Epoch 00106: saving model to model/keypoint_classifier\\keypoint_classifier.hdf5\n",
      "Epoch 107/1000\n",
      "51/51 [==============================] - 0s 3ms/step - loss: 0.7079 - accuracy: 0.7457 - val_loss: 0.4112 - val_accuracy: 0.9259\n",
      "\n",
      "Epoch 00107: saving model to model/keypoint_classifier\\keypoint_classifier.hdf5\n",
      "Epoch 108/1000\n",
      "51/51 [==============================] - 0s 3ms/step - loss: 0.7173 - accuracy: 0.7432 - val_loss: 0.4107 - val_accuracy: 0.9343\n",
      "\n",
      "Epoch 00108: saving model to model/keypoint_classifier\\keypoint_classifier.hdf5\n",
      "Epoch 109/1000\n",
      "51/51 [==============================] - 0s 3ms/step - loss: 0.7224 - accuracy: 0.7390 - val_loss: 0.4032 - val_accuracy: 0.9371\n",
      "\n",
      "Epoch 00109: saving model to model/keypoint_classifier\\keypoint_classifier.hdf5\n",
      "Epoch 110/1000\n",
      "51/51 [==============================] - 0s 4ms/step - loss: 0.7188 - accuracy: 0.7361 - val_loss: 0.4291 - val_accuracy: 0.9143\n"
     ]
    },
    {
     "name": "stdout",
     "output_type": "stream",
     "text": [
      "\n",
      "Epoch 00110: saving model to model/keypoint_classifier\\keypoint_classifier.hdf5\n",
      "Epoch 111/1000\n",
      "51/51 [==============================] - 0s 3ms/step - loss: 0.7153 - accuracy: 0.7351 - val_loss: 0.4149 - val_accuracy: 0.9329\n",
      "\n",
      "Epoch 00111: saving model to model/keypoint_classifier\\keypoint_classifier.hdf5\n",
      "Epoch 112/1000\n",
      "51/51 [==============================] - 0s 3ms/step - loss: 0.7085 - accuracy: 0.7401 - val_loss: 0.4168 - val_accuracy: 0.9311\n",
      "\n",
      "Epoch 00112: saving model to model/keypoint_classifier\\keypoint_classifier.hdf5\n",
      "Epoch 113/1000\n",
      "51/51 [==============================] - 0s 3ms/step - loss: 0.7164 - accuracy: 0.7403 - val_loss: 0.4308 - val_accuracy: 0.9166\n",
      "\n",
      "Epoch 00113: saving model to model/keypoint_classifier\\keypoint_classifier.hdf5\n",
      "Epoch 114/1000\n",
      "51/51 [==============================] - 0s 3ms/step - loss: 0.7062 - accuracy: 0.7463 - val_loss: 0.4172 - val_accuracy: 0.9264\n",
      "\n",
      "Epoch 00114: saving model to model/keypoint_classifier\\keypoint_classifier.hdf5\n",
      "Epoch 115/1000\n",
      "51/51 [==============================] - 0s 3ms/step - loss: 0.6895 - accuracy: 0.7528 - val_loss: 0.4089 - val_accuracy: 0.9218\n",
      "\n",
      "Epoch 00115: saving model to model/keypoint_classifier\\keypoint_classifier.hdf5\n",
      "Epoch 116/1000\n",
      "51/51 [==============================] - 0s 3ms/step - loss: 0.7095 - accuracy: 0.7382 - val_loss: 0.4130 - val_accuracy: 0.9297\n",
      "\n",
      "Epoch 00116: saving model to model/keypoint_classifier\\keypoint_classifier.hdf5\n",
      "Epoch 117/1000\n",
      "51/51 [==============================] - 0s 4ms/step - loss: 0.7028 - accuracy: 0.7426 - val_loss: 0.4176 - val_accuracy: 0.9273\n",
      "\n",
      "Epoch 00117: saving model to model/keypoint_classifier\\keypoint_classifier.hdf5\n",
      "Epoch 118/1000\n",
      "51/51 [==============================] - 0s 3ms/step - loss: 0.6963 - accuracy: 0.7431 - val_loss: 0.4072 - val_accuracy: 0.9385\n",
      "\n",
      "Epoch 00118: saving model to model/keypoint_classifier\\keypoint_classifier.hdf5\n",
      "Epoch 119/1000\n",
      "51/51 [==============================] - 0s 3ms/step - loss: 0.7063 - accuracy: 0.7462 - val_loss: 0.4302 - val_accuracy: 0.9185\n",
      "\n",
      "Epoch 00119: saving model to model/keypoint_classifier\\keypoint_classifier.hdf5\n",
      "Epoch 120/1000\n",
      "51/51 [==============================] - 0s 3ms/step - loss: 0.7010 - accuracy: 0.7463 - val_loss: 0.4377 - val_accuracy: 0.9283\n",
      "\n",
      "Epoch 00120: saving model to model/keypoint_classifier\\keypoint_classifier.hdf5\n",
      "Epoch 121/1000\n",
      "51/51 [==============================] - 0s 4ms/step - loss: 0.7161 - accuracy: 0.7364 - val_loss: 0.4245 - val_accuracy: 0.9259\n",
      "\n",
      "Epoch 00121: saving model to model/keypoint_classifier\\keypoint_classifier.hdf5\n",
      "Epoch 122/1000\n",
      "51/51 [==============================] - 0s 3ms/step - loss: 0.7073 - accuracy: 0.7435 - val_loss: 0.4197 - val_accuracy: 0.9273\n",
      "\n",
      "Epoch 00122: saving model to model/keypoint_classifier\\keypoint_classifier.hdf5\n",
      "Epoch 123/1000\n",
      "51/51 [==============================] - 0s 4ms/step - loss: 0.7085 - accuracy: 0.7440 - val_loss: 0.4185 - val_accuracy: 0.9273\n",
      "\n",
      "Epoch 00123: saving model to model/keypoint_classifier\\keypoint_classifier.hdf5\n",
      "Epoch 124/1000\n",
      "51/51 [==============================] - 0s 5ms/step - loss: 0.6823 - accuracy: 0.7530 - val_loss: 0.4182 - val_accuracy: 0.9273\n",
      "\n",
      "Epoch 00124: saving model to model/keypoint_classifier\\keypoint_classifier.hdf5\n",
      "Epoch 125/1000\n",
      "51/51 [==============================] - 0s 6ms/step - loss: 0.6806 - accuracy: 0.7564 - val_loss: 0.4047 - val_accuracy: 0.9241\n",
      "\n",
      "Epoch 00125: saving model to model/keypoint_classifier\\keypoint_classifier.hdf5\n",
      "Epoch 126/1000\n",
      "51/51 [==============================] - 0s 6ms/step - loss: 0.7014 - accuracy: 0.7435 - val_loss: 0.4165 - val_accuracy: 0.9287\n",
      "\n",
      "Epoch 00126: saving model to model/keypoint_classifier\\keypoint_classifier.hdf5\n",
      "Epoch 127/1000\n",
      "51/51 [==============================] - 0s 4ms/step - loss: 0.7088 - accuracy: 0.7370 - val_loss: 0.4170 - val_accuracy: 0.9264\n",
      "\n",
      "Epoch 00127: saving model to model/keypoint_classifier\\keypoint_classifier.hdf5\n",
      "Epoch 128/1000\n",
      "51/51 [==============================] - 0s 4ms/step - loss: 0.6859 - accuracy: 0.7494 - val_loss: 0.4021 - val_accuracy: 0.9367\n",
      "\n",
      "Epoch 00128: saving model to model/keypoint_classifier\\keypoint_classifier.hdf5\n",
      "Epoch 129/1000\n",
      "51/51 [==============================] - 1s 16ms/step - loss: 0.6915 - accuracy: 0.7494 - val_loss: 0.4152 - val_accuracy: 0.9306\n",
      "\n",
      "Epoch 00129: saving model to model/keypoint_classifier\\keypoint_classifier.hdf5\n",
      "Epoch 130/1000\n",
      "51/51 [==============================] - 0s 8ms/step - loss: 0.6979 - accuracy: 0.7446 - val_loss: 0.4259 - val_accuracy: 0.9250\n",
      "\n",
      "Epoch 00130: saving model to model/keypoint_classifier\\keypoint_classifier.hdf5\n",
      "Epoch 131/1000\n",
      "51/51 [==============================] - 1s 11ms/step - loss: 0.6976 - accuracy: 0.7455 - val_loss: 0.4197 - val_accuracy: 0.9273\n",
      "\n",
      "Epoch 00131: saving model to model/keypoint_classifier\\keypoint_classifier.hdf5\n",
      "Epoch 132/1000\n",
      "51/51 [==============================] - 0s 8ms/step - loss: 0.6879 - accuracy: 0.7570 - val_loss: 0.4175 - val_accuracy: 0.9269\n",
      "\n",
      "Epoch 00132: saving model to model/keypoint_classifier\\keypoint_classifier.hdf5\n",
      "Epoch 133/1000\n",
      "51/51 [==============================] - 0s 6ms/step - loss: 0.6874 - accuracy: 0.7559 - val_loss: 0.4114 - val_accuracy: 0.9218\n",
      "\n",
      "Epoch 00133: saving model to model/keypoint_classifier\\keypoint_classifier.hdf5\n",
      "Epoch 134/1000\n",
      "51/51 [==============================] - 0s 8ms/step - loss: 0.6927 - accuracy: 0.7491 - val_loss: 0.4352 - val_accuracy: 0.9194\n",
      "\n",
      "Epoch 00134: saving model to model/keypoint_classifier\\keypoint_classifier.hdf5\n",
      "Epoch 135/1000\n",
      "51/51 [==============================] - 1s 11ms/step - loss: 0.6953 - accuracy: 0.7420 - val_loss: 0.4479 - val_accuracy: 0.8971\n",
      "\n",
      "Epoch 00135: saving model to model/keypoint_classifier\\keypoint_classifier.hdf5\n",
      "Epoch 136/1000\n",
      "51/51 [==============================] - 0s 6ms/step - loss: 0.6864 - accuracy: 0.7522 - val_loss: 0.4226 - val_accuracy: 0.9231\n",
      "\n",
      "Epoch 00136: saving model to model/keypoint_classifier\\keypoint_classifier.hdf5\n",
      "Epoch 137/1000\n",
      "51/51 [==============================] - 0s 6ms/step - loss: 0.6914 - accuracy: 0.7549 - val_loss: 0.4339 - val_accuracy: 0.9245\n",
      "\n",
      "Epoch 00137: saving model to model/keypoint_classifier\\keypoint_classifier.hdf5\n",
      "Epoch 138/1000\n",
      "51/51 [==============================] - 0s 9ms/step - loss: 0.6983 - accuracy: 0.7458 - val_loss: 0.4275 - val_accuracy: 0.9245\n",
      "\n",
      "Epoch 00138: saving model to model/keypoint_classifier\\keypoint_classifier.hdf5\n",
      "Epoch 139/1000\n",
      "51/51 [==============================] - 0s 8ms/step - loss: 0.6997 - accuracy: 0.7490 - val_loss: 0.4161 - val_accuracy: 0.9264\n",
      "\n",
      "Epoch 00139: saving model to model/keypoint_classifier\\keypoint_classifier.hdf5\n",
      "Epoch 140/1000\n",
      "51/51 [==============================] - 0s 6ms/step - loss: 0.6800 - accuracy: 0.7566 - val_loss: 0.3994 - val_accuracy: 0.9297\n",
      "\n",
      "Epoch 00140: saving model to model/keypoint_classifier\\keypoint_classifier.hdf5\n",
      "Epoch 141/1000\n",
      "51/51 [==============================] - 0s 4ms/step - loss: 0.6744 - accuracy: 0.7564 - val_loss: 0.4190 - val_accuracy: 0.9208\n",
      "\n",
      "Epoch 00141: saving model to model/keypoint_classifier\\keypoint_classifier.hdf5\n",
      "Epoch 142/1000\n",
      "51/51 [==============================] - 0s 6ms/step - loss: 0.6861 - accuracy: 0.7510 - val_loss: 0.4236 - val_accuracy: 0.9171\n",
      "\n",
      "Epoch 00142: saving model to model/keypoint_classifier\\keypoint_classifier.hdf5\n",
      "Epoch 143/1000\n",
      "51/51 [==============================] - 0s 6ms/step - loss: 0.6899 - accuracy: 0.7511 - val_loss: 0.4205 - val_accuracy: 0.9143\n",
      "\n",
      "Epoch 00143: saving model to model/keypoint_classifier\\keypoint_classifier.hdf5\n",
      "Epoch 144/1000\n",
      "51/51 [==============================] - 0s 6ms/step - loss: 0.6682 - accuracy: 0.7645 - val_loss: 0.4133 - val_accuracy: 0.9068\n",
      "\n",
      "Epoch 00144: saving model to model/keypoint_classifier\\keypoint_classifier.hdf5\n",
      "Epoch 145/1000\n",
      "51/51 [==============================] - 0s 6ms/step - loss: 0.6658 - accuracy: 0.7604 - val_loss: 0.4105 - val_accuracy: 0.9218\n",
      "\n",
      "Epoch 00145: saving model to model/keypoint_classifier\\keypoint_classifier.hdf5\n",
      "Epoch 146/1000\n",
      "51/51 [==============================] - 0s 8ms/step - loss: 0.6655 - accuracy: 0.7608 - val_loss: 0.4094 - val_accuracy: 0.9152\n",
      "\n",
      "Epoch 00146: saving model to model/keypoint_classifier\\keypoint_classifier.hdf5\n",
      "Epoch 147/1000\n"
     ]
    },
    {
     "name": "stdout",
     "output_type": "stream",
     "text": [
      "51/51 [==============================] - 0s 4ms/step - loss: 0.6904 - accuracy: 0.7539 - val_loss: 0.4330 - val_accuracy: 0.9166\n",
      "\n",
      "Epoch 00147: saving model to model/keypoint_classifier\\keypoint_classifier.hdf5\n",
      "Epoch 148/1000\n",
      "51/51 [==============================] - 0s 6ms/step - loss: 0.6790 - accuracy: 0.7614 - val_loss: 0.4305 - val_accuracy: 0.9041\n",
      "\n",
      "Epoch 00148: saving model to model/keypoint_classifier\\keypoint_classifier.hdf5\n",
      "Epoch 149/1000\n",
      "51/51 [==============================] - 0s 5ms/step - loss: 0.6786 - accuracy: 0.7510 - val_loss: 0.4130 - val_accuracy: 0.9208\n",
      "\n",
      "Epoch 00149: saving model to model/keypoint_classifier\\keypoint_classifier.hdf5\n",
      "Epoch 150/1000\n",
      "51/51 [==============================] - 0s 7ms/step - loss: 0.6698 - accuracy: 0.7547 - val_loss: 0.4280 - val_accuracy: 0.9162\n",
      "\n",
      "Epoch 00150: saving model to model/keypoint_classifier\\keypoint_classifier.hdf5\n",
      "Epoch 151/1000\n",
      "51/51 [==============================] - 0s 5ms/step - loss: 0.6911 - accuracy: 0.7479 - val_loss: 0.4479 - val_accuracy: 0.9082\n",
      "\n",
      "Epoch 00151: saving model to model/keypoint_classifier\\keypoint_classifier.hdf5\n",
      "Epoch 152/1000\n",
      "51/51 [==============================] - 0s 5ms/step - loss: 0.6872 - accuracy: 0.7474 - val_loss: 0.4151 - val_accuracy: 0.9283\n",
      "\n",
      "Epoch 00152: saving model to model/keypoint_classifier\\keypoint_classifier.hdf5\n",
      "Epoch 153/1000\n",
      "51/51 [==============================] - 0s 8ms/step - loss: 0.6704 - accuracy: 0.7561 - val_loss: 0.4124 - val_accuracy: 0.9269\n",
      "\n",
      "Epoch 00153: saving model to model/keypoint_classifier\\keypoint_classifier.hdf5\n",
      "Epoch 154/1000\n",
      "51/51 [==============================] - 0s 6ms/step - loss: 0.6790 - accuracy: 0.7541 - val_loss: 0.4312 - val_accuracy: 0.9110\n",
      "\n",
      "Epoch 00154: saving model to model/keypoint_classifier\\keypoint_classifier.hdf5\n",
      "Epoch 155/1000\n",
      "51/51 [==============================] - 0s 7ms/step - loss: 0.6809 - accuracy: 0.7502 - val_loss: 0.4380 - val_accuracy: 0.9054\n",
      "\n",
      "Epoch 00155: saving model to model/keypoint_classifier\\keypoint_classifier.hdf5\n",
      "Epoch 156/1000\n",
      "51/51 [==============================] - 0s 8ms/step - loss: 0.6871 - accuracy: 0.7488 - val_loss: 0.4125 - val_accuracy: 0.9283\n",
      "\n",
      "Epoch 00156: saving model to model/keypoint_classifier\\keypoint_classifier.hdf5\n",
      "Epoch 157/1000\n",
      "51/51 [==============================] - ETA: 0s - loss: 0.6913 - accuracy: 0.74 - 0s 5ms/step - loss: 0.6916 - accuracy: 0.7502 - val_loss: 0.4427 - val_accuracy: 0.9031\n",
      "\n",
      "Epoch 00157: saving model to model/keypoint_classifier\\keypoint_classifier.hdf5\n",
      "Epoch 158/1000\n",
      "51/51 [==============================] - 0s 9ms/step - loss: 0.6844 - accuracy: 0.7454 - val_loss: 0.4510 - val_accuracy: 0.8957\n",
      "\n",
      "Epoch 00158: saving model to model/keypoint_classifier\\keypoint_classifier.hdf5\n",
      "Epoch 159/1000\n",
      "51/51 [==============================] - 0s 6ms/step - loss: 0.6715 - accuracy: 0.7561 - val_loss: 0.4330 - val_accuracy: 0.9134\n",
      "\n",
      "Epoch 00159: saving model to model/keypoint_classifier\\keypoint_classifier.hdf5\n",
      "Epoch 160/1000\n",
      "51/51 [==============================] - 0s 8ms/step - loss: 0.6817 - accuracy: 0.7572 - val_loss: 0.4461 - val_accuracy: 0.8957\n",
      "\n",
      "Epoch 00160: saving model to model/keypoint_classifier\\keypoint_classifier.hdf5\n",
      "Epoch 00160: early stopping\n"
     ]
    },
    {
     "data": {
      "text/plain": [
       "<keras.callbacks.History at 0x17f0d4e1ca0>"
      ]
     },
     "execution_count": 102,
     "metadata": {},
     "output_type": "execute_result"
    }
   ],
   "source": [
    "model.fit(\n",
    "    X_train,\n",
    "    y_train,\n",
    "    epochs=1000,\n",
    "    batch_size=128,\n",
    "    validation_data=(X_test, y_test),\n",
    "    callbacks=[cp_callback, es_callback]\n",
    ")"
   ]
  },
  {
   "cell_type": "code",
   "execution_count": 103,
   "metadata": {
    "colab": {
     "base_uri": "https://localhost:8080/"
    },
    "id": "pxvb2Y299hE3",
    "outputId": "59eb3185-2e37-4b9e-bc9d-ab1b8ac29b7f"
   },
   "outputs": [
    {
     "name": "stdout",
     "output_type": "stream",
     "text": [
      "17/17 [==============================] - 0s 2ms/step - loss: 0.4461 - accuracy: 0.8957\n"
     ]
    }
   ],
   "source": [
    "# Model evaluation\n",
    "val_loss, val_acc = model.evaluate(X_test, y_test, batch_size=128)"
   ]
  },
  {
   "cell_type": "code",
   "execution_count": 104,
   "metadata": {
    "id": "RBkmDeUW9hE4"
   },
   "outputs": [],
   "source": [
    "# Loading the saved model\n",
    "model = tf.keras.models.load_model(model_save_path)"
   ]
  },
  {
   "cell_type": "code",
   "execution_count": 105,
   "metadata": {
    "colab": {
     "base_uri": "https://localhost:8080/"
    },
    "id": "tFz9Tb0I9hE4",
    "outputId": "1c3b3528-54ae-4ee2-ab04-77429211cbef"
   },
   "outputs": [
    {
     "name": "stdout",
     "output_type": "stream",
     "text": [
      "[2.0875245e-01 1.6788046e-01 9.0403284e-04 6.2005913e-01 2.4040169e-03\n",
      " 2.4314806e-13]\n",
      "3\n"
     ]
    }
   ],
   "source": [
    "# Inference test\n",
    "predict_result = model.predict(np.array([X_test[0]]))\n",
    "print(np.squeeze(predict_result))\n",
    "print(np.argmax(np.squeeze(predict_result)))"
   ]
  },
  {
   "cell_type": "markdown",
   "metadata": {
    "id": "S3U4yNWx9hE4"
   },
   "source": [
    "# Confusion matrix"
   ]
  },
  {
   "cell_type": "code",
   "execution_count": 106,
   "metadata": {
    "colab": {
     "base_uri": "https://localhost:8080/",
     "height": 582
    },
    "id": "AP1V6SCk9hE5",
    "outputId": "08e41a80-7a4a-4619-8125-ecc371368d19"
   },
   "outputs": [
    {
     "data": {
      "image/png": "[encoded data removed]",
      "text/plain": [
       "<Figure size 504x432 with 2 Axes>"
      ]
     },
     "metadata": {
      "needs_background": "light"
     },
     "output_type": "display_data"
    },
    {
     "name": "stdout",
     "output_type": "stream",
     "text": [
      "Classification Report\n",
      "              precision    recall  f1-score   support\n",
      "\n",
      "           0       0.96      0.77      0.86       581\n",
      "           1       0.96      0.94      0.95       546\n",
      "           2       0.86      0.94      0.90       317\n",
      "           3       0.75      0.95      0.84       352\n",
      "           4       1.00      0.84      0.91       149\n",
      "           5       0.90      0.99      0.94       202\n",
      "\n",
      "    accuracy                           0.90      2147\n",
      "   macro avg       0.90      0.91      0.90      2147\n",
      "weighted avg       0.91      0.90      0.90      2147\n",
      "\n"
     ]
    }
   ],
   "source": [
    "import pandas as pd\n",
    "import seaborn as sns\n",
    "import matplotlib.pyplot as plt\n",
    "from sklearn.metrics import confusion_matrix, classification_report\n",
    "\n",
    "def print_confusion_matrix(y_true, y_pred, report=True):\n",
    "    labels = sorted(list(set(y_true)))\n",
    "    cmx_data = confusion_matrix(y_true, y_pred, labels=labels)\n",
    "    \n",
    "    df_cmx = pd.DataFrame(cmx_data, index=labels, columns=labels)\n",
    " \n",
    "    fig, ax = plt.subplots(figsize=(7, 6))\n",
    "    sns.heatmap(df_cmx, annot=True, fmt='g' ,square=False)\n",
    "    ax.set_ylim(len(set(y_true)), 0)\n",
    "    plt.show()\n",
    "    \n",
    "    if report:\n",
    "        print('Classification Report')\n",
    "        print(classification_report(y_test, y_pred))\n",
    "\n",
    "Y_pred = model.predict(X_test)\n",
    "y_pred = np.argmax(Y_pred, axis=1)\n",
    "\n",
    "print_confusion_matrix(y_test, y_pred)"
   ]
  },
  {
   "cell_type": "markdown",
   "metadata": {
    "id": "FNP6aqzc9hE5"
   },
   "source": [
    "# Convert to model for Tensorflow-Lite"
   ]
  },
  {
   "cell_type": "code",
   "execution_count": 107,
   "metadata": {
    "id": "ODjnYyld9hE6"
   },
   "outputs": [],
   "source": [
    "# Save as a model dedicated to inference\n",
    "model.save(model_save_path, include_optimizer=False)"
   ]
  },
  {
   "cell_type": "code",
   "execution_count": 108,
   "metadata": {
    "colab": {
     "base_uri": "https://localhost:8080/"
    },
    "id": "zRfuK8Y59hE6",
    "outputId": "a4ca585c-b5d5-4244-8291-8674063209bb"
   },
   "outputs": [
    {
     "name": "stdout",
     "output_type": "stream",
     "text": [
      "INFO:tensorflow:Assets written to: C:\\Users\\Jeremy\\AppData\\Local\\Temp\\tmp_gb5zosh\\assets\n"
     ]
    },
    {
     "name": "stderr",
     "output_type": "stream",
     "text": [
      "INFO:tensorflow:Assets written to: C:\\Users\\Jeremy\\AppData\\Local\\Temp\\tmp_gb5zosh\\assets\n"
     ]
    },
    {
     "data": {
      "text/plain": [
       "6416"
      ]
     },
     "execution_count": 108,
     "metadata": {},
     "output_type": "execute_result"
    }
   ],
   "source": [
    "# Transform model (quantization)\n",
    "\n",
    "converter = tf.lite.TFLiteConverter.from_keras_model(model)\n",
    "converter.optimizations = [tf.lite.Optimize.DEFAULT]\n",
    "tflite_quantized_model = converter.convert()\n",
    "\n",
    "open(tflite_save_path, 'wb').write(tflite_quantized_model)"
   ]
  },
  {
   "cell_type": "markdown",
   "metadata": {
    "id": "CHBPBXdx9hE6"
   },
   "source": [
    "# Inference test"
   ]
  },
  {
   "cell_type": "code",
   "execution_count": 109,
   "metadata": {
    "id": "mGAzLocO9hE7"
   },
   "outputs": [],
   "source": [
    "interpreter = tf.lite.Interpreter(model_path=tflite_save_path)\n",
    "interpreter.allocate_tensors()"
   ]
  },
  {
   "cell_type": "code",
   "execution_count": 110,
   "metadata": {
    "id": "oQuDK8YS9hE7"
   },
   "outputs": [],
   "source": [
    "# Get I / O tensor\n",
    "input_details = interpreter.get_input_details()\n",
    "output_details = interpreter.get_output_details()"
   ]
  },
  {
   "cell_type": "code",
   "execution_count": 111,
   "metadata": {
    "id": "2_ixAf_l9hE7"
   },
   "outputs": [],
   "source": [
    "interpreter.set_tensor(input_details[0]['index'], np.array([X_test[0]]))"
   ]
  },
  {
   "cell_type": "code",
   "execution_count": 112,
   "metadata": {
    "colab": {
     "base_uri": "https://localhost:8080/"
    },
    "id": "s4FoAnuc9hE7",
    "outputId": "91f18257-8d8b-4ef3-c558-e9b5f94fabbf",
    "scrolled": true
   },
   "outputs": [
    {
     "name": "stdout",
     "output_type": "stream",
     "text": [
      "Wall time: 1.02 ms\n"
     ]
    }
   ],
   "source": [
    "%%time\n",
    "# Inference implementation\n",
    "interpreter.invoke()\n",
    "tflite_results = interpreter.get_tensor(output_details[0]['index'])"
   ]
  },
  {
   "cell_type": "code",
   "execution_count": 113,
   "metadata": {
    "colab": {
     "base_uri": "https://localhost:8080/"
    },
    "id": "vONjp19J9hE8",
    "outputId": "77205e24-fd00-42c4-f7b6-e06e527c2cba"
   },
   "outputs": [
    {
     "name": "stdout",
     "output_type": "stream",
     "text": [
      "[2.0875247e-01 1.6788048e-01 9.0403308e-04 6.2005901e-01 2.4040188e-03\n",
      " 2.4314849e-13]\n",
      "3\n"
     ]
    }
   ],
   "source": [
    "print(np.squeeze(tflite_results))\n",
    "print(np.argmax(np.squeeze(tflite_results)))"
   ]
  },
  {
   "cell_type": "code",
   "execution_count": null,
   "metadata": {},
   "outputs": [],
   "source": []
  },
  {
   "cell_type": "code",
   "execution_count": null,
   "metadata": {},
   "outputs": [],
   "source": []
  }
 ],
 "metadata": {
  "accelerator": "GPU",
  "colab": {
   "collapsed_sections": [],
   "name": "keypoint_classification_EN.ipynb",
   "provenance": [],
   "toc_visible": true
  },
  "kernelspec": {
   "display_name": "Python 3 (ipykernel)",
   "language": "python",
   "name": "python3"
  },
  "language_info": {
   "codemirror_mode": {
    "name": "ipython",
    "version": 3
   },
   "file_extension": ".py",
   "mimetype": "text/x-python",
   "name": "python",
   "nbconvert_exporter": "python",
   "pygments_lexer": "ipython3",
   "version": "3.8.0"
  }
 },
 "nbformat": 4,
 "nbformat_minor": 1
}
