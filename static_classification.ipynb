{
 "cells": [
  {
   "cell_type": "code",
   "execution_count": 125,
   "metadata": {
    "id": "igMyGnjE9hEp"
   },
   "outputs": [],
   "source": [
    "import csv\n",
    "\n",
    "import numpy as np\n",
    "import tensorflow as tf\n",
    "from sklearn.model_selection import train_test_split\n",
    "\n",
    "RANDOM_SEED = 42"
   ]
  },
  {
   "cell_type": "markdown",
   "metadata": {
    "id": "t2HDvhIu9hEr"
   },
   "source": [
    "# Specify each path"
   ]
  },
  {
   "cell_type": "code",
   "execution_count": 126,
   "metadata": {
    "id": "9NvZP2Zn9hEy"
   },
   "outputs": [],
   "source": [
    "dataset = 'model/static_classifier/static_data.csv'\n",
    "model_save_path = 'model/static_classifier/static_classifier.hdf5'\n",
    "tflite_save_path = 'model/static_classifier/static_classifier.tflite'"
   ]
  },
  {
   "cell_type": "markdown",
   "metadata": {
    "id": "s5oMH7x19hEz"
   },
   "source": [
    "# Set number of classes"
   ]
  },
  {
   "cell_type": "code",
   "execution_count": 127,
   "metadata": {
    "id": "du4kodXL9hEz"
   },
   "outputs": [],
   "source": [
    "NUM_CLASSES = 6"
   ]
  },
  {
   "cell_type": "markdown",
   "metadata": {
    "id": "XjnL0uso9hEz"
   },
   "source": [
    "# Dataset reading"
   ]
  },
  {
   "cell_type": "code",
   "execution_count": 128,
   "metadata": {
    "id": "QT5ZqtEz9hE0"
   },
   "outputs": [],
   "source": [
    "X_dataset = np.loadtxt(dataset, delimiter=',', dtype='float32', usecols=list(range(1, (21 * 2) + 1)))"
   ]
  },
  {
   "cell_type": "code",
   "execution_count": 129,
   "metadata": {
    "id": "QmoKFsp49hE0"
   },
   "outputs": [],
   "source": [
    "y_dataset = np.loadtxt(dataset, delimiter=',', dtype='int32', usecols=(0))"
   ]
  },
  {
   "cell_type": "code",
   "execution_count": 130,
   "metadata": {
    "id": "xQU7JTZ_9hE0"
   },
   "outputs": [],
   "source": [
    "X_train, X_test, y_train, y_test = train_test_split(X_dataset, y_dataset, train_size=0.75, random_state=RANDOM_SEED)"
   ]
  },
  {
   "cell_type": "markdown",
   "metadata": {
    "id": "mxK_lETT9hE0"
   },
   "source": [
    "# Model building"
   ]
  },
  {
   "cell_type": "code",
   "execution_count": 131,
   "metadata": {
    "id": "vHBmUf1t9hE1"
   },
   "outputs": [],
   "source": [
    "model = tf.keras.models.Sequential([\n",
    "    tf.keras.layers.Input((21 * 2, )),\n",
    "    tf.keras.layers.Dropout(0.2),\n",
    "    tf.keras.layers.Dense(20, activation='relu'),\n",
    "    tf.keras.layers.Dropout(0.4),\n",
    "    tf.keras.layers.Dense(10, activation='relu'),\n",
    "    tf.keras.layers.Dense(NUM_CLASSES, activation='softmax')\n",
    "])"
   ]
  },
  {
   "cell_type": "code",
   "execution_count": 132,
   "metadata": {
    "colab": {
     "base_uri": "https://localhost:8080/"
    },
    "id": "ypqky9tc9hE1",
    "outputId": "5db082bb-30e3-4110-bf63-a1ee777ecd46"
   },
   "outputs": [
    {
     "name": "stdout",
     "output_type": "stream",
     "text": [
      "Model: \"sequential_7\"\n",
      "_________________________________________________________________\n",
      "Layer (type)                 Output Shape              Param #   \n",
      "=================================================================\n",
      "dropout_14 (Dropout)         (None, 42)                0         \n",
      "_________________________________________________________________\n",
      "dense_21 (Dense)             (None, 20)                860       \n",
      "_________________________________________________________________\n",
      "dropout_15 (Dropout)         (None, 20)                0         \n",
      "_________________________________________________________________\n",
      "dense_22 (Dense)             (None, 10)                210       \n",
      "_________________________________________________________________\n",
      "dense_23 (Dense)             (None, 6)                 66        \n",
      "=================================================================\n",
      "Total params: 1,136\n",
      "Trainable params: 1,136\n",
      "Non-trainable params: 0\n",
      "_________________________________________________________________\n"
     ]
    }
   ],
   "source": [
    "model.summary()  # tf.keras.utils.plot_model(model, show_shapes=True)"
   ]
  },
  {
   "cell_type": "code",
   "execution_count": 133,
   "metadata": {
    "id": "MbMjOflQ9hE1"
   },
   "outputs": [],
   "source": [
    "# Model checkpoint callback\n",
    "cp_callback = tf.keras.callbacks.ModelCheckpoint(\n",
    "    model_save_path, verbose=1, save_weights_only=False)\n",
    "# Callback for early stopping\n",
    "es_callback = tf.keras.callbacks.EarlyStopping(patience=20, verbose=1)"
   ]
  },
  {
   "cell_type": "code",
   "execution_count": 134,
   "metadata": {
    "id": "c3Dac0M_9hE2"
   },
   "outputs": [],
   "source": [
    "# Model compilation\n",
    "model.compile(\n",
    "    optimizer='adam',\n",
    "    loss='sparse_categorical_crossentropy',\n",
    "    metrics=['accuracy']\n",
    ")"
   ]
  },
  {
   "cell_type": "markdown",
   "metadata": {
    "id": "7XI0j1Iu9hE2"
   },
   "source": [
    "# Model training"
   ]
  },
  {
   "cell_type": "code",
   "execution_count": 135,
   "metadata": {
    "colab": {
     "base_uri": "https://localhost:8080/"
    },
    "id": "WirBl-JE9hE3",
    "outputId": "71b30ca2-8294-4d9d-8aa2-800d90d399de",
    "scrolled": true
   },
   "outputs": [
    {
     "name": "stdout",
     "output_type": "stream",
     "text": [
      "Epoch 1/1000\n",
      "55/55 [==============================] - 1s 8ms/step - loss: 1.7724 - accuracy: 0.2279 - val_loss: 1.6652 - val_accuracy: 0.3885\n",
      "\n",
      "Epoch 00001: saving model to model/keypoint_classifier\\keypoint_classifier.hdf5\n",
      "Epoch 2/1000\n",
      "55/55 [==============================] - 0s 4ms/step - loss: 1.6004 - accuracy: 0.3337 - val_loss: 1.4608 - val_accuracy: 0.4403\n",
      "\n",
      "Epoch 00002: saving model to model/keypoint_classifier\\keypoint_classifier.hdf5\n",
      "Epoch 3/1000\n",
      "55/55 [==============================] - 0s 5ms/step - loss: 1.4948 - accuracy: 0.3837 - val_loss: 1.3524 - val_accuracy: 0.4752\n",
      "\n",
      "Epoch 00003: saving model to model/keypoint_classifier\\keypoint_classifier.hdf5\n",
      "Epoch 4/1000\n",
      "55/55 [==============================] - 0s 4ms/step - loss: 1.4217 - accuracy: 0.4139 - val_loss: 1.2573 - val_accuracy: 0.5545\n",
      "\n",
      "Epoch 00004: saving model to model/keypoint_classifier\\keypoint_classifier.hdf5\n",
      "Epoch 5/1000\n",
      "55/55 [==============================] - 0s 6ms/step - loss: 1.3465 - accuracy: 0.4454 - val_loss: 1.1675 - val_accuracy: 0.5683\n",
      "\n",
      "Epoch 00005: saving model to model/keypoint_classifier\\keypoint_classifier.hdf5\n",
      "Epoch 6/1000\n",
      "55/55 [==============================] - 0s 6ms/step - loss: 1.2909 - accuracy: 0.4766 - val_loss: 1.0906 - val_accuracy: 0.5981\n",
      "\n",
      "Epoch 00006: saving model to model/keypoint_classifier\\keypoint_classifier.hdf5\n",
      "Epoch 7/1000\n",
      "55/55 [==============================] - 0s 4ms/step - loss: 1.2311 - accuracy: 0.5004 - val_loss: 1.0178 - val_accuracy: 0.6244\n",
      "\n",
      "Epoch 00007: saving model to model/keypoint_classifier\\keypoint_classifier.hdf5\n",
      "Epoch 8/1000\n",
      "55/55 [==============================] - 0s 5ms/step - loss: 1.1710 - accuracy: 0.5311 - val_loss: 0.9419 - val_accuracy: 0.6645\n",
      "\n",
      "Epoch 00008: saving model to model/keypoint_classifier\\keypoint_classifier.hdf5\n",
      "Epoch 9/1000\n",
      "55/55 [==============================] - 0s 6ms/step - loss: 1.1425 - accuracy: 0.5459 - val_loss: 0.8914 - val_accuracy: 0.6688\n",
      "\n",
      "Epoch 00009: saving model to model/keypoint_classifier\\keypoint_classifier.hdf5\n",
      "Epoch 10/1000\n",
      "55/55 [==============================] - 0s 4ms/step - loss: 1.1119 - accuracy: 0.5548 - val_loss: 0.8543 - val_accuracy: 0.6977\n",
      "\n",
      "Epoch 00010: saving model to model/keypoint_classifier\\keypoint_classifier.hdf5\n",
      "Epoch 11/1000\n",
      "55/55 [==============================] - 0s 4ms/step - loss: 1.0819 - accuracy: 0.5733 - val_loss: 0.8130 - val_accuracy: 0.7115\n",
      "\n",
      "Epoch 00011: saving model to model/keypoint_classifier\\keypoint_classifier.hdf5\n",
      "Epoch 12/1000\n",
      "55/55 [==============================] - 0s 8ms/step - loss: 1.0645 - accuracy: 0.5881 - val_loss: 0.7791 - val_accuracy: 0.7309\n",
      "\n",
      "Epoch 00012: saving model to model/keypoint_classifier\\keypoint_classifier.hdf5\n",
      "Epoch 13/1000\n",
      "55/55 [==============================] - 0s 5ms/step - loss: 1.0324 - accuracy: 0.6014 - val_loss: 0.7568 - val_accuracy: 0.7426\n",
      "\n",
      "Epoch 00013: saving model to model/keypoint_classifier\\keypoint_classifier.hdf5\n",
      "Epoch 14/1000\n",
      "55/55 [==============================] - 1s 12ms/step - loss: 1.0171 - accuracy: 0.6009 - val_loss: 0.7247 - val_accuracy: 0.7762\n",
      "\n",
      "Epoch 00014: saving model to model/keypoint_classifier\\keypoint_classifier.hdf5\n",
      "Epoch 15/1000\n",
      "55/55 [==============================] - 0s 8ms/step - loss: 1.0071 - accuracy: 0.6018 - val_loss: 0.7045 - val_accuracy: 0.7671\n",
      "\n",
      "Epoch 00015: saving model to model/keypoint_classifier\\keypoint_classifier.hdf5\n",
      "Epoch 16/1000\n",
      "55/55 [==============================] - 0s 9ms/step - loss: 0.9905 - accuracy: 0.6130 - val_loss: 0.6936 - val_accuracy: 0.7758\n",
      "\n",
      "Epoch 00016: saving model to model/keypoint_classifier\\keypoint_classifier.hdf5\n",
      "Epoch 17/1000\n",
      "55/55 [==============================] - 1s 10ms/step - loss: 0.9704 - accuracy: 0.6172 - val_loss: 0.6735 - val_accuracy: 0.8021\n",
      "\n",
      "Epoch 00017: saving model to model/keypoint_classifier\\keypoint_classifier.hdf5\n",
      "Epoch 18/1000\n",
      "55/55 [==============================] - 1s 15ms/step - loss: 0.9767 - accuracy: 0.6164 - val_loss: 0.6645 - val_accuracy: 0.8081\n",
      "\n",
      "Epoch 00018: saving model to model/keypoint_classifier\\keypoint_classifier.hdf5\n",
      "Epoch 19/1000\n",
      "55/55 [==============================] - 1s 10ms/step - loss: 0.9501 - accuracy: 0.6246 - val_loss: 0.6452 - val_accuracy: 0.7809\n",
      "\n",
      "Epoch 00019: saving model to model/keypoint_classifier\\keypoint_classifier.hdf5\n",
      "Epoch 20/1000\n",
      "55/55 [==============================] - 0s 9ms/step - loss: 0.9526 - accuracy: 0.6245 - val_loss: 0.6346 - val_accuracy: 0.8159\n",
      "\n",
      "Epoch 00020: saving model to model/keypoint_classifier\\keypoint_classifier.hdf5\n",
      "Epoch 21/1000\n",
      "55/55 [==============================] - 0s 9ms/step - loss: 0.9291 - accuracy: 0.6315 - val_loss: 0.6192 - val_accuracy: 0.8215\n",
      "\n",
      "Epoch 00021: saving model to model/keypoint_classifier\\keypoint_classifier.hdf5\n",
      "Epoch 22/1000\n",
      "55/55 [==============================] - 1s 13ms/step - loss: 0.9106 - accuracy: 0.6413 - val_loss: 0.6025 - val_accuracy: 0.8055\n",
      "\n",
      "Epoch 00022: saving model to model/keypoint_classifier\\keypoint_classifier.hdf5\n",
      "Epoch 23/1000\n",
      "55/55 [==============================] - 0s 8ms/step - loss: 0.9079 - accuracy: 0.6425 - val_loss: 0.5951 - val_accuracy: 0.7753\n",
      "\n",
      "Epoch 00023: saving model to model/keypoint_classifier\\keypoint_classifier.hdf5\n",
      "Epoch 24/1000\n",
      "55/55 [==============================] - 1s 10ms/step - loss: 0.8867 - accuracy: 0.6570 - val_loss: 0.5784 - val_accuracy: 0.8387\n",
      "\n",
      "Epoch 00024: saving model to model/keypoint_classifier\\keypoint_classifier.hdf5\n",
      "Epoch 25/1000\n",
      "55/55 [==============================] - 0s 9ms/step - loss: 0.8797 - accuracy: 0.6494 - val_loss: 0.5722 - val_accuracy: 0.8491\n",
      "\n",
      "Epoch 00025: saving model to model/keypoint_classifier\\keypoint_classifier.hdf5\n",
      "Epoch 26/1000\n",
      "55/55 [==============================] - 0s 4ms/step - loss: 0.8872 - accuracy: 0.6492 - val_loss: 0.5538 - val_accuracy: 0.8866\n",
      "\n",
      "Epoch 00026: saving model to model/keypoint_classifier\\keypoint_classifier.hdf5\n",
      "Epoch 27/1000\n",
      "55/55 [==============================] - 1s 11ms/step - loss: 0.8755 - accuracy: 0.6517 - val_loss: 0.5580 - val_accuracy: 0.8491\n",
      "\n",
      "Epoch 00027: saving model to model/keypoint_classifier\\keypoint_classifier.hdf5\n",
      "Epoch 28/1000\n",
      "55/55 [==============================] - 0s 5ms/step - loss: 0.8633 - accuracy: 0.6587 - val_loss: 0.5611 - val_accuracy: 0.8650\n",
      "\n",
      "Epoch 00028: saving model to model/keypoint_classifier\\keypoint_classifier.hdf5\n",
      "Epoch 29/1000\n",
      "55/55 [==============================] - 1s 9ms/step - loss: 0.8618 - accuracy: 0.6590 - val_loss: 0.5383 - val_accuracy: 0.8780\n",
      "\n",
      "Epoch 00029: saving model to model/keypoint_classifier\\keypoint_classifier.hdf5\n",
      "Epoch 30/1000\n",
      "55/55 [==============================] - 1s 11ms/step - loss: 0.8368 - accuracy: 0.6702 - val_loss: 0.5245 - val_accuracy: 0.8965\n",
      "\n",
      "Epoch 00030: saving model to model/keypoint_classifier\\keypoint_classifier.hdf5\n",
      "Epoch 31/1000\n",
      "55/55 [==============================] - 0s 8ms/step - loss: 0.8357 - accuracy: 0.6725 - val_loss: 0.5262 - val_accuracy: 0.8564\n",
      "\n",
      "Epoch 00031: saving model to model/keypoint_classifier\\keypoint_classifier.hdf5\n",
      "Epoch 32/1000\n",
      "55/55 [==============================] - 0s 8ms/step - loss: 0.8433 - accuracy: 0.6712 - val_loss: 0.5159 - val_accuracy: 0.8620\n",
      "\n",
      "Epoch 00032: saving model to model/keypoint_classifier\\keypoint_classifier.hdf5\n",
      "Epoch 33/1000\n",
      "55/55 [==============================] - 1s 11ms/step - loss: 0.8350 - accuracy: 0.6734 - val_loss: 0.5049 - val_accuracy: 0.8801\n",
      "\n",
      "Epoch 00033: saving model to model/keypoint_classifier\\keypoint_classifier.hdf5\n",
      "Epoch 34/1000\n",
      "55/55 [==============================] - 0s 9ms/step - loss: 0.8270 - accuracy: 0.6775 - val_loss: 0.4982 - val_accuracy: 0.9168\n",
      "\n",
      "Epoch 00034: saving model to model/keypoint_classifier\\keypoint_classifier.hdf5\n",
      "Epoch 35/1000\n",
      "55/55 [==============================] - 1s 9ms/step - loss: 0.8394 - accuracy: 0.6807 - val_loss: 0.4904 - val_accuracy: 0.8866\n",
      "\n",
      "Epoch 00035: saving model to model/keypoint_classifier\\keypoint_classifier.hdf5\n",
      "Epoch 36/1000\n",
      "55/55 [==============================] - 0s 9ms/step - loss: 0.8227 - accuracy: 0.6823 - val_loss: 0.4994 - val_accuracy: 0.8944\n",
      "\n",
      "Epoch 00036: saving model to model/keypoint_classifier\\keypoint_classifier.hdf5\n",
      "Epoch 37/1000\n",
      "55/55 [==============================] - 0s 9ms/step - loss: 0.8180 - accuracy: 0.6817 - val_loss: 0.4899 - val_accuracy: 0.9168\n"
     ]
    },
    {
     "name": "stdout",
     "output_type": "stream",
     "text": [
      "\n",
      "Epoch 00037: saving model to model/keypoint_classifier\\keypoint_classifier.hdf5\n",
      "Epoch 38/1000\n",
      "55/55 [==============================] - 0s 7ms/step - loss: 0.8211 - accuracy: 0.6763 - val_loss: 0.4846 - val_accuracy: 0.8969\n",
      "\n",
      "Epoch 00038: saving model to model/keypoint_classifier\\keypoint_classifier.hdf5\n",
      "Epoch 39/1000\n",
      "55/55 [==============================] - 0s 7ms/step - loss: 0.8050 - accuracy: 0.6903 - val_loss: 0.4691 - val_accuracy: 0.9034\n",
      "\n",
      "Epoch 00039: saving model to model/keypoint_classifier\\keypoint_classifier.hdf5\n",
      "Epoch 40/1000\n",
      "55/55 [==============================] - 0s 6ms/step - loss: 0.8009 - accuracy: 0.6834 - val_loss: 0.4754 - val_accuracy: 0.9271\n",
      "\n",
      "Epoch 00040: saving model to model/keypoint_classifier\\keypoint_classifier.hdf5\n",
      "Epoch 41/1000\n",
      "55/55 [==============================] - 0s 7ms/step - loss: 0.8005 - accuracy: 0.6915 - val_loss: 0.4560 - val_accuracy: 0.9004\n",
      "\n",
      "Epoch 00041: saving model to model/keypoint_classifier\\keypoint_classifier.hdf5\n",
      "Epoch 42/1000\n",
      "55/55 [==============================] - 0s 9ms/step - loss: 0.7919 - accuracy: 0.6970 - val_loss: 0.4735 - val_accuracy: 0.9133\n",
      "\n",
      "Epoch 00042: saving model to model/keypoint_classifier\\keypoint_classifier.hdf5\n",
      "Epoch 43/1000\n",
      "55/55 [==============================] - 0s 7ms/step - loss: 0.8002 - accuracy: 0.6948 - val_loss: 0.4569 - val_accuracy: 0.9133\n",
      "\n",
      "Epoch 00043: saving model to model/keypoint_classifier\\keypoint_classifier.hdf5\n",
      "Epoch 44/1000\n",
      "55/55 [==============================] - 0s 4ms/step - loss: 0.7835 - accuracy: 0.7004 - val_loss: 0.4578 - val_accuracy: 0.9254\n",
      "\n",
      "Epoch 00044: saving model to model/keypoint_classifier\\keypoint_classifier.hdf5\n",
      "Epoch 45/1000\n",
      "55/55 [==============================] - 0s 5ms/step - loss: 0.7929 - accuracy: 0.6978 - val_loss: 0.4498 - val_accuracy: 0.9232\n",
      "\n",
      "Epoch 00045: saving model to model/keypoint_classifier\\keypoint_classifier.hdf5\n",
      "Epoch 46/1000\n",
      "55/55 [==============================] - 0s 5ms/step - loss: 0.7764 - accuracy: 0.7040 - val_loss: 0.4550 - val_accuracy: 0.9215\n",
      "\n",
      "Epoch 00046: saving model to model/keypoint_classifier\\keypoint_classifier.hdf5\n",
      "Epoch 47/1000\n",
      "55/55 [==============================] - 0s 6ms/step - loss: 0.7694 - accuracy: 0.7112 - val_loss: 0.4353 - val_accuracy: 0.9099\n",
      "\n",
      "Epoch 00047: saving model to model/keypoint_classifier\\keypoint_classifier.hdf5\n",
      "Epoch 48/1000\n",
      "55/55 [==============================] - 0s 5ms/step - loss: 0.7756 - accuracy: 0.7069 - val_loss: 0.4412 - val_accuracy: 0.9133\n",
      "\n",
      "Epoch 00048: saving model to model/keypoint_classifier\\keypoint_classifier.hdf5\n",
      "Epoch 49/1000\n",
      "55/55 [==============================] - 0s 4ms/step - loss: 0.7717 - accuracy: 0.7063 - val_loss: 0.4395 - val_accuracy: 0.9219\n",
      "\n",
      "Epoch 00049: saving model to model/keypoint_classifier\\keypoint_classifier.hdf5\n",
      "Epoch 50/1000\n",
      "55/55 [==============================] - 0s 4ms/step - loss: 0.7602 - accuracy: 0.7099 - val_loss: 0.4303 - val_accuracy: 0.9366\n",
      "\n",
      "Epoch 00050: saving model to model/keypoint_classifier\\keypoint_classifier.hdf5\n",
      "Epoch 51/1000\n",
      "55/55 [==============================] - 0s 7ms/step - loss: 0.7536 - accuracy: 0.7109 - val_loss: 0.4236 - val_accuracy: 0.9258\n",
      "\n",
      "Epoch 00051: saving model to model/keypoint_classifier\\keypoint_classifier.hdf5\n",
      "Epoch 52/1000\n",
      "55/55 [==============================] - 0s 6ms/step - loss: 0.7607 - accuracy: 0.7047 - val_loss: 0.4269 - val_accuracy: 0.9159\n",
      "\n",
      "Epoch 00052: saving model to model/keypoint_classifier\\keypoint_classifier.hdf5\n",
      "Epoch 53/1000\n",
      "55/55 [==============================] - 0s 4ms/step - loss: 0.7679 - accuracy: 0.7074 - val_loss: 0.4261 - val_accuracy: 0.9051\n",
      "\n",
      "Epoch 00053: saving model to model/keypoint_classifier\\keypoint_classifier.hdf5\n",
      "Epoch 54/1000\n",
      "55/55 [==============================] - 0s 6ms/step - loss: 0.7387 - accuracy: 0.7182 - val_loss: 0.4179 - val_accuracy: 0.9263\n",
      "\n",
      "Epoch 00054: saving model to model/keypoint_classifier\\keypoint_classifier.hdf5\n",
      "Epoch 55/1000\n",
      "55/55 [==============================] - 0s 6ms/step - loss: 0.7603 - accuracy: 0.7064 - val_loss: 0.4298 - val_accuracy: 0.9345\n",
      "\n",
      "Epoch 00055: saving model to model/keypoint_classifier\\keypoint_classifier.hdf5\n",
      "Epoch 56/1000\n",
      "55/55 [==============================] - 0s 5ms/step - loss: 0.7607 - accuracy: 0.7033 - val_loss: 0.4235 - val_accuracy: 0.9332\n",
      "\n",
      "Epoch 00056: saving model to model/keypoint_classifier\\keypoint_classifier.hdf5\n",
      "Epoch 57/1000\n",
      "55/55 [==============================] - 0s 7ms/step - loss: 0.7530 - accuracy: 0.7089 - val_loss: 0.4319 - val_accuracy: 0.9107\n",
      "\n",
      "Epoch 00057: saving model to model/keypoint_classifier\\keypoint_classifier.hdf5\n",
      "Epoch 58/1000\n",
      "55/55 [==============================] - 0s 5ms/step - loss: 0.7540 - accuracy: 0.7076 - val_loss: 0.4191 - val_accuracy: 0.9297\n",
      "\n",
      "Epoch 00058: saving model to model/keypoint_classifier\\keypoint_classifier.hdf5\n",
      "Epoch 59/1000\n",
      "55/55 [==============================] - 0s 4ms/step - loss: 0.7516 - accuracy: 0.7112 - val_loss: 0.4235 - val_accuracy: 0.9314\n",
      "\n",
      "Epoch 00059: saving model to model/keypoint_classifier\\keypoint_classifier.hdf5\n",
      "Epoch 60/1000\n",
      "55/55 [==============================] - 0s 6ms/step - loss: 0.7505 - accuracy: 0.7138 - val_loss: 0.4140 - val_accuracy: 0.9366\n",
      "\n",
      "Epoch 00060: saving model to model/keypoint_classifier\\keypoint_classifier.hdf5\n",
      "Epoch 61/1000\n",
      "55/55 [==============================] - 0s 5ms/step - loss: 0.7337 - accuracy: 0.7175 - val_loss: 0.4167 - val_accuracy: 0.9340\n",
      "\n",
      "Epoch 00061: saving model to model/keypoint_classifier\\keypoint_classifier.hdf5\n",
      "Epoch 62/1000\n",
      "55/55 [==============================] - 0s 4ms/step - loss: 0.7410 - accuracy: 0.7143 - val_loss: 0.4053 - val_accuracy: 0.9383\n",
      "\n",
      "Epoch 00062: saving model to model/keypoint_classifier\\keypoint_classifier.hdf5\n",
      "Epoch 63/1000\n",
      "55/55 [==============================] - 0s 4ms/step - loss: 0.7437 - accuracy: 0.7110 - val_loss: 0.4183 - val_accuracy: 0.9310\n",
      "\n",
      "Epoch 00063: saving model to model/keypoint_classifier\\keypoint_classifier.hdf5\n",
      "Epoch 64/1000\n",
      "55/55 [==============================] - 0s 4ms/step - loss: 0.7347 - accuracy: 0.7148 - val_loss: 0.4017 - val_accuracy: 0.9327\n",
      "\n",
      "Epoch 00064: saving model to model/keypoint_classifier\\keypoint_classifier.hdf5\n",
      "Epoch 65/1000\n",
      "55/55 [==============================] - 0s 8ms/step - loss: 0.7425 - accuracy: 0.7187 - val_loss: 0.4119 - val_accuracy: 0.9345\n",
      "\n",
      "Epoch 00065: saving model to model/keypoint_classifier\\keypoint_classifier.hdf5\n",
      "Epoch 66/1000\n",
      "55/55 [==============================] - 0s 8ms/step - loss: 0.7403 - accuracy: 0.7169 - val_loss: 0.4160 - val_accuracy: 0.9314\n",
      "\n",
      "Epoch 00066: saving model to model/keypoint_classifier\\keypoint_classifier.hdf5\n",
      "Epoch 67/1000\n",
      "55/55 [==============================] - 0s 6ms/step - loss: 0.7355 - accuracy: 0.7151 - val_loss: 0.4042 - val_accuracy: 0.9310\n",
      "\n",
      "Epoch 00067: saving model to model/keypoint_classifier\\keypoint_classifier.hdf5\n",
      "Epoch 68/1000\n",
      "55/55 [==============================] - 0s 4ms/step - loss: 0.7305 - accuracy: 0.7162 - val_loss: 0.4036 - val_accuracy: 0.9353\n",
      "\n",
      "Epoch 00068: saving model to model/keypoint_classifier\\keypoint_classifier.hdf5\n",
      "Epoch 69/1000\n",
      "55/55 [==============================] - 0s 5ms/step - loss: 0.7446 - accuracy: 0.7093 - val_loss: 0.4147 - val_accuracy: 0.9245\n",
      "\n",
      "Epoch 00069: saving model to model/keypoint_classifier\\keypoint_classifier.hdf5\n",
      "Epoch 70/1000\n",
      "55/55 [==============================] - 0s 5ms/step - loss: 0.7185 - accuracy: 0.7230 - val_loss: 0.4024 - val_accuracy: 0.9323\n",
      "\n",
      "Epoch 00070: saving model to model/keypoint_classifier\\keypoint_classifier.hdf5\n",
      "Epoch 71/1000\n",
      "55/55 [==============================] - 0s 6ms/step - loss: 0.7170 - accuracy: 0.7211 - val_loss: 0.3917 - val_accuracy: 0.9185\n",
      "\n",
      "Epoch 00071: saving model to model/keypoint_classifier\\keypoint_classifier.hdf5\n",
      "Epoch 72/1000\n",
      "55/55 [==============================] - 0s 7ms/step - loss: 0.7203 - accuracy: 0.7235 - val_loss: 0.3911 - val_accuracy: 0.9383\n",
      "\n",
      "Epoch 00072: saving model to model/keypoint_classifier\\keypoint_classifier.hdf5\n",
      "Epoch 73/1000\n",
      "55/55 [==============================] - 0s 4ms/step - loss: 0.7016 - accuracy: 0.7336 - val_loss: 0.3896 - val_accuracy: 0.9370\n",
      "\n",
      "Epoch 00073: saving model to model/keypoint_classifier\\keypoint_classifier.hdf5\n",
      "Epoch 74/1000\n",
      "55/55 [==============================] - 0s 4ms/step - loss: 0.7102 - accuracy: 0.7264 - val_loss: 0.3872 - val_accuracy: 0.9392\n",
      "\n",
      "Epoch 00074: saving model to model/keypoint_classifier\\keypoint_classifier.hdf5\n",
      "Epoch 75/1000\n",
      "55/55 [==============================] - 0s 4ms/step - loss: 0.7150 - accuracy: 0.7195 - val_loss: 0.3974 - val_accuracy: 0.9383\n",
      "\n",
      "Epoch 00075: saving model to model/keypoint_classifier\\keypoint_classifier.hdf5\n",
      "Epoch 76/1000\n",
      "55/55 [==============================] - 0s 5ms/step - loss: 0.7112 - accuracy: 0.7276 - val_loss: 0.3915 - val_accuracy: 0.9375\n",
      "\n",
      "Epoch 00076: saving model to model/keypoint_classifier\\keypoint_classifier.hdf5\n",
      "Epoch 77/1000\n",
      "55/55 [==============================] - 0s 4ms/step - loss: 0.7197 - accuracy: 0.7123 - val_loss: 0.3948 - val_accuracy: 0.9288\n",
      "\n",
      "Epoch 00077: saving model to model/keypoint_classifier\\keypoint_classifier.hdf5\n",
      "Epoch 78/1000\n",
      "55/55 [==============================] - 0s 3ms/step - loss: 0.7159 - accuracy: 0.7233 - val_loss: 0.4006 - val_accuracy: 0.9125\n",
      "\n",
      "Epoch 00078: saving model to model/keypoint_classifier\\keypoint_classifier.hdf5\n",
      "Epoch 79/1000\n",
      "55/55 [==============================] - 0s 4ms/step - loss: 0.7184 - accuracy: 0.7194 - val_loss: 0.3862 - val_accuracy: 0.9215\n",
      "\n",
      "Epoch 00079: saving model to model/keypoint_classifier\\keypoint_classifier.hdf5\n",
      "Epoch 80/1000\n",
      "55/55 [==============================] - 0s 3ms/step - loss: 0.7134 - accuracy: 0.7257 - val_loss: 0.3929 - val_accuracy: 0.9263\n",
      "\n",
      "Epoch 00080: saving model to model/keypoint_classifier\\keypoint_classifier.hdf5\n",
      "Epoch 81/1000\n",
      "55/55 [==============================] - 0s 3ms/step - loss: 0.7140 - accuracy: 0.7261 - val_loss: 0.3978 - val_accuracy: 0.9379\n",
      "\n",
      "Epoch 00081: saving model to model/keypoint_classifier\\keypoint_classifier.hdf5\n",
      "Epoch 82/1000\n",
      "55/55 [==============================] - 0s 3ms/step - loss: 0.7081 - accuracy: 0.7307 - val_loss: 0.3865 - val_accuracy: 0.9332\n",
      "\n",
      "Epoch 00082: saving model to model/keypoint_classifier\\keypoint_classifier.hdf5\n",
      "Epoch 83/1000\n",
      "55/55 [==============================] - 0s 4ms/step - loss: 0.7099 - accuracy: 0.7264 - val_loss: 0.3910 - val_accuracy: 0.9396\n",
      "\n",
      "Epoch 00083: saving model to model/keypoint_classifier\\keypoint_classifier.hdf5\n",
      "Epoch 84/1000\n",
      "55/55 [==============================] - 0s 3ms/step - loss: 0.7112 - accuracy: 0.7276 - val_loss: 0.3917 - val_accuracy: 0.9301\n",
      "\n",
      "Epoch 00084: saving model to model/keypoint_classifier\\keypoint_classifier.hdf5\n",
      "Epoch 85/1000\n",
      "55/55 [==============================] - 0s 3ms/step - loss: 0.7085 - accuracy: 0.7287 - val_loss: 0.3911 - val_accuracy: 0.9431\n",
      "\n",
      "Epoch 00085: saving model to model/keypoint_classifier\\keypoint_classifier.hdf5\n",
      "Epoch 86/1000\n",
      "55/55 [==============================] - 0s 3ms/step - loss: 0.7101 - accuracy: 0.7253 - val_loss: 0.4011 - val_accuracy: 0.9267\n",
      "\n",
      "Epoch 00086: saving model to model/keypoint_classifier\\keypoint_classifier.hdf5\n",
      "Epoch 87/1000\n",
      "55/55 [==============================] - 0s 3ms/step - loss: 0.6911 - accuracy: 0.7271 - val_loss: 0.3793 - val_accuracy: 0.9370\n",
      "\n",
      "Epoch 00087: saving model to model/keypoint_classifier\\keypoint_classifier.hdf5\n",
      "Epoch 88/1000\n",
      "55/55 [==============================] - 0s 4ms/step - loss: 0.7064 - accuracy: 0.7302 - val_loss: 0.3798 - val_accuracy: 0.9357\n",
      "\n",
      "Epoch 00088: saving model to model/keypoint_classifier\\keypoint_classifier.hdf5\n",
      "Epoch 89/1000\n",
      "55/55 [==============================] - 0s 3ms/step - loss: 0.7042 - accuracy: 0.7319 - val_loss: 0.3834 - val_accuracy: 0.9362\n",
      "\n",
      "Epoch 00089: saving model to model/keypoint_classifier\\keypoint_classifier.hdf5\n",
      "Epoch 90/1000\n",
      "55/55 [==============================] - 0s 4ms/step - loss: 0.7062 - accuracy: 0.7304 - val_loss: 0.3779 - val_accuracy: 0.9396\n",
      "\n",
      "Epoch 00090: saving model to model/keypoint_classifier\\keypoint_classifier.hdf5\n",
      "Epoch 91/1000\n",
      "55/55 [==============================] - 0s 3ms/step - loss: 0.7253 - accuracy: 0.7223 - val_loss: 0.3899 - val_accuracy: 0.9362\n",
      "\n",
      "Epoch 00091: saving model to model/keypoint_classifier\\keypoint_classifier.hdf5\n",
      "Epoch 92/1000\n",
      "55/55 [==============================] - 0s 4ms/step - loss: 0.6962 - accuracy: 0.7325 - val_loss: 0.3875 - val_accuracy: 0.9370\n",
      "\n",
      "Epoch 00092: saving model to model/keypoint_classifier\\keypoint_classifier.hdf5\n",
      "Epoch 93/1000\n",
      "55/55 [==============================] - 0s 4ms/step - loss: 0.6978 - accuracy: 0.7296 - val_loss: 0.3926 - val_accuracy: 0.9366\n",
      "\n",
      "Epoch 00093: saving model to model/keypoint_classifier\\keypoint_classifier.hdf5\n",
      "Epoch 94/1000\n",
      "55/55 [==============================] - 0s 3ms/step - loss: 0.7047 - accuracy: 0.7322 - val_loss: 0.3786 - val_accuracy: 0.9405\n",
      "\n",
      "Epoch 00094: saving model to model/keypoint_classifier\\keypoint_classifier.hdf5\n",
      "Epoch 95/1000\n",
      "55/55 [==============================] - 0s 3ms/step - loss: 0.6972 - accuracy: 0.7292 - val_loss: 0.3957 - val_accuracy: 0.9297\n",
      "\n",
      "Epoch 00095: saving model to model/keypoint_classifier\\keypoint_classifier.hdf5\n",
      "Epoch 96/1000\n",
      "55/55 [==============================] - 0s 3ms/step - loss: 0.6906 - accuracy: 0.7332 - val_loss: 0.3876 - val_accuracy: 0.9332\n",
      "\n",
      "Epoch 00096: saving model to model/keypoint_classifier\\keypoint_classifier.hdf5\n",
      "Epoch 97/1000\n",
      "55/55 [==============================] - 0s 4ms/step - loss: 0.6937 - accuracy: 0.7346 - val_loss: 0.3828 - val_accuracy: 0.9353\n",
      "\n",
      "Epoch 00097: saving model to model/keypoint_classifier\\keypoint_classifier.hdf5\n",
      "Epoch 98/1000\n",
      "55/55 [==============================] - 0s 4ms/step - loss: 0.6853 - accuracy: 0.7339 - val_loss: 0.3877 - val_accuracy: 0.9431\n",
      "\n",
      "Epoch 00098: saving model to model/keypoint_classifier\\keypoint_classifier.hdf5\n",
      "Epoch 99/1000\n",
      "55/55 [==============================] - 0s 4ms/step - loss: 0.6853 - accuracy: 0.7350 - val_loss: 0.3839 - val_accuracy: 0.9401\n",
      "\n",
      "Epoch 00099: saving model to model/keypoint_classifier\\keypoint_classifier.hdf5\n",
      "Epoch 100/1000\n",
      "55/55 [==============================] - 0s 4ms/step - loss: 0.7012 - accuracy: 0.7225 - val_loss: 0.3839 - val_accuracy: 0.9405\n",
      "\n",
      "Epoch 00100: saving model to model/keypoint_classifier\\keypoint_classifier.hdf5\n",
      "Epoch 101/1000\n",
      "55/55 [==============================] - 0s 5ms/step - loss: 0.6870 - accuracy: 0.7359 - val_loss: 0.3734 - val_accuracy: 0.9392\n",
      "\n",
      "Epoch 00101: saving model to model/keypoint_classifier\\keypoint_classifier.hdf5\n",
      "Epoch 102/1000\n",
      "55/55 [==============================] - 0s 3ms/step - loss: 0.6984 - accuracy: 0.7349 - val_loss: 0.3749 - val_accuracy: 0.9431\n",
      "\n",
      "Epoch 00102: saving model to model/keypoint_classifier\\keypoint_classifier.hdf5\n",
      "Epoch 103/1000\n",
      "55/55 [==============================] - 0s 5ms/step - loss: 0.6937 - accuracy: 0.7315 - val_loss: 0.3891 - val_accuracy: 0.9301\n",
      "\n",
      "Epoch 00103: saving model to model/keypoint_classifier\\keypoint_classifier.hdf5\n",
      "Epoch 104/1000\n",
      "55/55 [==============================] - 0s 4ms/step - loss: 0.6705 - accuracy: 0.7362 - val_loss: 0.3783 - val_accuracy: 0.9409\n",
      "\n",
      "Epoch 00104: saving model to model/keypoint_classifier\\keypoint_classifier.hdf5\n",
      "Epoch 105/1000\n",
      "55/55 [==============================] - 1s 14ms/step - loss: 0.6944 - accuracy: 0.7310 - val_loss: 0.3862 - val_accuracy: 0.9340\n",
      "\n",
      "Epoch 00105: saving model to model/keypoint_classifier\\keypoint_classifier.hdf5\n",
      "Epoch 106/1000\n",
      "55/55 [==============================] - 1s 10ms/step - loss: 0.7015 - accuracy: 0.7327 - val_loss: 0.3869 - val_accuracy: 0.9383\n",
      "\n",
      "Epoch 00106: saving model to model/keypoint_classifier\\keypoint_classifier.hdf5\n",
      "Epoch 107/1000\n",
      "55/55 [==============================] - 0s 9ms/step - loss: 0.6842 - accuracy: 0.7373 - val_loss: 0.3846 - val_accuracy: 0.9396\n",
      "\n",
      "Epoch 00107: saving model to model/keypoint_classifier\\keypoint_classifier.hdf5\n",
      "Epoch 108/1000\n",
      "55/55 [==============================] - 0s 8ms/step - loss: 0.6866 - accuracy: 0.7373 - val_loss: 0.3909 - val_accuracy: 0.9280\n",
      "\n",
      "Epoch 00108: saving model to model/keypoint_classifier\\keypoint_classifier.hdf5\n",
      "Epoch 109/1000\n",
      "55/55 [==============================] - 0s 8ms/step - loss: 0.7021 - accuracy: 0.7246 - val_loss: 0.3855 - val_accuracy: 0.9396\n",
      "\n",
      "Epoch 00109: saving model to model/keypoint_classifier\\keypoint_classifier.hdf5\n",
      "Epoch 110/1000\n",
      "55/55 [==============================] - 0s 5ms/step - loss: 0.6952 - accuracy: 0.7284 - val_loss: 0.3896 - val_accuracy: 0.9370\n"
     ]
    },
    {
     "name": "stdout",
     "output_type": "stream",
     "text": [
      "\n",
      "Epoch 00110: saving model to model/keypoint_classifier\\keypoint_classifier.hdf5\n",
      "Epoch 111/1000\n",
      "55/55 [==============================] - 0s 4ms/step - loss: 0.6755 - accuracy: 0.7414 - val_loss: 0.3806 - val_accuracy: 0.9357\n",
      "\n",
      "Epoch 00111: saving model to model/keypoint_classifier\\keypoint_classifier.hdf5\n",
      "Epoch 112/1000\n",
      "55/55 [==============================] - 0s 4ms/step - loss: 0.6819 - accuracy: 0.7349 - val_loss: 0.3864 - val_accuracy: 0.9340\n",
      "\n",
      "Epoch 00112: saving model to model/keypoint_classifier\\keypoint_classifier.hdf5\n",
      "Epoch 113/1000\n",
      "55/55 [==============================] - 0s 3ms/step - loss: 0.6864 - accuracy: 0.7402 - val_loss: 0.3870 - val_accuracy: 0.9388\n",
      "\n",
      "Epoch 00113: saving model to model/keypoint_classifier\\keypoint_classifier.hdf5\n",
      "Epoch 114/1000\n",
      "55/55 [==============================] - 0s 5ms/step - loss: 0.6804 - accuracy: 0.7332 - val_loss: 0.3797 - val_accuracy: 0.9431\n",
      "\n",
      "Epoch 00114: saving model to model/keypoint_classifier\\keypoint_classifier.hdf5\n",
      "Epoch 115/1000\n",
      "55/55 [==============================] - 0s 4ms/step - loss: 0.6841 - accuracy: 0.7346 - val_loss: 0.3813 - val_accuracy: 0.9250\n",
      "\n",
      "Epoch 00115: saving model to model/keypoint_classifier\\keypoint_classifier.hdf5\n",
      "Epoch 116/1000\n",
      "55/55 [==============================] - 0s 4ms/step - loss: 0.6782 - accuracy: 0.7329 - val_loss: 0.3778 - val_accuracy: 0.9370\n",
      "\n",
      "Epoch 00116: saving model to model/keypoint_classifier\\keypoint_classifier.hdf5\n",
      "Epoch 117/1000\n",
      "55/55 [==============================] - 0s 3ms/step - loss: 0.6802 - accuracy: 0.7327 - val_loss: 0.3798 - val_accuracy: 0.9405\n",
      "\n",
      "Epoch 00117: saving model to model/keypoint_classifier\\keypoint_classifier.hdf5\n",
      "Epoch 118/1000\n",
      "55/55 [==============================] - 0s 4ms/step - loss: 0.6855 - accuracy: 0.7389 - val_loss: 0.3812 - val_accuracy: 0.9375\n",
      "\n",
      "Epoch 00118: saving model to model/keypoint_classifier\\keypoint_classifier.hdf5\n",
      "Epoch 119/1000\n",
      "55/55 [==============================] - 0s 6ms/step - loss: 0.6712 - accuracy: 0.7394 - val_loss: 0.3944 - val_accuracy: 0.9267\n",
      "\n",
      "Epoch 00119: saving model to model/keypoint_classifier\\keypoint_classifier.hdf5\n",
      "Epoch 120/1000\n",
      "55/55 [==============================] - 0s 3ms/step - loss: 0.6771 - accuracy: 0.7418 - val_loss: 0.3777 - val_accuracy: 0.9306\n",
      "\n",
      "Epoch 00120: saving model to model/keypoint_classifier\\keypoint_classifier.hdf5\n",
      "Epoch 121/1000\n",
      "55/55 [==============================] - 0s 5ms/step - loss: 0.6638 - accuracy: 0.7414 - val_loss: 0.3770 - val_accuracy: 0.9392\n",
      "\n",
      "Epoch 00121: saving model to model/keypoint_classifier\\keypoint_classifier.hdf5\n",
      "Epoch 00121: early stopping\n"
     ]
    },
    {
     "data": {
      "text/plain": [
       "<keras.callbacks.History at 0x17f0fe41e80>"
      ]
     },
     "execution_count": 135,
     "metadata": {},
     "output_type": "execute_result"
    }
   ],
   "source": [
    "model.fit(\n",
    "    X_train,\n",
    "    y_train,\n",
    "    epochs=1000,\n",
    "    batch_size=128,\n",
    "    validation_data=(X_test, y_test),\n",
    "    callbacks=[cp_callback, es_callback]\n",
    ")"
   ]
  },
  {
   "cell_type": "code",
   "execution_count": 136,
   "metadata": {
    "colab": {
     "base_uri": "https://localhost:8080/"
    },
    "id": "pxvb2Y299hE3",
    "outputId": "59eb3185-2e37-4b9e-bc9d-ab1b8ac29b7f"
   },
   "outputs": [
    {
     "name": "stdout",
     "output_type": "stream",
     "text": [
      "19/19 [==============================] - 0s 2ms/step - loss: 0.3770 - accuracy: 0.9392\n"
     ]
    }
   ],
   "source": [
    "# Model evaluation\n",
    "val_loss, val_acc = model.evaluate(X_test, y_test, batch_size=128)"
   ]
  },
  {
   "cell_type": "code",
   "execution_count": 137,
   "metadata": {
    "id": "RBkmDeUW9hE4"
   },
   "outputs": [],
   "source": [
    "# Loading the saved model\n",
    "model = tf.keras.models.load_model(model_save_path)"
   ]
  },
  {
   "cell_type": "code",
   "execution_count": 138,
   "metadata": {
    "colab": {
     "base_uri": "https://localhost:8080/"
    },
    "id": "tFz9Tb0I9hE4",
    "outputId": "1c3b3528-54ae-4ee2-ab04-77429211cbef"
   },
   "outputs": [
    {
     "name": "stdout",
     "output_type": "stream",
     "text": [
      "[0.15485708 0.12690188 0.67820966 0.02090419 0.01180719 0.00731998]\n",
      "2\n"
     ]
    }
   ],
   "source": [
    "# Inference test\n",
    "predict_result = model.predict(np.array([X_test[0]]))\n",
    "print(np.squeeze(predict_result))\n",
    "print(np.argmax(np.squeeze(predict_result)))"
   ]
  },
  {
   "cell_type": "markdown",
   "metadata": {
    "id": "S3U4yNWx9hE4"
   },
   "source": [
    "# Confusion matrix"
   ]
  },
  {
   "cell_type": "code",
   "execution_count": 139,
   "metadata": {
    "colab": {
     "base_uri": "https://localhost:8080/",
     "height": 582
    },
    "id": "AP1V6SCk9hE5",
    "outputId": "08e41a80-7a4a-4619-8125-ecc371368d19"
   },
   "outputs": [
    {
     "data": {
      "image/png": "[encoded data removed]",
      "text/plain": [
       "<Figure size 504x432 with 2 Axes>"
      ]
     },
     "metadata": {
      "needs_background": "light"
     },
     "output_type": "display_data"
    },
    {
     "name": "stdout",
     "output_type": "stream",
     "text": [
      "Classification Report\n",
      "              precision    recall  f1-score   support\n",
      "\n",
      "           0       0.94      0.96      0.95       719\n",
      "           1       0.97      0.94      0.96       531\n",
      "           2       0.88      0.96      0.92       329\n",
      "           3       0.92      0.88      0.90       363\n",
      "           4       0.98      0.91      0.94       148\n",
      "           5       0.97      0.98      0.98       229\n",
      "\n",
      "    accuracy                           0.94      2319\n",
      "   macro avg       0.94      0.94      0.94      2319\n",
      "weighted avg       0.94      0.94      0.94      2319\n",
      "\n"
     ]
    }
   ],
   "source": [
    "import pandas as pd\n",
    "import seaborn as sns\n",
    "import matplotlib.pyplot as plt\n",
    "from sklearn.metrics import confusion_matrix, classification_report\n",
    "\n",
    "def print_confusion_matrix(y_true, y_pred, report=True):\n",
    "    labels = sorted(list(set(y_true)))\n",
    "    cmx_data = confusion_matrix(y_true, y_pred, labels=labels)\n",
    "    \n",
    "    df_cmx = pd.DataFrame(cmx_data, index=labels, columns=labels)\n",
    " \n",
    "    fig, ax = plt.subplots(figsize=(7, 6))\n",
    "    sns.heatmap(df_cmx, annot=True, fmt='g' ,square=False)\n",
    "    ax.set_ylim(len(set(y_true)), 0)\n",
    "    plt.show()\n",
    "    \n",
    "    if report:\n",
    "        print('Classification Report')\n",
    "        print(classification_report(y_test, y_pred))\n",
    "\n",
    "Y_pred = model.predict(X_test)\n",
    "y_pred = np.argmax(Y_pred, axis=1)\n",
    "\n",
    "print_confusion_matrix(y_test, y_pred)"
   ]
  },
  {
   "cell_type": "markdown",
   "metadata": {
    "id": "FNP6aqzc9hE5"
   },
   "source": [
    "# Convert to model for Tensorflow-Lite"
   ]
  },
  {
   "cell_type": "code",
   "execution_count": 140,
   "metadata": {
    "id": "ODjnYyld9hE6"
   },
   "outputs": [],
   "source": [
    "# Save as a model dedicated to inference\n",
    "model.save(model_save_path, include_optimizer=False)"
   ]
  },
  {
   "cell_type": "code",
   "execution_count": 141,
   "metadata": {
    "colab": {
     "base_uri": "https://localhost:8080/"
    },
    "id": "zRfuK8Y59hE6",
    "outputId": "a4ca585c-b5d5-4244-8291-8674063209bb"
   },
   "outputs": [
    {
     "name": "stdout",
     "output_type": "stream",
     "text": [
      "INFO:tensorflow:Assets written to: C:\\Users\\Jeremy\\AppData\\Local\\Temp\\tmph_jxk0yf\\assets\n"
     ]
    },
    {
     "name": "stderr",
     "output_type": "stream",
     "text": [
      "INFO:tensorflow:Assets written to: C:\\Users\\Jeremy\\AppData\\Local\\Temp\\tmph_jxk0yf\\assets\n"
     ]
    },
    {
     "data": {
      "text/plain": [
       "6416"
      ]
     },
     "execution_count": 141,
     "metadata": {},
     "output_type": "execute_result"
    }
   ],
   "source": [
    "# Transform model (quantization)\n",
    "\n",
    "converter = tf.lite.TFLiteConverter.from_keras_model(model)\n",
    "converter.optimizations = [tf.lite.Optimize.DEFAULT]\n",
    "tflite_quantized_model = converter.convert()\n",
    "\n",
    "open(tflite_save_path, 'wb').write(tflite_quantized_model)"
   ]
  },
  {
   "cell_type": "markdown",
   "metadata": {
    "id": "CHBPBXdx9hE6"
   },
   "source": [
    "# Inference test"
   ]
  },
  {
   "cell_type": "code",
   "execution_count": 142,
   "metadata": {
    "id": "mGAzLocO9hE7"
   },
   "outputs": [],
   "source": [
    "interpreter = tf.lite.Interpreter(model_path=tflite_save_path)\n",
    "interpreter.allocate_tensors()"
   ]
  },
  {
   "cell_type": "code",
   "execution_count": 143,
   "metadata": {
    "id": "oQuDK8YS9hE7"
   },
   "outputs": [],
   "source": [
    "# Get I / O tensor\n",
    "input_details = interpreter.get_input_details()\n",
    "output_details = interpreter.get_output_details()"
   ]
  },
  {
   "cell_type": "code",
   "execution_count": 144,
   "metadata": {
    "id": "2_ixAf_l9hE7"
   },
   "outputs": [],
   "source": [
    "interpreter.set_tensor(input_details[0]['index'], np.array([X_test[0]]))"
   ]
  },
  {
   "cell_type": "code",
   "execution_count": 145,
   "metadata": {
    "colab": {
     "base_uri": "https://localhost:8080/"
    },
    "id": "s4FoAnuc9hE7",
    "outputId": "91f18257-8d8b-4ef3-c558-e9b5f94fabbf",
    "scrolled": true
   },
   "outputs": [
    {
     "name": "stdout",
     "output_type": "stream",
     "text": [
      "Wall time: 0 ns\n"
     ]
    }
   ],
   "source": [
    "%%time\n",
    "# Inference implementation\n",
    "interpreter.invoke()\n",
    "tflite_results = interpreter.get_tensor(output_details[0]['index'])"
   ]
  },
  {
   "cell_type": "code",
   "execution_count": 146,
   "metadata": {
    "colab": {
     "base_uri": "https://localhost:8080/"
    },
    "id": "vONjp19J9hE8",
    "outputId": "77205e24-fd00-42c4-f7b6-e06e527c2cba"
   },
   "outputs": [
    {
     "name": "stdout",
     "output_type": "stream",
     "text": [
      "[0.1548571  0.12690188 0.6782096  0.02090419 0.0118072  0.00731999]\n",
      "2\n"
     ]
    }
   ],
   "source": [
    "print(np.squeeze(tflite_results))\n",
    "print(np.argmax(np.squeeze(tflite_results)))"
   ]
  },
  {
   "cell_type": "code",
   "execution_count": null,
   "metadata": {},
   "outputs": [],
   "source": []
  },
  {
   "cell_type": "code",
   "execution_count": null,
   "metadata": {},
   "outputs": [],
   "source": []
  }
 ],
 "metadata": {
  "accelerator": "GPU",
  "colab": {
   "collapsed_sections": [],
   "name": "keypoint_classification_EN.ipynb",
   "provenance": [],
   "toc_visible": true
  },
  "kernelspec": {
   "display_name": "Python 3 (ipykernel)",
   "language": "python",
   "name": "python3"
  },
  "language_info": {
   "codemirror_mode": {
    "name": "ipython",
    "version": 3
   },
   "file_extension": ".py",
   "mimetype": "text/x-python",
   "name": "python",
   "nbconvert_exporter": "python",
   "pygments_lexer": "ipython3",
   "version": "3.8.0"
  }
 },
 "nbformat": 4,
 "nbformat_minor": 1
}
