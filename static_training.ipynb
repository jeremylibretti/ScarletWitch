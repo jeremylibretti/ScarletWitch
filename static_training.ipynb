{
 "cells": [
  {
   "cell_type": "code",
   "execution_count": 38,
   "metadata": {
    "id": "igMyGnjE9hEp"
   },
   "outputs": [],
   "source": [
    "import csv\n",
    "\n",
    "import numpy as np\n",
    "import tensorflow as tf\n",
    "from sklearn.model_selection import train_test_split\n",
    "from tensorflow.keras.utils import to_categorical\n",
    "\n",
    "RANDOM_SEED = 42"
   ]
  },
  {
   "cell_type": "markdown",
   "metadata": {
    "id": "t2HDvhIu9hEr"
   },
   "source": [
    "# Specify each path"
   ]
  },
  {
   "cell_type": "code",
   "execution_count": 39,
   "metadata": {
    "id": "9NvZP2Zn9hEy"
   },
   "outputs": [],
   "source": [
    "dataset = 'model/static_classifier/static_data.csv'\n",
    "model_save_path = 'model/static_classifier/static_classifier.hdf5'\n",
    "tflite_save_path = 'model/static_classifier/static_classifier.tflite'"
   ]
  },
  {
   "cell_type": "markdown",
   "metadata": {
    "id": "s5oMH7x19hEz"
   },
   "source": [
    "# Set number of classes"
   ]
  },
  {
   "cell_type": "code",
   "execution_count": 40,
   "metadata": {
    "id": "du4kodXL9hEz"
   },
   "outputs": [],
   "source": [
    "NUM_CLASSES = 6"
   ]
  },
  {
   "cell_type": "markdown",
   "metadata": {
    "id": "XjnL0uso9hEz"
   },
   "source": [
    "# Dataset reading"
   ]
  },
  {
   "cell_type": "code",
   "execution_count": 41,
   "metadata": {},
   "outputs": [],
   "source": [
    "static_gestures = [\n",
    "    'open',\n",
    "    'closed',\n",
    "    'pointer',\n",
    "    'ok',\n",
    "    'peace',\n",
    "    'thumbs up'\n",
    "]\n",
    "\n",
    "data = np.concatenate([\n",
    "    np.load('dataset/raw_closed_1632795128.npy'),\n",
    "    np.load('dataset/raw_ok_1632795128.npy'),\n",
    "    np.load('dataset/raw_open_1632795128.npy'),\n",
    "    np.load('dataset/raw_peace_1632795128.npy'),\n",
    "    np.load('dataset/raw_pointer_1632795128.npy'),\n",
    "    np.load('dataset/raw_thumbs up_1632795128.npy')\n",
    "], axis=0)"
   ]
  },
  {
   "cell_type": "code",
   "execution_count": 42,
   "metadata": {
    "id": "QT5ZqtEz9hE0"
   },
   "outputs": [
    {
     "data": {
      "text/plain": [
       "(1226, 99)"
      ]
     },
     "execution_count": 42,
     "metadata": {},
     "output_type": "execute_result"
    }
   ],
   "source": [
    "X_dataset = data[:, :-1]\n",
    "X_dataset.shape"
   ]
  },
  {
   "cell_type": "code",
   "execution_count": 43,
   "metadata": {
    "id": "QmoKFsp49hE0"
   },
   "outputs": [
    {
     "data": {
      "text/plain": [
       "(1226, 6)"
      ]
     },
     "execution_count": 43,
     "metadata": {},
     "output_type": "execute_result"
    }
   ],
   "source": [
    "labels = data[:, -1]\n",
    "y_dataset = to_categorical(labels, num_classes=len(static_gestures))\n",
    "y_dataset.shape"
   ]
  },
  {
   "cell_type": "code",
   "execution_count": 44,
   "metadata": {
    "id": "xQU7JTZ_9hE0"
   },
   "outputs": [
    {
     "name": "stdout",
     "output_type": "stream",
     "text": [
      "(919, 99)\n",
      "(919, 6)\n"
     ]
    }
   ],
   "source": [
    "X_train, X_test, y_train, y_test = train_test_split(X_dataset, y_dataset, train_size=0.75, random_state=RANDOM_SEED)\n",
    "print(X_train.shape)\n",
    "print(y_train.shape)"
   ]
  },
  {
   "cell_type": "markdown",
   "metadata": {
    "id": "mxK_lETT9hE0"
   },
   "source": [
    "# Model building"
   ]
  },
  {
   "cell_type": "code",
   "execution_count": 45,
   "metadata": {
    "id": "vHBmUf1t9hE1"
   },
   "outputs": [],
   "source": [
    "model = tf.keras.models.Sequential([\n",
    "    tf.keras.layers.Input((99, )),\n",
    "    tf.keras.layers.Dropout(0.2),\n",
    "    tf.keras.layers.Dense(40, activation='relu'),\n",
    "    tf.keras.layers.Dropout(0.4),\n",
    "    tf.keras.layers.Dense(20, activation='relu'),\n",
    "    tf.keras.layers.Dense(NUM_CLASSES, activation='softmax')\n",
    "])"
   ]
  },
  {
   "cell_type": "code",
   "execution_count": 46,
   "metadata": {
    "colab": {
     "base_uri": "https://localhost:8080/"
    },
    "id": "ypqky9tc9hE1",
    "outputId": "5db082bb-30e3-4110-bf63-a1ee777ecd46"
   },
   "outputs": [
    {
     "name": "stdout",
     "output_type": "stream",
     "text": [
      "Model: \"sequential_3\"\n",
      "_________________________________________________________________\n",
      "Layer (type)                 Output Shape              Param #   \n",
      "=================================================================\n",
      "dropout_6 (Dropout)          (None, 99)                0         \n",
      "_________________________________________________________________\n",
      "dense_9 (Dense)              (None, 40)                4000      \n",
      "_________________________________________________________________\n",
      "dropout_7 (Dropout)          (None, 40)                0         \n",
      "_________________________________________________________________\n",
      "dense_10 (Dense)             (None, 20)                820       \n",
      "_________________________________________________________________\n",
      "dense_11 (Dense)             (None, 6)                 126       \n",
      "=================================================================\n",
      "Total params: 4,946\n",
      "Trainable params: 4,946\n",
      "Non-trainable params: 0\n",
      "_________________________________________________________________\n"
     ]
    }
   ],
   "source": [
    "model.summary()  # tf.keras.utils.plot_model(model, show_shapes=True)"
   ]
  },
  {
   "cell_type": "code",
   "execution_count": 47,
   "metadata": {
    "id": "MbMjOflQ9hE1"
   },
   "outputs": [],
   "source": [
    "# Model checkpoint callback\n",
    "cp_callback = tf.keras.callbacks.ModelCheckpoint(\n",
    "    model_save_path, verbose=1, save_weights_only=False)\n",
    "# Callback for early stopping\n",
    "es_callback = tf.keras.callbacks.EarlyStopping(patience=20, verbose=1)"
   ]
  },
  {
   "cell_type": "code",
   "execution_count": 48,
   "metadata": {
    "id": "c3Dac0M_9hE2"
   },
   "outputs": [],
   "source": [
    "# Model compilation\n",
    "model.compile(\n",
    "    optimizer='adam',\n",
    "    loss='categorical_crossentropy',\n",
    "    metrics=['accuracy']\n",
    ")"
   ]
  },
  {
   "cell_type": "markdown",
   "metadata": {
    "id": "7XI0j1Iu9hE2"
   },
   "source": [
    "# Model training"
   ]
  },
  {
   "cell_type": "code",
   "execution_count": 49,
   "metadata": {
    "colab": {
     "base_uri": "https://localhost:8080/"
    },
    "id": "WirBl-JE9hE3",
    "outputId": "71b30ca2-8294-4d9d-8aa2-800d90d399de",
    "scrolled": true
   },
   "outputs": [
    {
     "name": "stdout",
     "output_type": "stream",
     "text": [
      "Epoch 1/1000\n",
      "8/8 [==============================] - 0s 22ms/step - loss: 26.6962 - accuracy: 0.2331 - val_loss: 12.3250 - val_accuracy: 0.2443\n",
      "\n",
      "Epoch 00001: saving model to model/static_classifier\\static_classifier.hdf5\n",
      "Epoch 2/1000\n",
      "8/8 [==============================] - 0s 5ms/step - loss: 19.8192 - accuracy: 0.2300 - val_loss: 10.0050 - val_accuracy: 0.2052\n",
      "\n",
      "Epoch 00002: saving model to model/static_classifier\\static_classifier.hdf5\n",
      "Epoch 3/1000\n",
      "8/8 [==============================] - 0s 5ms/step - loss: 14.1248 - accuracy: 0.2490 - val_loss: 6.5632 - val_accuracy: 0.2182\n",
      "\n",
      "Epoch 00003: saving model to model/static_classifier\\static_classifier.hdf5\n",
      "Epoch 4/1000\n",
      "8/8 [==============================] - 0s 5ms/step - loss: 12.4112 - accuracy: 0.2318 - val_loss: 4.3669 - val_accuracy: 0.2671\n",
      "\n",
      "Epoch 00004: saving model to model/static_classifier\\static_classifier.hdf5\n",
      "Epoch 5/1000\n",
      "8/8 [==============================] - 0s 5ms/step - loss: 8.7608 - accuracy: 0.2997 - val_loss: 3.0339 - val_accuracy: 0.3290\n",
      "\n",
      "Epoch 00005: saving model to model/static_classifier\\static_classifier.hdf5\n",
      "Epoch 6/1000\n",
      "8/8 [==============================] - 0s 5ms/step - loss: 7.0070 - accuracy: 0.3215 - val_loss: 2.2531 - val_accuracy: 0.4137\n",
      "\n",
      "Epoch 00006: saving model to model/static_classifier\\static_classifier.hdf5\n",
      "Epoch 7/1000\n",
      "8/8 [==============================] - 0s 4ms/step - loss: 5.3295 - accuracy: 0.3547 - val_loss: 1.6780 - val_accuracy: 0.5440\n",
      "\n",
      "Epoch 00007: saving model to model/static_classifier\\static_classifier.hdf5\n",
      "Epoch 8/1000\n",
      "8/8 [==============================] - 0s 4ms/step - loss: 5.1826 - accuracy: 0.3856 - val_loss: 1.2678 - val_accuracy: 0.6580\n",
      "\n",
      "Epoch 00008: saving model to model/static_classifier\\static_classifier.hdf5\n",
      "Epoch 9/1000\n",
      "8/8 [==============================] - 0s 5ms/step - loss: 4.1202 - accuracy: 0.4273 - val_loss: 0.9611 - val_accuracy: 0.7394\n",
      "\n",
      "Epoch 00009: saving model to model/static_classifier\\static_classifier.hdf5\n",
      "Epoch 10/1000\n",
      "8/8 [==============================] - 0s 4ms/step - loss: 3.7227 - accuracy: 0.4235 - val_loss: 0.8127 - val_accuracy: 0.8046\n",
      "\n",
      "Epoch 00010: saving model to model/static_classifier\\static_classifier.hdf5\n",
      "Epoch 11/1000\n",
      "8/8 [==============================] - 0s 5ms/step - loss: 3.1599 - accuracy: 0.4631 - val_loss: 0.7816 - val_accuracy: 0.8046\n",
      "\n",
      "Epoch 00011: saving model to model/static_classifier\\static_classifier.hdf5\n",
      "Epoch 12/1000\n",
      "8/8 [==============================] - 0s 4ms/step - loss: 2.8467 - accuracy: 0.5110 - val_loss: 0.7538 - val_accuracy: 0.8241\n",
      "\n",
      "Epoch 00012: saving model to model/static_classifier\\static_classifier.hdf5\n",
      "Epoch 13/1000\n",
      "8/8 [==============================] - 0s 5ms/step - loss: 2.2199 - accuracy: 0.5541 - val_loss: 0.6870 - val_accuracy: 0.8436\n",
      "\n",
      "Epoch 00013: saving model to model/static_classifier\\static_classifier.hdf5\n",
      "Epoch 14/1000\n",
      "8/8 [==============================] - 0s 4ms/step - loss: 2.1034 - accuracy: 0.5419 - val_loss: 0.6261 - val_accuracy: 0.8599\n",
      "\n",
      "Epoch 00014: saving model to model/static_classifier\\static_classifier.hdf5\n",
      "Epoch 15/1000\n",
      "8/8 [==============================] - 0s 4ms/step - loss: 2.2183 - accuracy: 0.5554 - val_loss: 0.6087 - val_accuracy: 0.8534\n",
      "\n",
      "Epoch 00015: saving model to model/static_classifier\\static_classifier.hdf5\n",
      "Epoch 16/1000\n",
      "8/8 [==============================] - 0s 4ms/step - loss: 2.0360 - accuracy: 0.5605 - val_loss: 0.5936 - val_accuracy: 0.8436\n",
      "\n",
      "Epoch 00016: saving model to model/static_classifier\\static_classifier.hdf5\n",
      "Epoch 17/1000\n",
      "8/8 [==============================] - 0s 4ms/step - loss: 1.7576 - accuracy: 0.6034 - val_loss: 0.5467 - val_accuracy: 0.8502\n",
      "\n",
      "Epoch 00017: saving model to model/static_classifier\\static_classifier.hdf5\n",
      "Epoch 18/1000\n",
      "8/8 [==============================] - 0s 4ms/step - loss: 1.6869 - accuracy: 0.6023 - val_loss: 0.5175 - val_accuracy: 0.8697\n",
      "\n",
      "Epoch 00018: saving model to model/static_classifier\\static_classifier.hdf5\n",
      "Epoch 19/1000\n",
      "8/8 [==============================] - 0s 5ms/step - loss: 1.6912 - accuracy: 0.5809 - val_loss: 0.5156 - val_accuracy: 0.8664\n",
      "\n",
      "Epoch 00019: saving model to model/static_classifier\\static_classifier.hdf5\n",
      "Epoch 20/1000\n",
      "8/8 [==============================] - 0s 4ms/step - loss: 1.7098 - accuracy: 0.5800 - val_loss: 0.4984 - val_accuracy: 0.8893\n",
      "\n",
      "Epoch 00020: saving model to model/static_classifier\\static_classifier.hdf5\n",
      "Epoch 21/1000\n",
      "8/8 [==============================] - 0s 4ms/step - loss: 1.5627 - accuracy: 0.6077 - val_loss: 0.4827 - val_accuracy: 0.8925\n",
      "\n",
      "Epoch 00021: saving model to model/static_classifier\\static_classifier.hdf5\n",
      "Epoch 22/1000\n",
      "8/8 [==============================] - 0s 4ms/step - loss: 1.4532 - accuracy: 0.6107 - val_loss: 0.4667 - val_accuracy: 0.9055\n",
      "\n",
      "Epoch 00022: saving model to model/static_classifier\\static_classifier.hdf5\n",
      "Epoch 23/1000\n",
      "8/8 [==============================] - 0s 5ms/step - loss: 1.4127 - accuracy: 0.6101 - val_loss: 0.4728 - val_accuracy: 0.9121\n",
      "\n",
      "Epoch 00023: saving model to model/static_classifier\\static_classifier.hdf5\n",
      "Epoch 24/1000\n",
      "8/8 [==============================] - 0s 4ms/step - loss: 1.4135 - accuracy: 0.6145 - val_loss: 0.4893 - val_accuracy: 0.8990\n",
      "\n",
      "Epoch 00024: saving model to model/static_classifier\\static_classifier.hdf5\n",
      "Epoch 25/1000\n",
      "8/8 [==============================] - 0s 5ms/step - loss: 1.2229 - accuracy: 0.6713 - val_loss: 0.5020 - val_accuracy: 0.8990\n",
      "\n",
      "Epoch 00025: saving model to model/static_classifier\\static_classifier.hdf5\n",
      "Epoch 26/1000\n",
      "8/8 [==============================] - 0s 13ms/step - loss: 1.2708 - accuracy: 0.6511 - val_loss: 0.5197 - val_accuracy: 0.8958\n",
      "\n",
      "Epoch 00026: saving model to model/static_classifier\\static_classifier.hdf5\n",
      "Epoch 27/1000\n",
      "8/8 [==============================] - 0s 5ms/step - loss: 1.3687 - accuracy: 0.6217 - val_loss: 0.5292 - val_accuracy: 0.8925\n",
      "\n",
      "Epoch 00027: saving model to model/static_classifier\\static_classifier.hdf5\n",
      "Epoch 28/1000\n",
      "8/8 [==============================] - 0s 4ms/step - loss: 1.2610 - accuracy: 0.6318 - val_loss: 0.5320 - val_accuracy: 0.8893\n",
      "\n",
      "Epoch 00028: saving model to model/static_classifier\\static_classifier.hdf5\n",
      "Epoch 29/1000\n",
      "8/8 [==============================] - 0s 5ms/step - loss: 1.1043 - accuracy: 0.6714 - val_loss: 0.5279 - val_accuracy: 0.8990\n",
      "\n",
      "Epoch 00029: saving model to model/static_classifier\\static_classifier.hdf5\n",
      "Epoch 30/1000\n",
      "8/8 [==============================] - 0s 5ms/step - loss: 1.0925 - accuracy: 0.6632 - val_loss: 0.5342 - val_accuracy: 0.9055\n",
      "\n",
      "Epoch 00030: saving model to model/static_classifier\\static_classifier.hdf5\n",
      "Epoch 31/1000\n",
      "8/8 [==============================] - 0s 5ms/step - loss: 1.2042 - accuracy: 0.6734 - val_loss: 0.5404 - val_accuracy: 0.8990\n",
      "\n",
      "Epoch 00031: saving model to model/static_classifier\\static_classifier.hdf5\n",
      "Epoch 32/1000\n",
      "8/8 [==============================] - 0s 4ms/step - loss: 1.0877 - accuracy: 0.6746 - val_loss: 0.5320 - val_accuracy: 0.8925\n",
      "\n",
      "Epoch 00032: saving model to model/static_classifier\\static_classifier.hdf5\n",
      "Epoch 33/1000\n",
      "8/8 [==============================] - 0s 5ms/step - loss: 1.0328 - accuracy: 0.6960 - val_loss: 0.5201 - val_accuracy: 0.8893\n",
      "\n",
      "Epoch 00033: saving model to model/static_classifier\\static_classifier.hdf5\n",
      "Epoch 34/1000\n",
      "8/8 [==============================] - 0s 4ms/step - loss: 1.1367 - accuracy: 0.6476 - val_loss: 0.5121 - val_accuracy: 0.8893\n",
      "\n",
      "Epoch 00034: saving model to model/static_classifier\\static_classifier.hdf5\n",
      "Epoch 35/1000\n",
      "8/8 [==============================] - 0s 4ms/step - loss: 1.0441 - accuracy: 0.6845 - val_loss: 0.5064 - val_accuracy: 0.9088\n",
      "\n",
      "Epoch 00035: saving model to model/static_classifier\\static_classifier.hdf5\n",
      "Epoch 36/1000\n",
      "8/8 [==============================] - 0s 4ms/step - loss: 0.9434 - accuracy: 0.7185 - val_loss: 0.4984 - val_accuracy: 0.9055\n",
      "\n",
      "Epoch 00036: saving model to model/static_classifier\\static_classifier.hdf5\n",
      "Epoch 37/1000\n",
      "8/8 [==============================] - 0s 4ms/step - loss: 0.9560 - accuracy: 0.6919 - val_loss: 0.4943 - val_accuracy: 0.9055\n",
      "\n",
      "Epoch 00037: saving model to model/static_classifier\\static_classifier.hdf5\n",
      "Epoch 38/1000\n",
      "8/8 [==============================] - 0s 4ms/step - loss: 1.1290 - accuracy: 0.6562 - val_loss: 0.4912 - val_accuracy: 0.8958\n"
     ]
    },
    {
     "name": "stdout",
     "output_type": "stream",
     "text": [
      "\n",
      "Epoch 00038: saving model to model/static_classifier\\static_classifier.hdf5\n",
      "Epoch 39/1000\n",
      "8/8 [==============================] - 0s 5ms/step - loss: 0.9996 - accuracy: 0.6867 - val_loss: 0.5011 - val_accuracy: 0.9055\n",
      "\n",
      "Epoch 00039: saving model to model/static_classifier\\static_classifier.hdf5\n",
      "Epoch 40/1000\n",
      "8/8 [==============================] - 0s 4ms/step - loss: 1.0177 - accuracy: 0.6743 - val_loss: 0.5105 - val_accuracy: 0.9088\n",
      "\n",
      "Epoch 00040: saving model to model/static_classifier\\static_classifier.hdf5\n",
      "Epoch 41/1000\n",
      "8/8 [==============================] - 0s 4ms/step - loss: 0.9909 - accuracy: 0.6782 - val_loss: 0.5155 - val_accuracy: 0.9153\n",
      "\n",
      "Epoch 00041: saving model to model/static_classifier\\static_classifier.hdf5\n",
      "Epoch 42/1000\n",
      "8/8 [==============================] - 0s 4ms/step - loss: 0.8897 - accuracy: 0.7240 - val_loss: 0.5103 - val_accuracy: 0.9153\n",
      "\n",
      "Epoch 00042: saving model to model/static_classifier\\static_classifier.hdf5\n",
      "Epoch 00042: early stopping\n"
     ]
    },
    {
     "data": {
      "text/plain": [
       "<tensorflow.python.keras.callbacks.History at 0x1b7ca82be20>"
      ]
     },
     "execution_count": 49,
     "metadata": {},
     "output_type": "execute_result"
    }
   ],
   "source": [
    "model.fit(\n",
    "    X_train,\n",
    "    y_train,\n",
    "    epochs=1000,\n",
    "    batch_size=128,\n",
    "    validation_data=(X_test, y_test),\n",
    "    callbacks=[cp_callback, es_callback]\n",
    ")"
   ]
  },
  {
   "cell_type": "code",
   "execution_count": 50,
   "metadata": {
    "colab": {
     "base_uri": "https://localhost:8080/"
    },
    "id": "pxvb2Y299hE3",
    "outputId": "59eb3185-2e37-4b9e-bc9d-ab1b8ac29b7f"
   },
   "outputs": [
    {
     "name": "stdout",
     "output_type": "stream",
     "text": [
      "3/3 [==============================] - 0s 997us/step - loss: 0.5103 - accuracy: 0.9153\n"
     ]
    }
   ],
   "source": [
    "# Model evaluation\n",
    "val_loss, val_acc = model.evaluate(X_test, y_test, batch_size=128)"
   ]
  },
  {
   "cell_type": "code",
   "execution_count": 51,
   "metadata": {
    "id": "RBkmDeUW9hE4"
   },
   "outputs": [],
   "source": [
    "# Loading the saved model\n",
    "model = tf.keras.models.load_model(model_save_path)"
   ]
  },
  {
   "cell_type": "code",
   "execution_count": 52,
   "metadata": {
    "colab": {
     "base_uri": "https://localhost:8080/"
    },
    "id": "tFz9Tb0I9hE4",
    "outputId": "1c3b3528-54ae-4ee2-ab04-77429211cbef"
   },
   "outputs": [
    {
     "name": "stdout",
     "output_type": "stream",
     "text": [
      "[0.7916097  0.01725816 0.10347933 0.03418686 0.04261157 0.01085438]\n",
      "0\n"
     ]
    }
   ],
   "source": [
    "# Inference test\n",
    "predict_result = model.predict(np.array([X_test[0]]))\n",
    "print(np.squeeze(predict_result))\n",
    "print(np.argmax(np.squeeze(predict_result)))"
   ]
  },
  {
   "cell_type": "markdown",
   "metadata": {
    "id": "S3U4yNWx9hE4"
   },
   "source": [
    "# Confusion matrix"
   ]
  },
  {
   "cell_type": "code",
   "execution_count": 55,
   "metadata": {
    "colab": {
     "base_uri": "https://localhost:8080/",
     "height": 582
    },
    "id": "AP1V6SCk9hE5",
    "outputId": "08e41a80-7a4a-4619-8125-ecc371368d19"
   },
   "outputs": [
    {
     "ename": "TypeError",
     "evalue": "unhashable type: 'numpy.ndarray'",
     "output_type": "error",
     "traceback": [
      "\u001b[1;31m---------------------------------------------------------------------------\u001b[0m",
      "\u001b[1;31mTypeError\u001b[0m                                 Traceback (most recent call last)",
      "\u001b[1;32m~\\AppData\\Local\\Temp/ipykernel_23992/423758217.py\u001b[0m in \u001b[0;36m<module>\u001b[1;34m\u001b[0m\n\u001b[0;32m     22\u001b[0m \u001b[0my_pred\u001b[0m \u001b[1;33m=\u001b[0m \u001b[0mnp\u001b[0m\u001b[1;33m.\u001b[0m\u001b[0margmax\u001b[0m\u001b[1;33m(\u001b[0m\u001b[0mY_pred\u001b[0m\u001b[1;33m,\u001b[0m \u001b[0maxis\u001b[0m\u001b[1;33m=\u001b[0m\u001b[1;36m1\u001b[0m\u001b[1;33m)\u001b[0m\u001b[1;33m\u001b[0m\u001b[1;33m\u001b[0m\u001b[0m\n\u001b[0;32m     23\u001b[0m \u001b[1;33m\u001b[0m\u001b[0m\n\u001b[1;32m---> 24\u001b[1;33m \u001b[0mprint_confusion_matrix\u001b[0m\u001b[1;33m(\u001b[0m\u001b[0my_test\u001b[0m\u001b[1;33m,\u001b[0m \u001b[0my_pred\u001b[0m\u001b[1;33m)\u001b[0m\u001b[1;33m\u001b[0m\u001b[1;33m\u001b[0m\u001b[0m\n\u001b[0m",
      "\u001b[1;32m~\\AppData\\Local\\Temp/ipykernel_23992/423758217.py\u001b[0m in \u001b[0;36mprint_confusion_matrix\u001b[1;34m(y_true, y_pred, report)\u001b[0m\n\u001b[0;32m      5\u001b[0m \u001b[1;33m\u001b[0m\u001b[0m\n\u001b[0;32m      6\u001b[0m \u001b[1;32mdef\u001b[0m \u001b[0mprint_confusion_matrix\u001b[0m\u001b[1;33m(\u001b[0m\u001b[0my_true\u001b[0m\u001b[1;33m,\u001b[0m \u001b[0my_pred\u001b[0m\u001b[1;33m,\u001b[0m \u001b[0mreport\u001b[0m\u001b[1;33m=\u001b[0m\u001b[1;32mTrue\u001b[0m\u001b[1;33m)\u001b[0m\u001b[1;33m:\u001b[0m\u001b[1;33m\u001b[0m\u001b[1;33m\u001b[0m\u001b[0m\n\u001b[1;32m----> 7\u001b[1;33m     \u001b[0mlabels\u001b[0m \u001b[1;33m=\u001b[0m \u001b[0msorted\u001b[0m\u001b[1;33m(\u001b[0m\u001b[0mlist\u001b[0m\u001b[1;33m(\u001b[0m\u001b[0mset\u001b[0m\u001b[1;33m(\u001b[0m\u001b[0my_true\u001b[0m\u001b[1;33m)\u001b[0m\u001b[1;33m)\u001b[0m\u001b[1;33m)\u001b[0m\u001b[1;33m\u001b[0m\u001b[1;33m\u001b[0m\u001b[0m\n\u001b[0m\u001b[0;32m      8\u001b[0m     \u001b[0mcmx_data\u001b[0m \u001b[1;33m=\u001b[0m \u001b[0mconfusion_matrix\u001b[0m\u001b[1;33m(\u001b[0m\u001b[0my_true\u001b[0m\u001b[1;33m,\u001b[0m \u001b[0my_pred\u001b[0m\u001b[1;33m,\u001b[0m \u001b[0mlabels\u001b[0m\u001b[1;33m=\u001b[0m\u001b[0mlabels\u001b[0m\u001b[1;33m)\u001b[0m\u001b[1;33m\u001b[0m\u001b[1;33m\u001b[0m\u001b[0m\n\u001b[0;32m      9\u001b[0m \u001b[1;33m\u001b[0m\u001b[0m\n",
      "\u001b[1;31mTypeError\u001b[0m: unhashable type: 'numpy.ndarray'"
     ]
    }
   ],
   "source": [
    "import pandas as pd\n",
    "import seaborn as sns\n",
    "import matplotlib.pyplot as plt\n",
    "from sklearn.metrics import confusion_matrix, classification_report\n",
    "\n",
    "def print_confusion_matrix(y_true, y_pred, report=True):\n",
    "    labels = sorted(list(set(y_true)))\n",
    "    cmx_data = confusion_matrix(y_true, y_pred, labels=labels)\n",
    "    \n",
    "    df_cmx = pd.DataFrame(cmx_data, index=labels, columns=labels)\n",
    " \n",
    "    fig, ax = plt.subplots(figsize=(7, 6))\n",
    "    sns.heatmap(df_cmx, annot=True, fmt='g' ,square=False)\n",
    "    ax.set_ylim(len(set(y_true)), 0)\n",
    "    plt.show()\n",
    "    \n",
    "    if report:\n",
    "        print('Classification Report')\n",
    "        print(classification_report(y_test, y_pred))\n",
    "\n",
    "Y_pred = model.predict(X_test)\n",
    "y_pred = np.argmax(Y_pred, axis=1)\n",
    "\n",
    "print_confusion_matrix(y_test, y_pred)"
   ]
  },
  {
   "cell_type": "markdown",
   "metadata": {
    "id": "FNP6aqzc9hE5"
   },
   "source": [
    "# Convert to model for Tensorflow-Lite"
   ]
  },
  {
   "cell_type": "code",
   "execution_count": 56,
   "metadata": {
    "id": "ODjnYyld9hE6"
   },
   "outputs": [],
   "source": [
    "# Save as a model dedicated to inference\n",
    "model.save(model_save_path, include_optimizer=False)"
   ]
  },
  {
   "cell_type": "code",
   "execution_count": 57,
   "metadata": {
    "colab": {
     "base_uri": "https://localhost:8080/"
    },
    "id": "zRfuK8Y59hE6",
    "outputId": "a4ca585c-b5d5-4244-8291-8674063209bb"
   },
   "outputs": [
    {
     "name": "stdout",
     "output_type": "stream",
     "text": [
      "INFO:tensorflow:Assets written to: C:\\Users\\jerem\\AppData\\Local\\Temp\\tmp4aw7pp4g\\assets\n"
     ]
    },
    {
     "data": {
      "text/plain": [
       "9936"
      ]
     },
     "execution_count": 57,
     "metadata": {},
     "output_type": "execute_result"
    }
   ],
   "source": [
    "# Transform model (quantization)\n",
    "\n",
    "converter = tf.lite.TFLiteConverter.from_keras_model(model)\n",
    "converter.optimizations = [tf.lite.Optimize.DEFAULT]\n",
    "tflite_quantized_model = converter.convert()\n",
    "\n",
    "open(tflite_save_path, 'wb').write(tflite_quantized_model)"
   ]
  },
  {
   "cell_type": "markdown",
   "metadata": {
    "id": "CHBPBXdx9hE6"
   },
   "source": [
    "# Inference test"
   ]
  },
  {
   "cell_type": "code",
   "execution_count": 142,
   "metadata": {
    "id": "mGAzLocO9hE7"
   },
   "outputs": [],
   "source": [
    "interpreter = tf.lite.Interpreter(model_path=tflite_save_path)\n",
    "interpreter.allocate_tensors()"
   ]
  },
  {
   "cell_type": "code",
   "execution_count": 143,
   "metadata": {
    "id": "oQuDK8YS9hE7"
   },
   "outputs": [],
   "source": [
    "# Get I / O tensor\n",
    "input_details = interpreter.get_input_details()\n",
    "output_details = interpreter.get_output_details()"
   ]
  },
  {
   "cell_type": "code",
   "execution_count": 144,
   "metadata": {
    "id": "2_ixAf_l9hE7"
   },
   "outputs": [],
   "source": [
    "interpreter.set_tensor(input_details[0]['index'], np.array([X_test[0]]))"
   ]
  },
  {
   "cell_type": "code",
   "execution_count": 145,
   "metadata": {
    "colab": {
     "base_uri": "https://localhost:8080/"
    },
    "id": "s4FoAnuc9hE7",
    "outputId": "91f18257-8d8b-4ef3-c558-e9b5f94fabbf",
    "scrolled": true
   },
   "outputs": [
    {
     "name": "stdout",
     "output_type": "stream",
     "text": [
      "Wall time: 0 ns\n"
     ]
    }
   ],
   "source": [
    "%%time\n",
    "# Inference implementation\n",
    "interpreter.invoke()\n",
    "tflite_results = interpreter.get_tensor(output_details[0]['index'])"
   ]
  },
  {
   "cell_type": "code",
   "execution_count": 146,
   "metadata": {
    "colab": {
     "base_uri": "https://localhost:8080/"
    },
    "id": "vONjp19J9hE8",
    "outputId": "77205e24-fd00-42c4-f7b6-e06e527c2cba"
   },
   "outputs": [
    {
     "name": "stdout",
     "output_type": "stream",
     "text": [
      "[0.1548571  0.12690188 0.6782096  0.02090419 0.0118072  0.00731999]\n",
      "2\n"
     ]
    }
   ],
   "source": [
    "print(np.squeeze(tflite_results))\n",
    "print(np.argmax(np.squeeze(tflite_results)))"
   ]
  },
  {
   "cell_type": "code",
   "execution_count": null,
   "metadata": {},
   "outputs": [],
   "source": []
  },
  {
   "cell_type": "code",
   "execution_count": null,
   "metadata": {},
   "outputs": [],
   "source": []
  }
 ],
 "metadata": {
  "accelerator": "GPU",
  "colab": {
   "collapsed_sections": [],
   "name": "keypoint_classification_EN.ipynb",
   "provenance": [],
   "toc_visible": true
  },
  "kernelspec": {
   "display_name": "Python 3 (ipykernel)",
   "language": "python",
   "name": "python3"
  },
  "language_info": {
   "codemirror_mode": {
    "name": "ipython",
    "version": 3
   },
   "file_extension": ".py",
   "mimetype": "text/x-python",
   "name": "python",
   "nbconvert_exporter": "python",
   "pygments_lexer": "ipython3",
   "version": "3.8.0"
  }
 },
 "nbformat": 4,
 "nbformat_minor": 1
}
